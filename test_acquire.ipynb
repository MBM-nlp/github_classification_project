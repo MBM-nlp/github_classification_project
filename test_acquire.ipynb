{
 "cells": [
  {
   "cell_type": "code",
   "execution_count": 1,
   "id": "0100ab81",
   "metadata": {
    "ExecuteTime": {
     "end_time": "2022-09-02T17:55:14.131994Z",
     "start_time": "2022-09-02T17:55:13.655018Z"
    }
   },
   "outputs": [],
   "source": [
    "import numpy as np\n",
    "import pandas as pd\n",
    "import acquire\n",
    "\n",
    "import os\n",
    "import json\n",
    "from typing import Dict, List, Optional, Union, cast\n",
    "import requests\n",
    "import time\n",
    "from bs4 import BeautifulSoup as BSoup\n",
    "\n",
    "from env import github_token, github_username"
   ]
  },
  {
   "cell_type": "code",
   "execution_count": 2,
   "id": "f877ddde",
   "metadata": {
    "ExecuteTime": {
     "end_time": "2022-09-02T17:55:14.139046Z",
     "start_time": "2022-09-02T17:55:14.132943Z"
    }
   },
   "outputs": [
    {
     "name": "stdout",
     "output_type": "stream",
     "text": [
      "Reading data from cache\n"
     ]
    }
   ],
   "source": [
    "data = acquire.get_repo_data()"
   ]
  },
  {
   "cell_type": "code",
   "execution_count": 3,
   "id": "f876843c",
   "metadata": {
    "ExecuteTime": {
     "end_time": "2022-09-02T17:55:31.968031Z",
     "start_time": "2022-09-02T17:55:31.942772Z"
    }
   },
   "outputs": [
    {
     "data": {
      "text/html": [
       "<div>\n",
       "<style scoped>\n",
       "    .dataframe tbody tr th:only-of-type {\n",
       "        vertical-align: middle;\n",
       "    }\n",
       "\n",
       "    .dataframe tbody tr th {\n",
       "        vertical-align: top;\n",
       "    }\n",
       "\n",
       "    .dataframe thead th {\n",
       "        text-align: right;\n",
       "    }\n",
       "</style>\n",
       "<table border=\"1\" class=\"dataframe\">\n",
       "  <thead>\n",
       "    <tr style=\"text-align: right;\">\n",
       "      <th></th>\n",
       "      <th>M3-org/awesome-metaverse</th>\n",
       "    </tr>\n",
       "  </thead>\n",
       "  <tbody>\n",
       "    <tr>\n",
       "      <th>0</th>\n",
       "      <td>mvs-org/metaverse</td>\n",
       "    </tr>\n",
       "    <tr>\n",
       "      <th>1</th>\n",
       "      <td>webaverse/app</td>\n",
       "    </tr>\n",
       "    <tr>\n",
       "      <th>2</th>\n",
       "      <td>shadowcz007/awesome-metaverse</td>\n",
       "    </tr>\n",
       "    <tr>\n",
       "      <th>3</th>\n",
       "      <td>vircadia/vircadia</td>\n",
       "    </tr>\n",
       "    <tr>\n",
       "      <th>4</th>\n",
       "      <td>AI4Finance-Foundation/FinRL-Meta</td>\n",
       "    </tr>\n",
       "    <tr>\n",
       "      <th>...</th>\n",
       "      <td>...</td>\n",
       "    </tr>\n",
       "    <tr>\n",
       "      <th>994</th>\n",
       "      <td>LinasKo/MetaVerse</td>\n",
       "    </tr>\n",
       "    <tr>\n",
       "      <th>995</th>\n",
       "      <td>saiva11/Metaverse</td>\n",
       "    </tr>\n",
       "    <tr>\n",
       "      <th>996</th>\n",
       "      <td>dimplehh/metaverse</td>\n",
       "    </tr>\n",
       "    <tr>\n",
       "      <th>997</th>\n",
       "      <td>niksanvijan/MetaVerse</td>\n",
       "    </tr>\n",
       "    <tr>\n",
       "      <th>998</th>\n",
       "      <td>OctopusNO1/metaverse</td>\n",
       "    </tr>\n",
       "  </tbody>\n",
       "</table>\n",
       "<p>999 rows × 1 columns</p>\n",
       "</div>"
      ],
      "text/plain": [
       "             M3-org/awesome-metaverse\n",
       "0                   mvs-org/metaverse\n",
       "1                       webaverse/app\n",
       "2       shadowcz007/awesome-metaverse\n",
       "3                   vircadia/vircadia\n",
       "4    AI4Finance-Foundation/FinRL-Meta\n",
       "..                                ...\n",
       "994                 LinasKo/MetaVerse\n",
       "995                 saiva11/Metaverse\n",
       "996                dimplehh/metaverse\n",
       "997             niksanvijan/MetaVerse\n",
       "998              OctopusNO1/metaverse\n",
       "\n",
       "[999 rows x 1 columns]"
      ]
     },
     "execution_count": 3,
     "metadata": {},
     "output_type": "execute_result"
    }
   ],
   "source": [
    "data"
   ]
  },
  {
   "cell_type": "code",
   "execution_count": 4,
   "id": "f91e193c",
   "metadata": {
    "ExecuteTime": {
     "end_time": "2022-09-02T18:02:07.829481Z",
     "start_time": "2022-09-02T17:58:33.378077Z"
    }
   },
   "outputs": [
    {
     "ename": "Exception",
     "evalue": "Error response from github api! status code: 404, response: {\"message\": \"This repository is empty.\", \"documentation_url\": \"https://docs.github.com/v3/repos/contents/#get-contents\"}",
     "output_type": "error",
     "traceback": [
      "\u001b[0;31m---------------------------------------------------------------------------\u001b[0m",
      "\u001b[0;31mException\u001b[0m                                 Traceback (most recent call last)",
      "Input \u001b[0;32mIn [4]\u001b[0m, in \u001b[0;36m<cell line: 1>\u001b[0;34m()\u001b[0m\n\u001b[0;32m----> 1\u001b[0m data\u001b[38;5;241m=\u001b[39m\u001b[43macquire\u001b[49m\u001b[38;5;241;43m.\u001b[39;49m\u001b[43macquire_data\u001b[49m\u001b[43m(\u001b[49m\u001b[43m)\u001b[49m\n",
      "File \u001b[0;32m~/codeup-data-science/github_classification_project/acquire.py:169\u001b[0m, in \u001b[0;36macquire_data\u001b[0;34m()\u001b[0m\n\u001b[1;32m    167\u001b[0m REPOS \u001b[38;5;241m=\u001b[39m create_REPOS()\n\u001b[1;32m    168\u001b[0m \u001b[38;5;66;03m#Pass Repo list to codeup functions\u001b[39;00m\n\u001b[0;32m--> 169\u001b[0m mylist \u001b[38;5;241m=\u001b[39m \u001b[43mscrape_github_data\u001b[49m\u001b[43m(\u001b[49m\u001b[43mREPOS\u001b[49m\u001b[43m)\u001b[49m\n\u001b[1;32m    171\u001b[0m \u001b[38;5;66;03m#remove any Nones, then return list\u001b[39;00m\n\u001b[1;32m    172\u001b[0m \u001b[38;5;28;01mreturn\u001b[39;00m [i \u001b[38;5;28;01mfor\u001b[39;00m i \u001b[38;5;129;01min\u001b[39;00m mylist \u001b[38;5;28;01mif\u001b[39;00m i]\n",
      "File \u001b[0;32m~/codeup-data-science/github_classification_project/acquire.py:150\u001b[0m, in \u001b[0;36mscrape_github_data\u001b[0;34m(REPOS)\u001b[0m\n\u001b[1;32m    146\u001b[0m \u001b[38;5;28;01mdef\u001b[39;00m \u001b[38;5;21mscrape_github_data\u001b[39m(REPOS) \u001b[38;5;241m-\u001b[39m\u001b[38;5;241m>\u001b[39m List[Dict[\u001b[38;5;28mstr\u001b[39m, \u001b[38;5;28mstr\u001b[39m]]:\n\u001b[1;32m    147\u001b[0m     \u001b[38;5;124;03m\"\"\"\u001b[39;00m\n\u001b[1;32m    148\u001b[0m \u001b[38;5;124;03m    Loop through all of the repos and process them. Returns the processed data.\u001b[39;00m\n\u001b[1;32m    149\u001b[0m \u001b[38;5;124;03m    \"\"\"\u001b[39;00m\n\u001b[0;32m--> 150\u001b[0m     \u001b[38;5;28;01mreturn\u001b[39;00m [process_repo(repo) \u001b[38;5;28;01mfor\u001b[39;00m repo \u001b[38;5;129;01min\u001b[39;00m REPOS]\n",
      "File \u001b[0;32m~/codeup-data-science/github_classification_project/acquire.py:150\u001b[0m, in \u001b[0;36m<listcomp>\u001b[0;34m(.0)\u001b[0m\n\u001b[1;32m    146\u001b[0m \u001b[38;5;28;01mdef\u001b[39;00m \u001b[38;5;21mscrape_github_data\u001b[39m(REPOS) \u001b[38;5;241m-\u001b[39m\u001b[38;5;241m>\u001b[39m List[Dict[\u001b[38;5;28mstr\u001b[39m, \u001b[38;5;28mstr\u001b[39m]]:\n\u001b[1;32m    147\u001b[0m     \u001b[38;5;124;03m\"\"\"\u001b[39;00m\n\u001b[1;32m    148\u001b[0m \u001b[38;5;124;03m    Loop through all of the repos and process them. Returns the processed data.\u001b[39;00m\n\u001b[1;32m    149\u001b[0m \u001b[38;5;124;03m    \"\"\"\u001b[39;00m\n\u001b[0;32m--> 150\u001b[0m     \u001b[38;5;28;01mreturn\u001b[39;00m [\u001b[43mprocess_repo\u001b[49m\u001b[43m(\u001b[49m\u001b[43mrepo\u001b[49m\u001b[43m)\u001b[49m \u001b[38;5;28;01mfor\u001b[39;00m repo \u001b[38;5;129;01min\u001b[39;00m REPOS]\n",
      "File \u001b[0;32m~/codeup-data-science/github_classification_project/acquire.py:92\u001b[0m, in \u001b[0;36mprocess_repo\u001b[0;34m(repo)\u001b[0m\n\u001b[1;32m     87\u001b[0m \u001b[38;5;28;01mdef\u001b[39;00m \u001b[38;5;21mprocess_repo\u001b[39m(repo: \u001b[38;5;28mstr\u001b[39m) \u001b[38;5;241m-\u001b[39m\u001b[38;5;241m>\u001b[39m Dict[\u001b[38;5;28mstr\u001b[39m, \u001b[38;5;28mstr\u001b[39m]:\n\u001b[1;32m     88\u001b[0m     \u001b[38;5;124;03m\"\"\"\u001b[39;00m\n\u001b[1;32m     89\u001b[0m \u001b[38;5;124;03m    Takes a repo name like \"gocodeup/codeup-setup-script\" and returns a\u001b[39;00m\n\u001b[1;32m     90\u001b[0m \u001b[38;5;124;03m    dictionary with the language of the repo and the readme contents.\u001b[39;00m\n\u001b[1;32m     91\u001b[0m \u001b[38;5;124;03m    \"\"\"\u001b[39;00m\n\u001b[0;32m---> 92\u001b[0m     contents \u001b[38;5;241m=\u001b[39m \u001b[43mget_repo_contents\u001b[49m\u001b[43m(\u001b[49m\u001b[43mrepo\u001b[49m\u001b[43m)\u001b[49m\n\u001b[1;32m     93\u001b[0m     readme_download_url \u001b[38;5;241m=\u001b[39m get_readme_download_url(contents)\n\u001b[1;32m     94\u001b[0m     \u001b[38;5;28;01mif\u001b[39;00m readme_download_url \u001b[38;5;241m==\u001b[39m \u001b[38;5;124m\"\u001b[39m\u001b[38;5;124m\"\u001b[39m:\n",
      "File \u001b[0;32m~/codeup-data-science/github_classification_project/acquire.py:67\u001b[0m, in \u001b[0;36mget_repo_contents\u001b[0;34m(repo)\u001b[0m\n\u001b[1;32m     65\u001b[0m \u001b[38;5;28;01mdef\u001b[39;00m \u001b[38;5;21mget_repo_contents\u001b[39m(repo: \u001b[38;5;28mstr\u001b[39m) \u001b[38;5;241m-\u001b[39m\u001b[38;5;241m>\u001b[39m List[Dict[\u001b[38;5;28mstr\u001b[39m, \u001b[38;5;28mstr\u001b[39m]]:\n\u001b[1;32m     66\u001b[0m     url \u001b[38;5;241m=\u001b[39m \u001b[38;5;124mf\u001b[39m\u001b[38;5;124m\"\u001b[39m\u001b[38;5;124mhttps://api.github.com/repos/\u001b[39m\u001b[38;5;132;01m{\u001b[39;00mrepo\u001b[38;5;132;01m}\u001b[39;00m\u001b[38;5;124m/contents/\u001b[39m\u001b[38;5;124m\"\u001b[39m\n\u001b[0;32m---> 67\u001b[0m     contents \u001b[38;5;241m=\u001b[39m \u001b[43mgithub_api_request\u001b[49m\u001b[43m(\u001b[49m\u001b[43murl\u001b[49m\u001b[43m)\u001b[49m\n\u001b[1;32m     68\u001b[0m     \u001b[38;5;28;01mif\u001b[39;00m \u001b[38;5;28mtype\u001b[39m(contents) \u001b[38;5;129;01mis\u001b[39;00m \u001b[38;5;28mlist\u001b[39m:\n\u001b[1;32m     69\u001b[0m         contents \u001b[38;5;241m=\u001b[39m cast(List, contents)\n",
      "File \u001b[0;32m~/codeup-data-science/github_classification_project/acquire.py:43\u001b[0m, in \u001b[0;36mgithub_api_request\u001b[0;34m(url)\u001b[0m\n\u001b[1;32m     41\u001b[0m response_data \u001b[38;5;241m=\u001b[39m response\u001b[38;5;241m.\u001b[39mjson()\n\u001b[1;32m     42\u001b[0m \u001b[38;5;28;01mif\u001b[39;00m response\u001b[38;5;241m.\u001b[39mstatus_code \u001b[38;5;241m!=\u001b[39m \u001b[38;5;241m200\u001b[39m:\n\u001b[0;32m---> 43\u001b[0m     \u001b[38;5;28;01mraise\u001b[39;00m \u001b[38;5;167;01mException\u001b[39;00m(\n\u001b[1;32m     44\u001b[0m         \u001b[38;5;124mf\u001b[39m\u001b[38;5;124m\"\u001b[39m\u001b[38;5;124mError response from github api! status code: \u001b[39m\u001b[38;5;132;01m{\u001b[39;00mresponse\u001b[38;5;241m.\u001b[39mstatus_code\u001b[38;5;132;01m}\u001b[39;00m\u001b[38;5;124m, \u001b[39m\u001b[38;5;124m\"\u001b[39m\n\u001b[1;32m     45\u001b[0m         \u001b[38;5;124mf\u001b[39m\u001b[38;5;124m\"\u001b[39m\u001b[38;5;124mresponse: \u001b[39m\u001b[38;5;132;01m{\u001b[39;00mjson\u001b[38;5;241m.\u001b[39mdumps(response_data)\u001b[38;5;132;01m}\u001b[39;00m\u001b[38;5;124m\"\u001b[39m\n\u001b[1;32m     46\u001b[0m     )\n\u001b[1;32m     47\u001b[0m \u001b[38;5;28;01mreturn\u001b[39;00m response_data\n",
      "\u001b[0;31mException\u001b[0m: Error response from github api! status code: 404, response: {\"message\": \"This repository is empty.\", \"documentation_url\": \"https://docs.github.com/v3/repos/contents/#get-contents\"}"
     ]
    }
   ],
   "source": [
    "data=acquire.acquire_data()"
   ]
  },
  {
   "cell_type": "code",
   "execution_count": null,
   "id": "2e1b86af",
   "metadata": {},
   "outputs": [],
   "source": []
  }
 ],
 "metadata": {
  "kernelspec": {
   "display_name": "Python 3 (ipykernel)",
   "language": "python",
   "name": "python3"
  },
  "language_info": {
   "codemirror_mode": {
    "name": "ipython",
    "version": 3
   },
   "file_extension": ".py",
   "mimetype": "text/x-python",
   "name": "python",
   "nbconvert_exporter": "python",
   "pygments_lexer": "ipython3",
   "version": "3.9.13"
  }
 },
 "nbformat": 4,
 "nbformat_minor": 5
}
