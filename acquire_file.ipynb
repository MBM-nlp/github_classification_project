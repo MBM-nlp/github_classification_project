{
 "cells": [
  {
   "cell_type": "code",
   "execution_count": 1,
   "id": "8a7a356e",
   "metadata": {
    "ExecuteTime": {
     "end_time": "2022-09-02T16:18:48.843227Z",
     "start_time": "2022-09-02T16:18:47.433568Z"
    }
   },
   "outputs": [],
   "source": [
    "from env import github_token, github_username \n",
    "import acquire\n",
    "# import prepare\n",
    "# import explore\n",
    "# import model\n",
    "\n",
    "from sklearn.feature_extraction.text import TfidfVectorizer, CountVectorizer\n",
    "from sklearn.model_selection import train_test_split\n",
    "from sklearn.metrics import classification_report, accuracy_score\n",
    "from sklearn.linear_model import LogisticRegression\n",
    "from sklearn.tree import DecisionTreeClassifier\n",
    "from sklearn.ensemble import RandomForestClassifier\n",
    "from sklearn.neighbors import KNeighborsClassifier\n",
    "from sklearn.naive_bayes import MultinomialNB\n",
    "\n",
    "from bs4 import BeautifulSoup as BSoup\n",
    "import os\n",
    "import json\n",
    "from typing import Dict, List, Optional, Union, cast\n",
    "import requests\n",
    "import time\n",
    "\n",
    "import pandas as pd\n",
    "import numpy as np\n",
    "import requests\n",
    "\n",
    "import matplotlib.pyplot as plt\n",
    "plt.rc('figure', figsize=(13, 10))\n",
    "plt.rc('font', size=16)\n",
    "plt.style.use('seaborn-darkgrid')\n",
    "\n",
    "import warnings\n",
    "warnings.filterwarnings('ignore')"
   ]
  },
  {
   "cell_type": "code",
   "execution_count": 2,
   "id": "fc11f54c",
   "metadata": {
    "ExecuteTime": {
     "end_time": "2022-09-02T16:18:48.846884Z",
     "start_time": "2022-09-02T16:18:48.844319Z"
    }
   },
   "outputs": [
    {
     "data": {
      "text/plain": [
       "'https://github.com/search?p=1&q=metaverse&type=Repositories'"
      ]
     },
     "execution_count": 2,
     "metadata": {},
     "output_type": "execute_result"
    }
   ],
   "source": [
    "headers = {\"Authorization\": f\"token {github_token}\", \"User-Agent\": github_username}\n",
    "p=1\n",
    "url = f'https://github.com/search?p={p}&q=metaverse&type=Repositories'\n",
    "url"
   ]
  },
  {
   "cell_type": "code",
   "execution_count": 3,
   "id": "ac21eb26",
   "metadata": {
    "ExecuteTime": {
     "end_time": "2022-09-02T16:18:49.364572Z",
     "start_time": "2022-09-02T16:18:48.847610Z"
    }
   },
   "outputs": [
    {
     "data": {
      "text/plain": [
       "200"
      ]
     },
     "execution_count": 3,
     "metadata": {},
     "output_type": "execute_result"
    }
   ],
   "source": [
    "#grab the first page\n",
    "response = requests.get(url, headers=headers)\n",
    "response.status_code"
   ]
  },
  {
   "cell_type": "code",
   "execution_count": 4,
   "id": "1d58d4cd",
   "metadata": {
    "ExecuteTime": {
     "end_time": "2022-09-02T16:18:49.416658Z",
     "start_time": "2022-09-02T16:18:49.368452Z"
    }
   },
   "outputs": [],
   "source": [
    "soup=BSoup(response.text)"
   ]
  },
  {
   "cell_type": "code",
   "execution_count": 5,
   "id": "f694c758",
   "metadata": {
    "ExecuteTime": {
     "end_time": "2022-09-02T16:18:49.425148Z",
     "start_time": "2022-09-02T16:18:49.417841Z"
    }
   },
   "outputs": [
    {
     "data": {
      "text/plain": [
       "10"
      ]
     },
     "execution_count": 5,
     "metadata": {},
     "output_type": "execute_result"
    }
   ],
   "source": [
    "len(soup.find_all('div', {'class':'f4 text-normal'})) "
   ]
  },
  {
   "cell_type": "code",
   "execution_count": 6,
   "id": "1b545a12",
   "metadata": {
    "ExecuteTime": {
     "end_time": "2022-09-02T16:18:49.433412Z",
     "start_time": "2022-09-02T16:18:49.427079Z"
    }
   },
   "outputs": [
    {
     "data": {
      "text/plain": [
       "[<div class=\"f4 text-normal\">\n",
       " <a class=\"v-align-middle\" data-hydro-click='{\"event_type\":\"search_result.click\",\"payload\":{\"page_number\":1,\"per_page\":10,\"query\":\"metaverse\",\"result_position\":1,\"click_id\":217230234,\"result\":{\"id\":217230234,\"global_relay_id\":\"MDEwOlJlcG9zaXRvcnkyMTcyMzAyMzQ=\",\"model_name\":\"Repository\",\"url\":\"https://github.com/M3-org/awesome-metaverse\"},\"originating_url\":\"https://github.com/search?p=1&amp;q=metaverse&amp;type=Repositories\",\"user_id\":null}}' data-hydro-click-hmac=\"626d41bb1d92644a0f532acb7451d50434eada0ff4d5798446e0e4bab4e32bf5\" href=\"/M3-org/awesome-metaverse\">M3-org/awesome-<em>metaverse</em></a>\n",
       " </div>,\n",
       " <div class=\"f4 text-normal\">\n",
       " <a class=\"v-align-middle\" data-hydro-click='{\"event_type\":\"search_result.click\",\"payload\":{\"page_number\":1,\"per_page\":10,\"query\":\"metaverse\",\"result_position\":2,\"click_id\":72335855,\"result\":{\"id\":72335855,\"global_relay_id\":\"MDEwOlJlcG9zaXRvcnk3MjMzNTg1NQ==\",\"model_name\":\"Repository\",\"url\":\"https://github.com/mvs-org/metaverse\"},\"originating_url\":\"https://github.com/search?p=1&amp;q=metaverse&amp;type=Repositories\",\"user_id\":null}}' data-hydro-click-hmac=\"a1870b0610d3e7f99b2449581fc278f7dd25ab38809e9f1d7a6aeeaf9606cfb3\" href=\"/mvs-org/metaverse\">mvs-org/<em>metaverse</em></a>\n",
       " </div>,\n",
       " <div class=\"f4 text-normal\">\n",
       " <a class=\"v-align-middle\" data-hydro-click='{\"event_type\":\"search_result.click\",\"payload\":{\"page_number\":1,\"per_page\":10,\"query\":\"metaverse\",\"result_position\":3,\"click_id\":292816607,\"result\":{\"id\":292816607,\"global_relay_id\":\"MDEwOlJlcG9zaXRvcnkyOTI4MTY2MDc=\",\"model_name\":\"Repository\",\"url\":\"https://github.com/webaverse/app\"},\"originating_url\":\"https://github.com/search?p=1&amp;q=metaverse&amp;type=Repositories\",\"user_id\":null}}' data-hydro-click-hmac=\"db159037cdbe172e8422f4002cbd9f4767838b1393f8ffb206a74eb20cd46815\" href=\"/webaverse/app\">webaverse/app</a>\n",
       " </div>]"
      ]
     },
     "execution_count": 6,
     "metadata": {},
     "output_type": "execute_result"
    }
   ],
   "source": [
    "soup.find_all('div', {'class':'f4 text-normal'})[0:3]"
   ]
  },
  {
   "cell_type": "code",
   "execution_count": 7,
   "id": "be42c78a",
   "metadata": {
    "ExecuteTime": {
     "end_time": "2022-09-02T16:18:49.439356Z",
     "start_time": "2022-09-02T16:18:49.434319Z"
    }
   },
   "outputs": [
    {
     "data": {
      "text/plain": [
       "bs4.element.Tag"
      ]
     },
     "execution_count": 7,
     "metadata": {},
     "output_type": "execute_result"
    }
   ],
   "source": [
    "#seems to grab what we want, so now we just need the href of each one\n",
    "type(soup.find_all('div', {'class':'f4 text-normal'})[0]) #tag"
   ]
  },
  {
   "cell_type": "code",
   "execution_count": 8,
   "id": "a8011690",
   "metadata": {
    "ExecuteTime": {
     "end_time": "2022-09-02T16:18:49.445866Z",
     "start_time": "2022-09-02T16:18:49.440166Z"
    }
   },
   "outputs": [
    {
     "data": {
      "text/plain": [
       "<a class=\"v-align-middle\" data-hydro-click='{\"event_type\":\"search_result.click\",\"payload\":{\"page_number\":1,\"per_page\":10,\"query\":\"metaverse\",\"result_position\":1,\"click_id\":217230234,\"result\":{\"id\":217230234,\"global_relay_id\":\"MDEwOlJlcG9zaXRvcnkyMTcyMzAyMzQ=\",\"model_name\":\"Repository\",\"url\":\"https://github.com/M3-org/awesome-metaverse\"},\"originating_url\":\"https://github.com/search?p=1&amp;q=metaverse&amp;type=Repositories\",\"user_id\":null}}' data-hydro-click-hmac=\"626d41bb1d92644a0f532acb7451d50434eada0ff4d5798446e0e4bab4e32bf5\" href=\"/M3-org/awesome-metaverse\">M3-org/awesome-<em>metaverse</em></a>"
      ]
     },
     "execution_count": 8,
     "metadata": {},
     "output_type": "execute_result"
    }
   ],
   "source": [
    "soup.find_all('div', {'class':'f4 text-normal'})[0].select_one('a')"
   ]
  },
  {
   "cell_type": "code",
   "execution_count": 9,
   "id": "c7e6af98",
   "metadata": {
    "ExecuteTime": {
     "end_time": "2022-09-02T16:18:49.453214Z",
     "start_time": "2022-09-02T16:18:49.446671Z"
    }
   },
   "outputs": [
    {
     "data": {
      "text/plain": [
       "bs4.element.Tag"
      ]
     },
     "execution_count": 9,
     "metadata": {},
     "output_type": "execute_result"
    }
   ],
   "source": [
    "type(soup.find_all('div', {'class':'f4 text-normal'})[0].select_one('a'))"
   ]
  },
  {
   "cell_type": "code",
   "execution_count": 10,
   "id": "18d1627f",
   "metadata": {
    "ExecuteTime": {
     "end_time": "2022-09-02T16:18:49.460226Z",
     "start_time": "2022-09-02T16:18:49.455846Z"
    }
   },
   "outputs": [
    {
     "data": {
      "text/plain": [
       "'/M3-org/awesome-metaverse'"
      ]
     },
     "execution_count": 10,
     "metadata": {},
     "output_type": "execute_result"
    }
   ],
   "source": [
    "soup.find_all('div', {'class':'f4 text-normal'})[0].select_one('a')['href']"
   ]
  },
  {
   "cell_type": "code",
   "execution_count": 11,
   "id": "87b794af",
   "metadata": {
    "ExecuteTime": {
     "end_time": "2022-09-02T16:18:49.466251Z",
     "start_time": "2022-09-02T16:18:49.460957Z"
    }
   },
   "outputs": [
    {
     "data": {
      "text/plain": [
       "10"
      ]
     },
     "execution_count": 11,
     "metadata": {},
     "output_type": "execute_result"
    }
   ],
   "source": [
    "len(soup.find_all('a',{'class':'v-align-middle'}))"
   ]
  },
  {
   "cell_type": "code",
   "execution_count": 12,
   "id": "f81996aa",
   "metadata": {
    "ExecuteTime": {
     "end_time": "2022-09-02T16:18:49.471805Z",
     "start_time": "2022-09-02T16:18:49.467186Z"
    }
   },
   "outputs": [
    {
     "data": {
      "text/plain": [
       "'/M3-org/awesome-metaverse'"
      ]
     },
     "execution_count": 12,
     "metadata": {},
     "output_type": "execute_result"
    }
   ],
   "source": [
    "#Okay, so the shorter way is:\n",
    "soup.find_all('a',{'class':'v-align-middle'})[0]['href']"
   ]
  },
  {
   "cell_type": "code",
   "execution_count": 13,
   "id": "a2ab0009",
   "metadata": {
    "ExecuteTime": {
     "end_time": "2022-09-02T16:18:49.476813Z",
     "start_time": "2022-09-02T16:18:49.472549Z"
    }
   },
   "outputs": [
    {
     "data": {
      "text/plain": [
       "<a class=\"next_page\" href=\"/search?p=2&amp;q=metaverse&amp;type=Repositories\" rel=\"next\">Next</a>"
      ]
     },
     "execution_count": 13,
     "metadata": {},
     "output_type": "execute_result"
    }
   ],
   "source": [
    "soup.find('a',{'class':'next_page'})"
   ]
  },
  {
   "cell_type": "code",
   "execution_count": 14,
   "id": "b9a059d8",
   "metadata": {
    "ExecuteTime": {
     "end_time": "2022-09-02T16:18:49.482489Z",
     "start_time": "2022-09-02T16:18:49.477627Z"
    }
   },
   "outputs": [
    {
     "data": {
      "text/plain": [
       "'/search?p=2&q=metaverse&type=Repositories'"
      ]
     },
     "execution_count": 14,
     "metadata": {},
     "output_type": "execute_result"
    }
   ],
   "source": [
    "soup.find('a',{'class':'next_page'})['href']"
   ]
  },
  {
   "cell_type": "markdown",
   "id": "6469e934",
   "metadata": {},
   "source": [
    "Test logic for when next page doesn't exist:"
   ]
  },
  {
   "cell_type": "code",
   "execution_count": 15,
   "id": "174cf6c2",
   "metadata": {
    "ExecuteTime": {
     "end_time": "2022-09-02T16:18:49.888110Z",
     "start_time": "2022-09-02T16:18:49.483624Z"
    }
   },
   "outputs": [
    {
     "data": {
      "text/plain": [
       "200"
      ]
     },
     "execution_count": 15,
     "metadata": {},
     "output_type": "execute_result"
    }
   ],
   "source": [
    "#this is the last of many pages\n",
    "response2 = requests.get('https://github.com/search?p=90&q=metaverse&type=Repositories',headers=headers)\n",
    "response2.status_code"
   ]
  },
  {
   "cell_type": "code",
   "execution_count": 16,
   "id": "c0773c6c",
   "metadata": {
    "ExecuteTime": {
     "end_time": "2022-09-02T16:18:49.978592Z",
     "start_time": "2022-09-02T16:18:49.890010Z"
    }
   },
   "outputs": [],
   "source": [
    "soup2 = BSoup(response2.text)"
   ]
  },
  {
   "cell_type": "code",
   "execution_count": 17,
   "id": "f17df697",
   "metadata": {
    "ExecuteTime": {
     "end_time": "2022-09-02T16:18:49.984175Z",
     "start_time": "2022-09-02T16:18:49.979474Z"
    }
   },
   "outputs": [],
   "source": [
    "headers = {\"Authorization\": f\"token {github_token}\", \"User-Agent\": github_username}\n",
    "\n",
    "def get_repo_links(soup):\n",
    "    '''\n",
    "    Given the soup of a repo search page, get a list urls for all the repos in the results\n",
    "    \n",
    "    Output: Returns LIST of partial URLs\n",
    "    Parameters: (R) soup: Beautiful Soup object of the page contents\n",
    "    '''\n",
    "    pg_repos = []\n",
    "    #loop over all our 'a' tags\n",
    "    for a in soup.find_all('a',{'class':'v-align-middle'}):\n",
    "        #grab the href and strip first character >> append to repo list\n",
    "        pg_repos.append(a['href'][1:])\n",
    "    #return the list \n",
    "    return pg_repos\n",
    "        \n",
    "def get_metaverse_repos():\n",
    "    '''\n",
    "    Gets a list of metaverse repos from Github.  \n",
    "    Must have your own github token and username in a local env file. \n",
    "    Output: Returns LIST of strings - with section of URL in format 'user/repo'\n",
    "    '''\n",
    "    #set starting point\n",
    "    #we know there are multiple pages, so including query parameter 'p'\n",
    "    p=1\n",
    "    url = f'https://github.com/search?p={p}&q=metaverse&type=Repositories'\n",
    "    \n",
    "    #FIRST PAGE\n",
    "    #get page info\n",
    "    response = requests.get(url, headers=headers)\n",
    "    #SOUP, there it is!\n",
    "    soup = BSoup(response.text)\n",
    "    \n",
    "    #grab links for first page\n",
    "    repo_list = get_repo_links(soup)\n",
    "    \n",
    "    #NEXT PAGE - \n",
    "    #set domain\n",
    "    domain = 'https://github.com'\n",
    "    #get first next page\n",
    "    np_tag = soup.find('a',{'class':'next_page'})\n",
    "    #IF that element exists, go to and repeat!\n",
    "    while np_tag:\n",
    "        #create url for next page\n",
    "        url = domain + np_tag['href']\n",
    "        \n",
    "        #get new soup\n",
    "        response = requests.get(url, headers=headers)\n",
    "        soup = BSoup(response.text)\n",
    "        \n",
    "        #add new links to our list\n",
    "        repo_list += get_repo_links(soup)\n",
    "        \n",
    "        #break loop if we have > X links\n",
    "        if len(repo_list) >= 5000: break\n",
    "        \n",
    "        #grab next page\n",
    "        np_tag = soup.find('a',{'class':'next_page'})\n",
    "        time.sleep(7)\n",
    "        \n",
    "    return repo_list\n",
    "    \n",
    "def create_REPOS():\n",
    "    filename = 'repos.csv'\n",
    "    #see if file exists\n",
    "    if os.path.isfile(filename):\n",
    "        df = pd.read_csv(filename,header=None)\n",
    "        return df.iloc[:0].tolist()\n",
    "    else:\n",
    "        #get new list of repos\n",
    "        mylist = get_metaverse_repos()\n",
    "        #save to CSV\n",
    "        pd.DataFrame(mylist).to_csv(filename,header=False,index=False)\n",
    "        return mylist"
   ]
  },
  {
   "cell_type": "code",
   "execution_count": 18,
   "id": "58d1ae1f",
   "metadata": {
    "ExecuteTime": {
     "end_time": "2022-09-02T16:19:43.140581Z",
     "start_time": "2022-09-02T16:18:49.984943Z"
    }
   },
   "outputs": [
    {
     "data": {
      "text/plain": [
       "['nftport/NFT-Unity3D-Metaverse-Template',\n",
       " 'LifeScopeLabs/lifescope-xr',\n",
       " 'GMCyberFoundry/Metaverse',\n",
       " 'immers-space/immers',\n",
       " 'Fankouzu/my-metaverse']"
      ]
     },
     "execution_count": 18,
     "metadata": {},
     "output_type": "execute_result"
    }
   ],
   "source": [
    "testing = get_metaverse_repos()\n",
    "testing[-5:]"
   ]
  },
  {
   "cell_type": "code",
   "execution_count": 19,
   "id": "f3319a21",
   "metadata": {
    "ExecuteTime": {
     "end_time": "2022-09-02T16:19:43.157283Z",
     "start_time": "2022-09-02T16:19:43.149268Z"
    }
   },
   "outputs": [
    {
     "data": {
      "text/plain": [
       "70"
      ]
     },
     "execution_count": 19,
     "metadata": {},
     "output_type": "execute_result"
    }
   ],
   "source": [
    "len(testing)"
   ]
  },
  {
   "cell_type": "code",
   "execution_count": 20,
   "id": "285aa79c",
   "metadata": {
    "ExecuteTime": {
     "end_time": "2022-09-02T16:19:43.177591Z",
     "start_time": "2022-09-02T16:19:43.160396Z"
    }
   },
   "outputs": [],
   "source": [
    "pd.DataFrame(testing).to_csv('testing.csv',header=False,index=False)"
   ]
  },
  {
   "cell_type": "code",
   "execution_count": 21,
   "id": "b0116439",
   "metadata": {
    "ExecuteTime": {
     "end_time": "2022-09-02T16:19:43.207545Z",
     "start_time": "2022-09-02T16:19:43.181864Z"
    }
   },
   "outputs": [
    {
     "data": {
      "text/html": [
       "<div>\n",
       "<style scoped>\n",
       "    .dataframe tbody tr th:only-of-type {\n",
       "        vertical-align: middle;\n",
       "    }\n",
       "\n",
       "    .dataframe tbody tr th {\n",
       "        vertical-align: top;\n",
       "    }\n",
       "\n",
       "    .dataframe thead th {\n",
       "        text-align: right;\n",
       "    }\n",
       "</style>\n",
       "<table border=\"1\" class=\"dataframe\">\n",
       "  <thead>\n",
       "    <tr style=\"text-align: right;\">\n",
       "      <th></th>\n",
       "      <th>0</th>\n",
       "    </tr>\n",
       "  </thead>\n",
       "  <tbody>\n",
       "    <tr>\n",
       "      <th>0</th>\n",
       "      <td>M3-org/awesome-metaverse</td>\n",
       "    </tr>\n",
       "    <tr>\n",
       "      <th>1</th>\n",
       "      <td>mvs-org/metaverse</td>\n",
       "    </tr>\n",
       "    <tr>\n",
       "      <th>2</th>\n",
       "      <td>webaverse/app</td>\n",
       "    </tr>\n",
       "    <tr>\n",
       "      <th>3</th>\n",
       "      <td>shadowcz007/awesome-metaverse</td>\n",
       "    </tr>\n",
       "    <tr>\n",
       "      <th>4</th>\n",
       "      <td>vircadia/vircadia</td>\n",
       "    </tr>\n",
       "    <tr>\n",
       "      <th>...</th>\n",
       "      <td>...</td>\n",
       "    </tr>\n",
       "    <tr>\n",
       "      <th>65</th>\n",
       "      <td>nftport/NFT-Unity3D-Metaverse-Template</td>\n",
       "    </tr>\n",
       "    <tr>\n",
       "      <th>66</th>\n",
       "      <td>LifeScopeLabs/lifescope-xr</td>\n",
       "    </tr>\n",
       "    <tr>\n",
       "      <th>67</th>\n",
       "      <td>GMCyberFoundry/Metaverse</td>\n",
       "    </tr>\n",
       "    <tr>\n",
       "      <th>68</th>\n",
       "      <td>immers-space/immers</td>\n",
       "    </tr>\n",
       "    <tr>\n",
       "      <th>69</th>\n",
       "      <td>Fankouzu/my-metaverse</td>\n",
       "    </tr>\n",
       "  </tbody>\n",
       "</table>\n",
       "<p>70 rows × 1 columns</p>\n",
       "</div>"
      ],
      "text/plain": [
       "                                         0\n",
       "0                 M3-org/awesome-metaverse\n",
       "1                        mvs-org/metaverse\n",
       "2                            webaverse/app\n",
       "3            shadowcz007/awesome-metaverse\n",
       "4                        vircadia/vircadia\n",
       "..                                     ...\n",
       "65  nftport/NFT-Unity3D-Metaverse-Template\n",
       "66              LifeScopeLabs/lifescope-xr\n",
       "67                GMCyberFoundry/Metaverse\n",
       "68                     immers-space/immers\n",
       "69                   Fankouzu/my-metaverse\n",
       "\n",
       "[70 rows x 1 columns]"
      ]
     },
     "execution_count": 21,
     "metadata": {},
     "output_type": "execute_result"
    }
   ],
   "source": [
    "pd.read_csv('testing.csv',header=None)"
   ]
  },
  {
   "cell_type": "code",
   "execution_count": null,
   "id": "db31e62e",
   "metadata": {},
   "outputs": [],
   "source": []
  }
 ],
 "metadata": {
  "kernelspec": {
   "display_name": "Python 3 (ipykernel)",
   "language": "python",
   "name": "python3"
  },
  "language_info": {
   "codemirror_mode": {
    "name": "ipython",
    "version": 3
   },
   "file_extension": ".py",
   "mimetype": "text/x-python",
   "name": "python",
   "nbconvert_exporter": "python",
   "pygments_lexer": "ipython3",
   "version": "3.9.13"
  }
 },
 "nbformat": 4,
 "nbformat_minor": 5
}
