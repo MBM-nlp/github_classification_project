{
 "cells": [
  {
   "cell_type": "code",
   "execution_count": 1,
   "id": "8a7a356e",
   "metadata": {
    "ExecuteTime": {
     "end_time": "2022-09-02T16:18:48.843227Z",
     "start_time": "2022-09-02T16:18:47.433568Z"
    }
   },
   "outputs": [],
   "source": [
    "from env import github_token, github_username \n",
    "import acquire\n",
    "\n",
    "# import prepare\n",
    "# import explore\n",
    "# import model\n",
    "\n",
    "from sklearn.feature_extraction.text import TfidfVectorizer, CountVectorizer\n",
    "from sklearn.model_selection import train_test_split\n",
    "from sklearn.metrics import classification_report, accuracy_score\n",
    "from sklearn.linear_model import LogisticRegression\n",
    "from sklearn.tree import DecisionTreeClassifier\n",
    "from sklearn.ensemble import RandomForestClassifier\n",
    "from sklearn.neighbors import KNeighborsClassifier\n",
    "from sklearn.naive_bayes import MultinomialNB\n",
    "\n",
    "from bs4 import BeautifulSoup as BSoup\n",
    "import os\n",
    "import json\n",
    "from typing import Dict, List, Optional, Union, cast\n",
    "import requests\n",
    "import time\n",
    "\n",
    "import pandas as pd\n",
    "import numpy as np\n",
    "import requests\n",
    "\n",
    "import matplotlib.pyplot as plt\n",
    "plt.rc('figure', figsize=(13, 10))\n",
    "plt.rc('font', size=16)\n",
    "plt.style.use('seaborn-darkgrid')\n",
    "\n",
    "from tqdm.notebook import tqdm, trange\n",
    "import time # to be used in loop iterations\n",
    "\n",
    "import warnings\n",
    "warnings.filterwarnings('ignore')"
   ]
  },
  {
   "cell_type": "code",
   "execution_count": 2,
   "id": "fc11f54c",
   "metadata": {
    "ExecuteTime": {
     "end_time": "2022-09-02T16:18:48.846884Z",
     "start_time": "2022-09-02T16:18:48.844319Z"
    }
   },
   "outputs": [
    {
     "data": {
      "text/plain": [
       "'https://github.com/search?p=1&q=metaverse&type=Repositories'"
      ]
     },
     "execution_count": 2,
     "metadata": {},
     "output_type": "execute_result"
    }
   ],
   "source": [
    "headers = {\"Authorization\": f\"token {github_token}\", \"User-Agent\": github_username}\n",
    "p=1\n",
    "url = f'https://github.com/search?p={p}&q=metaverse&type=Repositories'\n",
    "url"
   ]
  },
  {
   "cell_type": "code",
   "execution_count": 3,
   "id": "ac21eb26",
   "metadata": {
    "ExecuteTime": {
     "end_time": "2022-09-02T16:18:49.364572Z",
     "start_time": "2022-09-02T16:18:48.847610Z"
    }
   },
   "outputs": [
    {
     "data": {
      "text/plain": [
       "200"
      ]
     },
     "execution_count": 3,
     "metadata": {},
     "output_type": "execute_result"
    }
   ],
   "source": [
    "#grab the first page\n",
    "response = requests.get(url, headers=headers)\n",
    "response.status_code"
   ]
  },
  {
   "cell_type": "code",
   "execution_count": 4,
   "id": "1d58d4cd",
   "metadata": {
    "ExecuteTime": {
     "end_time": "2022-09-02T16:18:49.416658Z",
     "start_time": "2022-09-02T16:18:49.368452Z"
    }
   },
   "outputs": [],
   "source": [
    "soup=BSoup(response.text)"
   ]
  },
  {
   "cell_type": "code",
   "execution_count": 5,
   "id": "f694c758",
   "metadata": {
    "ExecuteTime": {
     "end_time": "2022-09-02T16:18:49.425148Z",
     "start_time": "2022-09-02T16:18:49.417841Z"
    }
   },
   "outputs": [
    {
     "data": {
      "text/plain": [
       "10"
      ]
     },
     "execution_count": 5,
     "metadata": {},
     "output_type": "execute_result"
    }
   ],
   "source": [
    "len(soup.find_all('div', {'class':'f4 text-normal'})) "
   ]
  },
  {
   "cell_type": "code",
   "execution_count": 6,
   "id": "1b545a12",
   "metadata": {
    "ExecuteTime": {
     "end_time": "2022-09-02T16:18:49.433412Z",
     "start_time": "2022-09-02T16:18:49.427079Z"
    }
   },
   "outputs": [
    {
     "data": {
      "text/plain": [
       "[<div class=\"f4 text-normal\">\n",
       " <a class=\"v-align-middle\" data-hydro-click='{\"event_type\":\"search_result.click\",\"payload\":{\"page_number\":1,\"per_page\":10,\"query\":\"metaverse\",\"result_position\":1,\"click_id\":217230234,\"result\":{\"id\":217230234,\"global_relay_id\":\"MDEwOlJlcG9zaXRvcnkyMTcyMzAyMzQ=\",\"model_name\":\"Repository\",\"url\":\"https://github.com/M3-org/awesome-metaverse\"},\"originating_url\":\"https://github.com/search?p=1&amp;q=metaverse&amp;type=Repositories\",\"user_id\":null}}' data-hydro-click-hmac=\"626d41bb1d92644a0f532acb7451d50434eada0ff4d5798446e0e4bab4e32bf5\" href=\"/M3-org/awesome-metaverse\">M3-org/awesome-<em>metaverse</em></a>\n",
       " </div>,\n",
       " <div class=\"f4 text-normal\">\n",
       " <a class=\"v-align-middle\" data-hydro-click='{\"event_type\":\"search_result.click\",\"payload\":{\"page_number\":1,\"per_page\":10,\"query\":\"metaverse\",\"result_position\":2,\"click_id\":72335855,\"result\":{\"id\":72335855,\"global_relay_id\":\"MDEwOlJlcG9zaXRvcnk3MjMzNTg1NQ==\",\"model_name\":\"Repository\",\"url\":\"https://github.com/mvs-org/metaverse\"},\"originating_url\":\"https://github.com/search?p=1&amp;q=metaverse&amp;type=Repositories\",\"user_id\":null}}' data-hydro-click-hmac=\"a1870b0610d3e7f99b2449581fc278f7dd25ab38809e9f1d7a6aeeaf9606cfb3\" href=\"/mvs-org/metaverse\">mvs-org/<em>metaverse</em></a>\n",
       " </div>,\n",
       " <div class=\"f4 text-normal\">\n",
       " <a class=\"v-align-middle\" data-hydro-click='{\"event_type\":\"search_result.click\",\"payload\":{\"page_number\":1,\"per_page\":10,\"query\":\"metaverse\",\"result_position\":3,\"click_id\":292816607,\"result\":{\"id\":292816607,\"global_relay_id\":\"MDEwOlJlcG9zaXRvcnkyOTI4MTY2MDc=\",\"model_name\":\"Repository\",\"url\":\"https://github.com/webaverse/app\"},\"originating_url\":\"https://github.com/search?p=1&amp;q=metaverse&amp;type=Repositories\",\"user_id\":null}}' data-hydro-click-hmac=\"db159037cdbe172e8422f4002cbd9f4767838b1393f8ffb206a74eb20cd46815\" href=\"/webaverse/app\">webaverse/app</a>\n",
       " </div>]"
      ]
     },
     "execution_count": 6,
     "metadata": {},
     "output_type": "execute_result"
    }
   ],
   "source": [
    "soup.find_all('div', {'class':'f4 text-normal'})[0:3]"
   ]
  },
  {
   "cell_type": "code",
   "execution_count": 7,
   "id": "be42c78a",
   "metadata": {
    "ExecuteTime": {
     "end_time": "2022-09-02T16:18:49.439356Z",
     "start_time": "2022-09-02T16:18:49.434319Z"
    }
   },
   "outputs": [
    {
     "data": {
      "text/plain": [
       "bs4.element.Tag"
      ]
     },
     "execution_count": 7,
     "metadata": {},
     "output_type": "execute_result"
    }
   ],
   "source": [
    "#seems to grab what we want, so now we just need the href of each one\n",
    "type(soup.find_all('div', {'class':'f4 text-normal'})[0]) #tag"
   ]
  },
  {
   "cell_type": "code",
   "execution_count": 8,
   "id": "a8011690",
   "metadata": {
    "ExecuteTime": {
     "end_time": "2022-09-02T16:18:49.445866Z",
     "start_time": "2022-09-02T16:18:49.440166Z"
    }
   },
   "outputs": [
    {
     "data": {
      "text/plain": [
       "<a class=\"v-align-middle\" data-hydro-click='{\"event_type\":\"search_result.click\",\"payload\":{\"page_number\":1,\"per_page\":10,\"query\":\"metaverse\",\"result_position\":1,\"click_id\":217230234,\"result\":{\"id\":217230234,\"global_relay_id\":\"MDEwOlJlcG9zaXRvcnkyMTcyMzAyMzQ=\",\"model_name\":\"Repository\",\"url\":\"https://github.com/M3-org/awesome-metaverse\"},\"originating_url\":\"https://github.com/search?p=1&amp;q=metaverse&amp;type=Repositories\",\"user_id\":null}}' data-hydro-click-hmac=\"626d41bb1d92644a0f532acb7451d50434eada0ff4d5798446e0e4bab4e32bf5\" href=\"/M3-org/awesome-metaverse\">M3-org/awesome-<em>metaverse</em></a>"
      ]
     },
     "execution_count": 8,
     "metadata": {},
     "output_type": "execute_result"
    }
   ],
   "source": [
    "soup.find_all('div', {'class':'f4 text-normal'})[0].select_one('a')"
   ]
  },
  {
   "cell_type": "code",
   "execution_count": 9,
   "id": "c7e6af98",
   "metadata": {
    "ExecuteTime": {
     "end_time": "2022-09-02T16:18:49.453214Z",
     "start_time": "2022-09-02T16:18:49.446671Z"
    }
   },
   "outputs": [
    {
     "data": {
      "text/plain": [
       "bs4.element.Tag"
      ]
     },
     "execution_count": 9,
     "metadata": {},
     "output_type": "execute_result"
    }
   ],
   "source": [
    "type(soup.find_all('div', {'class':'f4 text-normal'})[0].select_one('a'))"
   ]
  },
  {
   "cell_type": "code",
   "execution_count": 10,
   "id": "18d1627f",
   "metadata": {
    "ExecuteTime": {
     "end_time": "2022-09-02T16:18:49.460226Z",
     "start_time": "2022-09-02T16:18:49.455846Z"
    }
   },
   "outputs": [
    {
     "data": {
      "text/plain": [
       "'/M3-org/awesome-metaverse'"
      ]
     },
     "execution_count": 10,
     "metadata": {},
     "output_type": "execute_result"
    }
   ],
   "source": [
    "soup.find_all('div', {'class':'f4 text-normal'})[0].select_one('a')['href']"
   ]
  },
  {
   "cell_type": "code",
   "execution_count": 11,
   "id": "87b794af",
   "metadata": {
    "ExecuteTime": {
     "end_time": "2022-09-02T16:18:49.466251Z",
     "start_time": "2022-09-02T16:18:49.460957Z"
    }
   },
   "outputs": [
    {
     "data": {
      "text/plain": [
       "10"
      ]
     },
     "execution_count": 11,
     "metadata": {},
     "output_type": "execute_result"
    }
   ],
   "source": [
    "len(soup.find_all('a',{'class':'v-align-middle'}))"
   ]
  },
  {
   "cell_type": "code",
   "execution_count": 12,
   "id": "f81996aa",
   "metadata": {
    "ExecuteTime": {
     "end_time": "2022-09-02T16:18:49.471805Z",
     "start_time": "2022-09-02T16:18:49.467186Z"
    }
   },
   "outputs": [
    {
     "data": {
      "text/plain": [
       "'/M3-org/awesome-metaverse'"
      ]
     },
     "execution_count": 12,
     "metadata": {},
     "output_type": "execute_result"
    }
   ],
   "source": [
    "#Okay, so the shorter way is:\n",
    "soup.find_all('a',{'class':'v-align-middle'})[0]['href']"
   ]
  },
  {
   "cell_type": "code",
   "execution_count": 13,
   "id": "a2ab0009",
   "metadata": {
    "ExecuteTime": {
     "end_time": "2022-09-02T16:18:49.476813Z",
     "start_time": "2022-09-02T16:18:49.472549Z"
    }
   },
   "outputs": [
    {
     "data": {
      "text/plain": [
       "<a class=\"next_page\" href=\"/search?p=2&amp;q=metaverse&amp;type=Repositories\" rel=\"next\">Next</a>"
      ]
     },
     "execution_count": 13,
     "metadata": {},
     "output_type": "execute_result"
    }
   ],
   "source": [
    "soup.find('a',{'class':'next_page'})"
   ]
  },
  {
   "cell_type": "code",
   "execution_count": 14,
   "id": "b9a059d8",
   "metadata": {
    "ExecuteTime": {
     "end_time": "2022-09-02T16:18:49.482489Z",
     "start_time": "2022-09-02T16:18:49.477627Z"
    }
   },
   "outputs": [
    {
     "data": {
      "text/plain": [
       "'/search?p=2&q=metaverse&type=Repositories'"
      ]
     },
     "execution_count": 14,
     "metadata": {},
     "output_type": "execute_result"
    }
   ],
   "source": [
    "soup.find('a',{'class':'next_page'})['href']"
   ]
  },
  {
   "cell_type": "markdown",
   "id": "6469e934",
   "metadata": {},
   "source": [
    "Test logic for when next page doesn't exist:"
   ]
  },
  {
   "cell_type": "code",
   "execution_count": 15,
   "id": "174cf6c2",
   "metadata": {
    "ExecuteTime": {
     "end_time": "2022-09-02T16:18:49.888110Z",
     "start_time": "2022-09-02T16:18:49.483624Z"
    }
   },
   "outputs": [
    {
     "data": {
      "text/plain": [
       "200"
      ]
     },
     "execution_count": 15,
     "metadata": {},
     "output_type": "execute_result"
    }
   ],
   "source": [
    "#this is the last of many pages\n",
    "response2 = requests.get('https://github.com/search?p=90&q=metaverse&type=Repositories',headers=headers)\n",
    "response2.status_code"
   ]
  },
  {
   "cell_type": "code",
   "execution_count": 16,
   "id": "c0773c6c",
   "metadata": {
    "ExecuteTime": {
     "end_time": "2022-09-02T16:18:49.978592Z",
     "start_time": "2022-09-02T16:18:49.890010Z"
    }
   },
   "outputs": [],
   "source": [
    "soup2 = BSoup(response2.text)"
   ]
  },
  {
   "cell_type": "code",
   "execution_count": 17,
   "id": "1a077614",
   "metadata": {},
   "outputs": [
    {
     "data": {
      "text/plain": [
       "bs4.BeautifulSoup"
      ]
     },
     "execution_count": 17,
     "metadata": {},
     "output_type": "execute_result"
    }
   ],
   "source": [
    "# creating the url\n",
    "url = 'https://github.com/search?p=2&q=metaverse&type=Repositories'\n",
    "\n",
    "# creating the response element/object (including headers)\n",
    "# note: some websites don't accept the pyhon-requests default user-agent\n",
    "headers = {\"Authorization\": f\"token {github_token}\", \"User-Agent\": github_username}\n",
    "\n",
    "response = requests.get(url, headers = headers)\n",
    "\n",
    "soup = BSoup(response.content, 'html.parser')\n",
    "type(soup)"
   ]
  },
  {
   "cell_type": "code",
   "execution_count": 19,
   "id": "f17df697",
   "metadata": {
    "ExecuteTime": {
     "end_time": "2022-09-02T16:18:49.984175Z",
     "start_time": "2022-09-02T16:18:49.979474Z"
    }
   },
   "outputs": [],
   "source": [
    "headers = {\"Authorization\": f\"token {github_token}\", \"User-Agent\": github_username}\n",
    "\n",
    "def get_repo_links(soup):\n",
    "    '''\n",
    "    Given the soup of a repo search page, get a list urls for all the repos in the results\n",
    "    \n",
    "    Output: Returns LIST of partial URLs\n",
    "    Parameters: (R) soup: Beautiful Soup object of the page contents\n",
    "    '''\n",
    "    pg_repos = []\n",
    "    #loop over all our 'a' tags\n",
    "    for a in soup.find_all('a',{'class':'v-align-middle'}):\n",
    "        #grab the href and strip first character >> append to repo list\n",
    "        pg_repos.append(a['href'][1:])\n",
    "    #return the list \n",
    "    return pg_repos\n",
    "\n",
    "def get_metaverse_repos():\n",
    "    '''\n",
    "    Gets a list of metaverse repos from Github.  \n",
    "    Must have your own github token and username in a local env file. \n",
    "    Output: Returns LIST of strings - with section of URL in format 'user/repo'\n",
    "    '''\n",
    "    #set starting point\n",
    "    #we know there are multiple pages, so including query parameter 'p'\n",
    "    p=1\n",
    "    url = f'https://github.com/search?p={p}&q=metaverse&type=Repositories'\n",
    "    \n",
    "    #FIRST PAGE\n",
    "    #get page info\n",
    "    response = requests.get(url, headers=headers)\n",
    "    #SOUP, there it is!\n",
    "    soup = BSoup(response.text)\n",
    "    \n",
    "    #grab links for first page\n",
    "    repo_list = get_repo_links(soup)\n",
    "    \n",
    "    #NEXT PAGE - \n",
    "    #set domain\n",
    "    domain = 'https://github.com'\n",
    "    #get first next page\n",
    "    np_tag = soup.find('a',{'class':'next_page'})\n",
    "    #IF that element exists, go to and repeat!\n",
    "    while np_tag:\n",
    "        #create url for next page\n",
    "        url = domain + np_tag['href']\n",
    "        \n",
    "        #get new soup\n",
    "        response = requests.get(url, headers=headers)\n",
    "        soup = BSoup(response.text)\n",
    "        \n",
    "        #add new links to our list\n",
    "        repo_list += get_repo_links(soup)\n",
    "        \n",
    "        #break loop if we have > X links\n",
    "        if len(repo_list) >= 5000: break\n",
    "        \n",
    "        #grab next page\n",
    "        np_tag = soup.find('a',{'class':'next_page'})\n",
    "        time.sleep(7)\n",
    "        \n",
    "    return repo_list\n",
    "    \n",
    "def create_REPOS():\n",
    "    filename = 'repos.csv'\n",
    "    #see if file exists\n",
    "    if os.path.isfile(filename):\n",
    "        df = pd.read_csv(filename,header=None)\n",
    "        return df.iloc[:0].tolist()\n",
    "    else:\n",
    "        #get new list of repos\n",
    "        mylist = get_metaverse_repos()\n",
    "        #save to CSV\n",
    "        pd.DataFrame(mylist).to_csv(filename,header=False,index=False)\n",
    "        return mylist"
   ]
  },
  {
   "cell_type": "code",
   "execution_count": 20,
   "id": "58d1ae1f",
   "metadata": {
    "ExecuteTime": {
     "end_time": "2022-09-02T16:19:43.140581Z",
     "start_time": "2022-09-02T16:18:49.984943Z"
    }
   },
   "outputs": [
    {
     "data": {
      "text/plain": [
       "['srcnalt/3d-profile-avatars',\n",
       " 'mvs-org/metaverse-vm-explorer-frontend',\n",
       " 'Vytek/MayaVerse',\n",
       " 'AdaRoseCannon/metaverse',\n",
       " 'hypercube-lab/hypercube']"
      ]
     },
     "execution_count": 20,
     "metadata": {},
     "output_type": "execute_result"
    }
   ],
   "source": [
    "testing = get_metaverse_repos()\n",
    "testing[-5:]"
   ]
  },
  {
   "cell_type": "code",
   "execution_count": 21,
   "id": "f3319a21",
   "metadata": {
    "ExecuteTime": {
     "end_time": "2022-09-02T16:19:43.157283Z",
     "start_time": "2022-09-02T16:19:43.149268Z"
    }
   },
   "outputs": [
    {
     "data": {
      "text/plain": [
       "60"
      ]
     },
     "execution_count": 21,
     "metadata": {},
     "output_type": "execute_result"
    }
   ],
   "source": [
    "len(testing)"
   ]
  },
  {
   "cell_type": "code",
   "execution_count": 22,
   "id": "285aa79c",
   "metadata": {
    "ExecuteTime": {
     "end_time": "2022-09-02T16:19:43.177591Z",
     "start_time": "2022-09-02T16:19:43.160396Z"
    }
   },
   "outputs": [],
   "source": [
    "pd.DataFrame(testing).to_csv('testing.csv',header=False,index=False)"
   ]
  },
  {
   "cell_type": "code",
   "execution_count": 23,
   "id": "b0116439",
   "metadata": {
    "ExecuteTime": {
     "end_time": "2022-09-02T16:19:43.207545Z",
     "start_time": "2022-09-02T16:19:43.181864Z"
    }
   },
   "outputs": [
    {
     "data": {
      "text/html": [
       "<div>\n",
       "<style scoped>\n",
       "    .dataframe tbody tr th:only-of-type {\n",
       "        vertical-align: middle;\n",
       "    }\n",
       "\n",
       "    .dataframe tbody tr th {\n",
       "        vertical-align: top;\n",
       "    }\n",
       "\n",
       "    .dataframe thead th {\n",
       "        text-align: right;\n",
       "    }\n",
       "</style>\n",
       "<table border=\"1\" class=\"dataframe\">\n",
       "  <thead>\n",
       "    <tr style=\"text-align: right;\">\n",
       "      <th></th>\n",
       "      <th>0</th>\n",
       "    </tr>\n",
       "  </thead>\n",
       "  <tbody>\n",
       "    <tr>\n",
       "      <th>0</th>\n",
       "      <td>M3-org/awesome-metaverse</td>\n",
       "    </tr>\n",
       "    <tr>\n",
       "      <th>1</th>\n",
       "      <td>mvs-org/metaverse</td>\n",
       "    </tr>\n",
       "    <tr>\n",
       "      <th>2</th>\n",
       "      <td>webaverse/app</td>\n",
       "    </tr>\n",
       "    <tr>\n",
       "      <th>3</th>\n",
       "      <td>shadowcz007/awesome-metaverse</td>\n",
       "    </tr>\n",
       "    <tr>\n",
       "      <th>4</th>\n",
       "      <td>vircadia/vircadia</td>\n",
       "    </tr>\n",
       "    <tr>\n",
       "      <th>5</th>\n",
       "      <td>AI4Finance-Foundation/FinRL-Meta</td>\n",
       "    </tr>\n",
       "    <tr>\n",
       "      <th>6</th>\n",
       "      <td>bit-country/Metaverse-Network</td>\n",
       "    </tr>\n",
       "    <tr>\n",
       "      <th>7</th>\n",
       "      <td>joaneeet7/Metaverse</td>\n",
       "    </tr>\n",
       "    <tr>\n",
       "      <th>8</th>\n",
       "      <td>houbb/awesome-metaverse-zh</td>\n",
       "    </tr>\n",
       "    <tr>\n",
       "      <th>9</th>\n",
       "      <td>omigroup/omigroup</td>\n",
       "    </tr>\n",
       "    <tr>\n",
       "      <th>10</th>\n",
       "      <td>vircadia/vircadia-metaverse</td>\n",
       "    </tr>\n",
       "    <tr>\n",
       "      <th>11</th>\n",
       "      <td>mvs-org/lightwallet</td>\n",
       "    </tr>\n",
       "    <tr>\n",
       "      <th>12</th>\n",
       "      <td>pentaho/pentaho-metaverse</td>\n",
       "    </tr>\n",
       "    <tr>\n",
       "      <th>13</th>\n",
       "      <td>dappuniversity/metaverse</td>\n",
       "    </tr>\n",
       "    <tr>\n",
       "      <th>14</th>\n",
       "      <td>UniqueDAO/pixels-metaverse</td>\n",
       "    </tr>\n",
       "    <tr>\n",
       "      <th>15</th>\n",
       "      <td>Menithal/Blender-Metaverse-Addon</td>\n",
       "    </tr>\n",
       "    <tr>\n",
       "      <th>16</th>\n",
       "      <td>OpenCollar/opencollar</td>\n",
       "    </tr>\n",
       "    <tr>\n",
       "      <th>17</th>\n",
       "      <td>imprudence/imprudence</td>\n",
       "    </tr>\n",
       "    <tr>\n",
       "      <th>18</th>\n",
       "      <td>l3mpire/lemverse</td>\n",
       "    </tr>\n",
       "    <tr>\n",
       "      <th>19</th>\n",
       "      <td>CasperTech/node-metaverse</td>\n",
       "    </tr>\n",
       "    <tr>\n",
       "      <th>20</th>\n",
       "      <td>panaverse/panaverse.github.io</td>\n",
       "    </tr>\n",
       "    <tr>\n",
       "      <th>21</th>\n",
       "      <td>overte-org/overte</td>\n",
       "    </tr>\n",
       "    <tr>\n",
       "      <th>22</th>\n",
       "      <td>funny-nation/Funny-Nation</td>\n",
       "    </tr>\n",
       "    <tr>\n",
       "      <th>23</th>\n",
       "      <td>mvs-org/metaverse-vm</td>\n",
       "    </tr>\n",
       "    <tr>\n",
       "      <th>24</th>\n",
       "      <td>yomorun/metaverse-workplace-vercel-frontend</td>\n",
       "    </tr>\n",
       "    <tr>\n",
       "      <th>25</th>\n",
       "      <td>mvs-org/mips</td>\n",
       "    </tr>\n",
       "    <tr>\n",
       "      <th>26</th>\n",
       "      <td>rmetaverse/metaverse</td>\n",
       "    </tr>\n",
       "    <tr>\n",
       "      <th>27</th>\n",
       "      <td>dogukanzorlu/PotterSea</td>\n",
       "    </tr>\n",
       "    <tr>\n",
       "      <th>28</th>\n",
       "      <td>contextwtf/nfte</td>\n",
       "    </tr>\n",
       "    <tr>\n",
       "      <th>29</th>\n",
       "      <td>XRFoundation/Blockchain-in-a-Box</td>\n",
       "    </tr>\n",
       "    <tr>\n",
       "      <th>30</th>\n",
       "      <td>billmei/every-proximity-chat-app</td>\n",
       "    </tr>\n",
       "    <tr>\n",
       "      <th>31</th>\n",
       "      <td>ViewFin/Metaverse-whitepaper</td>\n",
       "    </tr>\n",
       "    <tr>\n",
       "      <th>32</th>\n",
       "      <td>jasmineroberts/metaverse-stack</td>\n",
       "    </tr>\n",
       "    <tr>\n",
       "      <th>33</th>\n",
       "      <td>tivolicloud/metaverse</td>\n",
       "    </tr>\n",
       "    <tr>\n",
       "      <th>34</th>\n",
       "      <td>antron3000/MetaverseTutorials</td>\n",
       "    </tr>\n",
       "    <tr>\n",
       "      <th>35</th>\n",
       "      <td>vircadia/metaverse-dashboard</td>\n",
       "    </tr>\n",
       "    <tr>\n",
       "      <th>36</th>\n",
       "      <td>yomorun/yomo</td>\n",
       "    </tr>\n",
       "    <tr>\n",
       "      <th>37</th>\n",
       "      <td>facemoji/alter-core</td>\n",
       "    </tr>\n",
       "    <tr>\n",
       "      <th>38</th>\n",
       "      <td>Jon-Becker/nft-generator-py</td>\n",
       "    </tr>\n",
       "    <tr>\n",
       "      <th>39</th>\n",
       "      <td>GoMeta/animation-packager</td>\n",
       "    </tr>\n",
       "    <tr>\n",
       "      <th>40</th>\n",
       "      <td>HTTP3D/WalkTheWeb</td>\n",
       "    </tr>\n",
       "    <tr>\n",
       "      <th>41</th>\n",
       "      <td>mvs-org/mvs-live</td>\n",
       "    </tr>\n",
       "    <tr>\n",
       "      <th>42</th>\n",
       "      <td>mvs-org/new-frontiers</td>\n",
       "    </tr>\n",
       "    <tr>\n",
       "      <th>43</th>\n",
       "      <td>make-live/multiplayer</td>\n",
       "    </tr>\n",
       "    <tr>\n",
       "      <th>44</th>\n",
       "      <td>WhiteMatrixTech/Metaverse-Developers</td>\n",
       "    </tr>\n",
       "    <tr>\n",
       "      <th>45</th>\n",
       "      <td>technomancy/metaverse</td>\n",
       "    </tr>\n",
       "    <tr>\n",
       "      <th>46</th>\n",
       "      <td>owlboy/greatpug-public</td>\n",
       "    </tr>\n",
       "    <tr>\n",
       "      <th>47</th>\n",
       "      <td>canguruhh/metaversejs</td>\n",
       "    </tr>\n",
       "    <tr>\n",
       "      <th>48</th>\n",
       "      <td>deakinshaun/SIT383-T12022-Metaverse</td>\n",
       "    </tr>\n",
       "    <tr>\n",
       "      <th>49</th>\n",
       "      <td>vircadia/vircadia-web-sdk</td>\n",
       "    </tr>\n",
       "    <tr>\n",
       "      <th>50</th>\n",
       "      <td>neon-izm/metaverse_associations_jp</td>\n",
       "    </tr>\n",
       "    <tr>\n",
       "      <th>51</th>\n",
       "      <td>wonglok/effectnode-metaverse</td>\n",
       "    </tr>\n",
       "    <tr>\n",
       "      <th>52</th>\n",
       "      <td>egametang/ET</td>\n",
       "    </tr>\n",
       "    <tr>\n",
       "      <th>53</th>\n",
       "      <td>limbofeather/worlds</td>\n",
       "    </tr>\n",
       "    <tr>\n",
       "      <th>54</th>\n",
       "      <td>mvs-org/mvs-htmls</td>\n",
       "    </tr>\n",
       "    <tr>\n",
       "      <th>55</th>\n",
       "      <td>srcnalt/3d-profile-avatars</td>\n",
       "    </tr>\n",
       "    <tr>\n",
       "      <th>56</th>\n",
       "      <td>mvs-org/metaverse-vm-explorer-frontend</td>\n",
       "    </tr>\n",
       "    <tr>\n",
       "      <th>57</th>\n",
       "      <td>Vytek/MayaVerse</td>\n",
       "    </tr>\n",
       "    <tr>\n",
       "      <th>58</th>\n",
       "      <td>AdaRoseCannon/metaverse</td>\n",
       "    </tr>\n",
       "    <tr>\n",
       "      <th>59</th>\n",
       "      <td>hypercube-lab/hypercube</td>\n",
       "    </tr>\n",
       "  </tbody>\n",
       "</table>\n",
       "</div>"
      ],
      "text/plain": [
       "                                              0\n",
       "0                      M3-org/awesome-metaverse\n",
       "1                             mvs-org/metaverse\n",
       "2                                 webaverse/app\n",
       "3                 shadowcz007/awesome-metaverse\n",
       "4                             vircadia/vircadia\n",
       "5              AI4Finance-Foundation/FinRL-Meta\n",
       "6                 bit-country/Metaverse-Network\n",
       "7                           joaneeet7/Metaverse\n",
       "8                    houbb/awesome-metaverse-zh\n",
       "9                             omigroup/omigroup\n",
       "10                  vircadia/vircadia-metaverse\n",
       "11                          mvs-org/lightwallet\n",
       "12                    pentaho/pentaho-metaverse\n",
       "13                     dappuniversity/metaverse\n",
       "14                   UniqueDAO/pixels-metaverse\n",
       "15             Menithal/Blender-Metaverse-Addon\n",
       "16                        OpenCollar/opencollar\n",
       "17                        imprudence/imprudence\n",
       "18                             l3mpire/lemverse\n",
       "19                    CasperTech/node-metaverse\n",
       "20                panaverse/panaverse.github.io\n",
       "21                            overte-org/overte\n",
       "22                    funny-nation/Funny-Nation\n",
       "23                         mvs-org/metaverse-vm\n",
       "24  yomorun/metaverse-workplace-vercel-frontend\n",
       "25                                 mvs-org/mips\n",
       "26                         rmetaverse/metaverse\n",
       "27                       dogukanzorlu/PotterSea\n",
       "28                              contextwtf/nfte\n",
       "29             XRFoundation/Blockchain-in-a-Box\n",
       "30             billmei/every-proximity-chat-app\n",
       "31                 ViewFin/Metaverse-whitepaper\n",
       "32               jasmineroberts/metaverse-stack\n",
       "33                        tivolicloud/metaverse\n",
       "34                antron3000/MetaverseTutorials\n",
       "35                 vircadia/metaverse-dashboard\n",
       "36                                 yomorun/yomo\n",
       "37                          facemoji/alter-core\n",
       "38                  Jon-Becker/nft-generator-py\n",
       "39                    GoMeta/animation-packager\n",
       "40                            HTTP3D/WalkTheWeb\n",
       "41                             mvs-org/mvs-live\n",
       "42                        mvs-org/new-frontiers\n",
       "43                        make-live/multiplayer\n",
       "44         WhiteMatrixTech/Metaverse-Developers\n",
       "45                        technomancy/metaverse\n",
       "46                       owlboy/greatpug-public\n",
       "47                        canguruhh/metaversejs\n",
       "48          deakinshaun/SIT383-T12022-Metaverse\n",
       "49                    vircadia/vircadia-web-sdk\n",
       "50           neon-izm/metaverse_associations_jp\n",
       "51                 wonglok/effectnode-metaverse\n",
       "52                                 egametang/ET\n",
       "53                          limbofeather/worlds\n",
       "54                            mvs-org/mvs-htmls\n",
       "55                   srcnalt/3d-profile-avatars\n",
       "56       mvs-org/metaverse-vm-explorer-frontend\n",
       "57                              Vytek/MayaVerse\n",
       "58                      AdaRoseCannon/metaverse\n",
       "59                      hypercube-lab/hypercube"
      ]
     },
     "execution_count": 23,
     "metadata": {},
     "output_type": "execute_result"
    }
   ],
   "source": [
    "pd.read_csv('testing.csv',header=None)"
   ]
  },
  {
   "cell_type": "code",
   "execution_count": null,
   "id": "db31e62e",
   "metadata": {},
   "outputs": [],
   "source": []
  }
 ],
 "metadata": {
  "kernelspec": {
   "display_name": "Python 3.9.12 ('base')",
   "language": "python",
   "name": "python3"
  },
  "language_info": {
   "codemirror_mode": {
    "name": "ipython",
    "version": 3
   },
   "file_extension": ".py",
   "mimetype": "text/x-python",
   "name": "python",
   "nbconvert_exporter": "python",
   "pygments_lexer": "ipython3",
   "version": "3.9.12"
  },
  "vscode": {
   "interpreter": {
    "hash": "40d3a090f54c6569ab1632332b64b2c03c39dcf918b08424e98f38b5ae0af88f"
   }
  }
 },
 "nbformat": 4,
 "nbformat_minor": 5
}
