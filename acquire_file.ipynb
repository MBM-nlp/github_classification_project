{
 "cells": [
  {
   "cell_type": "code",
   "execution_count": 1,
   "id": "42e143ac",
   "metadata": {
    "ExecuteTime": {
     "end_time": "2022-09-02T16:56:29.066562Z",
     "start_time": "2022-09-02T16:56:27.244868Z"
    }
   },
   "outputs": [],
   "source": [
    "from env import github_token, github_username \n",
    "import acquire\n",
    "# import prepare\n",
    "# import explore\n",
    "# import model\n",
    "\n",
    "from sklearn.feature_extraction.text import TfidfVectorizer, CountVectorizer\n",
    "from sklearn.model_selection import train_test_split\n",
    "from sklearn.metrics import classification_report, accuracy_score\n",
    "from sklearn.linear_model import LogisticRegression\n",
    "from sklearn.tree import DecisionTreeClassifier\n",
    "from sklearn.ensemble import RandomForestClassifier\n",
    "from sklearn.neighbors import KNeighborsClassifier\n",
    "from sklearn.naive_bayes import MultinomialNB\n",
    "\n",
    "from bs4 import BeautifulSoup as BSoup\n",
    "import os\n",
    "import json\n",
    "from typing import Dict, List, Optional, Union, cast\n",
    "import requests\n",
    "import time\n",
    "\n",
    "import pandas as pd\n",
    "import numpy as np\n",
    "import requests\n",
    "\n",
    "import matplotlib.pyplot as plt\n",
    "plt.rc('figure', figsize=(13, 10))\n",
    "plt.rc('font', size=16)\n",
    "plt.style.use('seaborn-darkgrid')\n",
    "\n",
    "import warnings\n",
    "warnings.filterwarnings('ignore')"
   ]
  },
  {
   "cell_type": "code",
   "execution_count": 2,
   "id": "1ac6cf05",
   "metadata": {
    "ExecuteTime": {
     "end_time": "2022-09-02T16:56:29.070119Z",
     "start_time": "2022-09-02T16:56:29.067532Z"
    }
   },
   "outputs": [
    {
     "data": {
      "text/plain": [
       "'https://github.com/search?p=1&q=metaverse&type=Repositories'"
      ]
     },
     "execution_count": 2,
     "metadata": {},
     "output_type": "execute_result"
    }
   ],
   "source": [
    "headers = {\"Authorization\": f\"token {github_token}\", \"User-Agent\": github_username}\n",
    "p=1\n",
    "url = f'https://github.com/search?p={p}&q=metaverse&type=Repositories'\n",
    "url"
   ]
  },
  {
   "cell_type": "code",
   "execution_count": 3,
   "id": "6f8605f0",
   "metadata": {
    "ExecuteTime": {
     "end_time": "2022-09-02T16:56:29.572634Z",
     "start_time": "2022-09-02T16:56:29.070752Z"
    }
   },
   "outputs": [
    {
     "data": {
      "text/plain": [
       "200"
      ]
     },
     "execution_count": 3,
     "metadata": {},
     "output_type": "execute_result"
    }
   ],
   "source": [
    "#grab the first page\n",
    "response = requests.get(url, headers=headers)\n",
    "response.status_code"
   ]
  },
  {
   "cell_type": "code",
   "execution_count": 4,
   "id": "0edfa8ab",
   "metadata": {
    "ExecuteTime": {
     "end_time": "2022-09-02T16:56:29.624837Z",
     "start_time": "2022-09-02T16:56:29.577911Z"
    }
   },
   "outputs": [],
   "source": [
    "soup=BSoup(response.text)"
   ]
  },
  {
   "cell_type": "code",
   "execution_count": 5,
   "id": "0ddcc8b3",
   "metadata": {
    "ExecuteTime": {
     "end_time": "2022-09-02T16:56:29.633685Z",
     "start_time": "2022-09-02T16:56:29.626306Z"
    }
   },
   "outputs": [
    {
     "data": {
      "text/plain": [
       "10"
      ]
     },
     "execution_count": 5,
     "metadata": {},
     "output_type": "execute_result"
    }
   ],
   "source": [
    "len(soup.find_all('div', {'class':'f4 text-normal'})) "
   ]
  },
  {
   "cell_type": "code",
   "execution_count": 6,
   "id": "775fca1a",
   "metadata": {
    "ExecuteTime": {
     "end_time": "2022-09-02T16:56:29.641204Z",
     "start_time": "2022-09-02T16:56:29.635131Z"
    }
   },
   "outputs": [
    {
     "data": {
      "text/plain": [
       "[<div class=\"f4 text-normal\">\n",
       " <a class=\"v-align-middle\" data-hydro-click='{\"event_type\":\"search_result.click\",\"payload\":{\"page_number\":1,\"per_page\":10,\"query\":\"metaverse\",\"result_position\":1,\"click_id\":217230234,\"result\":{\"id\":217230234,\"global_relay_id\":\"MDEwOlJlcG9zaXRvcnkyMTcyMzAyMzQ=\",\"model_name\":\"Repository\",\"url\":\"https://github.com/M3-org/awesome-metaverse\"},\"originating_url\":\"https://github.com/search?p=1&amp;q=metaverse&amp;type=Repositories\",\"user_id\":null}}' data-hydro-click-hmac=\"626d41bb1d92644a0f532acb7451d50434eada0ff4d5798446e0e4bab4e32bf5\" href=\"/M3-org/awesome-metaverse\">M3-org/awesome-<em>metaverse</em></a>\n",
       " </div>,\n",
       " <div class=\"f4 text-normal\">\n",
       " <a class=\"v-align-middle\" data-hydro-click='{\"event_type\":\"search_result.click\",\"payload\":{\"page_number\":1,\"per_page\":10,\"query\":\"metaverse\",\"result_position\":2,\"click_id\":72335855,\"result\":{\"id\":72335855,\"global_relay_id\":\"MDEwOlJlcG9zaXRvcnk3MjMzNTg1NQ==\",\"model_name\":\"Repository\",\"url\":\"https://github.com/mvs-org/metaverse\"},\"originating_url\":\"https://github.com/search?p=1&amp;q=metaverse&amp;type=Repositories\",\"user_id\":null}}' data-hydro-click-hmac=\"a1870b0610d3e7f99b2449581fc278f7dd25ab38809e9f1d7a6aeeaf9606cfb3\" href=\"/mvs-org/metaverse\">mvs-org/<em>metaverse</em></a>\n",
       " </div>,\n",
       " <div class=\"f4 text-normal\">\n",
       " <a class=\"v-align-middle\" data-hydro-click='{\"event_type\":\"search_result.click\",\"payload\":{\"page_number\":1,\"per_page\":10,\"query\":\"metaverse\",\"result_position\":3,\"click_id\":292816607,\"result\":{\"id\":292816607,\"global_relay_id\":\"MDEwOlJlcG9zaXRvcnkyOTI4MTY2MDc=\",\"model_name\":\"Repository\",\"url\":\"https://github.com/webaverse/app\"},\"originating_url\":\"https://github.com/search?p=1&amp;q=metaverse&amp;type=Repositories\",\"user_id\":null}}' data-hydro-click-hmac=\"db159037cdbe172e8422f4002cbd9f4767838b1393f8ffb206a74eb20cd46815\" href=\"/webaverse/app\">webaverse/app</a>\n",
       " </div>]"
      ]
     },
     "execution_count": 6,
     "metadata": {},
     "output_type": "execute_result"
    }
   ],
   "source": [
    "soup.find_all('div', {'class':'f4 text-normal'})[0:3]"
   ]
  },
  {
   "cell_type": "code",
   "execution_count": 7,
   "id": "86002a55",
   "metadata": {
    "ExecuteTime": {
     "end_time": "2022-09-02T16:56:29.648544Z",
     "start_time": "2022-09-02T16:56:29.642266Z"
    }
   },
   "outputs": [
    {
     "data": {
      "text/plain": [
       "bs4.element.Tag"
      ]
     },
     "execution_count": 7,
     "metadata": {},
     "output_type": "execute_result"
    }
   ],
   "source": [
    "#seems to grab what we want, so now we just need the href of each one\n",
    "type(soup.find_all('div', {'class':'f4 text-normal'})[0]) #tag"
   ]
  },
  {
   "cell_type": "code",
   "execution_count": 8,
   "id": "b947f92e",
   "metadata": {
    "ExecuteTime": {
     "end_time": "2022-09-02T16:56:29.655542Z",
     "start_time": "2022-09-02T16:56:29.649877Z"
    }
   },
   "outputs": [
    {
     "data": {
      "text/plain": [
       "<a class=\"v-align-middle\" data-hydro-click='{\"event_type\":\"search_result.click\",\"payload\":{\"page_number\":1,\"per_page\":10,\"query\":\"metaverse\",\"result_position\":1,\"click_id\":217230234,\"result\":{\"id\":217230234,\"global_relay_id\":\"MDEwOlJlcG9zaXRvcnkyMTcyMzAyMzQ=\",\"model_name\":\"Repository\",\"url\":\"https://github.com/M3-org/awesome-metaverse\"},\"originating_url\":\"https://github.com/search?p=1&amp;q=metaverse&amp;type=Repositories\",\"user_id\":null}}' data-hydro-click-hmac=\"626d41bb1d92644a0f532acb7451d50434eada0ff4d5798446e0e4bab4e32bf5\" href=\"/M3-org/awesome-metaverse\">M3-org/awesome-<em>metaverse</em></a>"
      ]
     },
     "execution_count": 8,
     "metadata": {},
     "output_type": "execute_result"
    }
   ],
   "source": [
    "soup.find_all('div', {'class':'f4 text-normal'})[0].select_one('a')"
   ]
  },
  {
   "cell_type": "code",
   "execution_count": 9,
   "id": "6a68835c",
   "metadata": {
    "ExecuteTime": {
     "end_time": "2022-09-02T16:56:29.661456Z",
     "start_time": "2022-09-02T16:56:29.656394Z"
    }
   },
   "outputs": [
    {
     "data": {
      "text/plain": [
       "bs4.element.Tag"
      ]
     },
     "execution_count": 9,
     "metadata": {},
     "output_type": "execute_result"
    }
   ],
   "source": [
    "type(soup.find_all('div', {'class':'f4 text-normal'})[0].select_one('a'))"
   ]
  },
  {
   "cell_type": "code",
   "execution_count": 10,
   "id": "10f4f1f7",
   "metadata": {
    "ExecuteTime": {
     "end_time": "2022-09-02T16:56:29.669599Z",
     "start_time": "2022-09-02T16:56:29.663354Z"
    }
   },
   "outputs": [
    {
     "data": {
      "text/plain": [
       "'/M3-org/awesome-metaverse'"
      ]
     },
     "execution_count": 10,
     "metadata": {},
     "output_type": "execute_result"
    }
   ],
   "source": [
    "soup.find_all('div', {'class':'f4 text-normal'})[0].select_one('a')['href']"
   ]
  },
  {
   "cell_type": "code",
   "execution_count": 11,
   "id": "e6756cfa",
   "metadata": {
    "ExecuteTime": {
     "end_time": "2022-09-02T16:56:29.674847Z",
     "start_time": "2022-09-02T16:56:29.670496Z"
    }
   },
   "outputs": [
    {
     "data": {
      "text/plain": [
       "10"
      ]
     },
     "execution_count": 11,
     "metadata": {},
     "output_type": "execute_result"
    }
   ],
   "source": [
    "len(soup.find_all('a',{'class':'v-align-middle'}))"
   ]
  },
  {
   "cell_type": "code",
   "execution_count": 12,
   "id": "e8594eda",
   "metadata": {
    "ExecuteTime": {
     "end_time": "2022-09-02T16:56:29.681226Z",
     "start_time": "2022-09-02T16:56:29.675690Z"
    }
   },
   "outputs": [
    {
     "data": {
      "text/plain": [
       "'/M3-org/awesome-metaverse'"
      ]
     },
     "execution_count": 12,
     "metadata": {},
     "output_type": "execute_result"
    }
   ],
   "source": [
    "#Okay, so the shorter way is:\n",
    "soup.find_all('a',{'class':'v-align-middle'})[0]['href']"
   ]
  },
  {
   "cell_type": "code",
   "execution_count": 13,
   "id": "b98282ad",
   "metadata": {
    "ExecuteTime": {
     "end_time": "2022-09-02T16:56:29.689570Z",
     "start_time": "2022-09-02T16:56:29.684084Z"
    }
   },
   "outputs": [
    {
     "data": {
      "text/plain": [
       "<a class=\"next_page\" href=\"/search?p=2&amp;q=metaverse&amp;type=Repositories\" rel=\"next\">Next</a>"
      ]
     },
     "execution_count": 13,
     "metadata": {},
     "output_type": "execute_result"
    }
   ],
   "source": [
    "soup.find('a',{'class':'next_page'})"
   ]
  },
  {
   "cell_type": "code",
   "execution_count": 14,
   "id": "d3e5d68e",
   "metadata": {
    "ExecuteTime": {
     "end_time": "2022-09-02T16:56:29.694593Z",
     "start_time": "2022-09-02T16:56:29.690355Z"
    }
   },
   "outputs": [
    {
     "data": {
      "text/plain": [
       "'/search?p=2&q=metaverse&type=Repositories'"
      ]
     },
     "execution_count": 14,
     "metadata": {},
     "output_type": "execute_result"
    }
   ],
   "source": [
    "soup.find('a',{'class':'next_page'})['href']"
   ]
  },
  {
   "cell_type": "markdown",
   "id": "88f0f470",
   "metadata": {},
   "source": [
    "Test logic for when next page doesn't exist:"
   ]
  },
  {
   "cell_type": "code",
   "execution_count": 15,
   "id": "e84be291",
   "metadata": {
    "ExecuteTime": {
     "end_time": "2022-09-02T16:56:30.137388Z",
     "start_time": "2022-09-02T16:56:29.695954Z"
    }
   },
   "outputs": [
    {
     "data": {
      "text/plain": [
       "200"
      ]
     },
     "execution_count": 15,
     "metadata": {},
     "output_type": "execute_result"
    }
   ],
   "source": [
    "#this is the last of many pages\n",
    "response2 = requests.get('https://github.com/search?p=90&q=metaverse&type=Repositories',headers=headers)\n",
    "response2.status_code"
   ]
  },
  {
   "cell_type": "code",
   "execution_count": 16,
   "id": "f9fd1eb2",
   "metadata": {
    "ExecuteTime": {
     "end_time": "2022-09-02T16:56:30.232112Z",
     "start_time": "2022-09-02T16:56:30.139684Z"
    }
   },
   "outputs": [],
   "source": [
    "soup2 = BSoup(response2.text)"
   ]
  },
  {
   "cell_type": "code",
   "execution_count": 17,
   "id": "42b25843",
   "metadata": {
    "ExecuteTime": {
     "end_time": "2022-09-02T16:56:30.238019Z",
     "start_time": "2022-09-02T16:56:30.232935Z"
    }
   },
   "outputs": [],
   "source": [
    "headers = {\"Authorization\": f\"token {github_token}\", \"User-Agent\": github_username}\n",
    "\n",
    "def get_repo_links(soup):\n",
    "    '''\n",
    "    Given the soup of a repo search page, get a list urls for all the repos in the results\n",
    "    \n",
    "    Output: Returns LIST of partial URLs\n",
    "    Parameters: (R) soup: Beautiful Soup object of the page contents\n",
    "    '''\n",
    "    pg_repos = []\n",
    "    #loop over all our 'a' tags\n",
    "    for a in soup.find_all('a',{'class':'v-align-middle'}):\n",
    "        #grab the href and strip first character >> append to repo list\n",
    "        pg_repos.append(a['href'][1:])\n",
    "    #return the list \n",
    "    return pg_repos\n",
    "        \n",
    "def get_metaverse_repos():\n",
    "    '''\n",
    "    Gets a list of metaverse repos from Github.  \n",
    "    Must have your own github token and username in a local env file. \n",
    "    Output: Returns LIST of strings - with section of URL in format 'user/repo'\n",
    "    '''\n",
    "    #set starting point\n",
    "    #we know there are multiple pages, so including query parameter 'p'\n",
    "    p=1\n",
    "    url = f'https://github.com/search?p={p}&q=metaverse&type=Repositories'\n",
    "    \n",
    "    #FIRST PAGE\n",
    "    #get page info\n",
    "    response = requests.get(url, headers=headers)\n",
    "    #SOUP, there it is!\n",
    "    soup = BSoup(response.text)\n",
    "    \n",
    "    #grab links for first page\n",
    "    repo_list = get_repo_links(soup)\n",
    "    \n",
    "    #NEXT PAGE - \n",
    "    #set domain\n",
    "    domain = 'https://github.com'\n",
    "    #get first next page\n",
    "    np_tag = soup.find('a',{'class':'next_page'})\n",
    "    #IF that element exists, go to and repeat!\n",
    "    while np_tag:\n",
    "        #create url for next page\n",
    "        url = domain + np_tag['href']\n",
    "        \n",
    "        #get new soup\n",
    "        response = requests.get(url, headers=headers)\n",
    "        soup = BSoup(response.text)\n",
    "        \n",
    "        #add new links to our list\n",
    "        repo_list += get_repo_links(soup)\n",
    "        \n",
    "        #break loop if we have > X links\n",
    "        if len(repo_list) >= 1000: break\n",
    "        \n",
    "        #grab next page\n",
    "        np_tag = soup.find('a',{'class':'next_page'})\n",
    "        time.sleep(10)\n",
    "        \n",
    "    return repo_list\n",
    "    \n",
    "def create_REPOS():\n",
    "    filename = 'repos.csv'\n",
    "    #see if file exists\n",
    "    if os.path.isfile(filename):\n",
    "        df = pd.read_csv(filename,header=None)\n",
    "        return df.iloc[:0].tolist()\n",
    "    else:\n",
    "        #get new list of repos\n",
    "        mylist = get_metaverse_repos()\n",
    "        #save to CSV\n",
    "        pd.DataFrame(mylist).to_csv(filename,header=False,index=False)\n",
    "        return mylist"
   ]
  },
  {
   "cell_type": "code",
   "execution_count": 18,
   "id": "e7d4bfd0",
   "metadata": {
    "ExecuteTime": {
     "end_time": "2022-09-02T17:13:44.378095Z",
     "start_time": "2022-09-02T16:56:30.238745Z"
    }
   },
   "outputs": [
    {
     "data": {
      "text/plain": [
       "['TsavyPrince/metaverse',\n",
       " 'Mayank-J0shi/Metaverse',\n",
       " 'metave/metaverse',\n",
       " 'VortexPEDevTeam/MetaVerse',\n",
       " 'retromonk/Metaverse']"
      ]
     },
     "execution_count": 18,
     "metadata": {},
     "output_type": "execute_result"
    }
   ],
   "source": [
    "testing = get_metaverse_repos()\n",
    "testing[-5:]"
   ]
  },
  {
   "cell_type": "code",
   "execution_count": 19,
   "id": "7598300b",
   "metadata": {
    "ExecuteTime": {
     "end_time": "2022-09-02T17:13:44.385455Z",
     "start_time": "2022-09-02T17:13:44.380251Z"
    }
   },
   "outputs": [
    {
     "data": {
      "text/plain": [
       "1000"
      ]
     },
     "execution_count": 19,
     "metadata": {},
     "output_type": "execute_result"
    }
   ],
   "source": [
    "len(testing)"
   ]
  },
  {
   "cell_type": "code",
   "execution_count": 20,
   "id": "000f9429",
   "metadata": {
    "ExecuteTime": {
     "end_time": "2022-09-02T17:13:44.408037Z",
     "start_time": "2022-09-02T17:13:44.387019Z"
    }
   },
   "outputs": [],
   "source": [
    "pd.DataFrame(testing).to_csv('testing.csv',header=False,index=False)"
   ]
  },
  {
   "cell_type": "code",
   "execution_count": 21,
   "id": "809f437f",
   "metadata": {
    "ExecuteTime": {
     "end_time": "2022-09-02T17:13:44.428295Z",
     "start_time": "2022-09-02T17:13:44.409150Z"
    }
   },
   "outputs": [
    {
     "data": {
      "text/html": [
       "<div>\n",
       "<style scoped>\n",
       "    .dataframe tbody tr th:only-of-type {\n",
       "        vertical-align: middle;\n",
       "    }\n",
       "\n",
       "    .dataframe tbody tr th {\n",
       "        vertical-align: top;\n",
       "    }\n",
       "\n",
       "    .dataframe thead th {\n",
       "        text-align: right;\n",
       "    }\n",
       "</style>\n",
       "<table border=\"1\" class=\"dataframe\">\n",
       "  <thead>\n",
       "    <tr style=\"text-align: right;\">\n",
       "      <th></th>\n",
       "      <th>0</th>\n",
       "    </tr>\n",
       "  </thead>\n",
       "  <tbody>\n",
       "    <tr>\n",
       "      <th>0</th>\n",
       "      <td>M3-org/awesome-metaverse</td>\n",
       "    </tr>\n",
       "    <tr>\n",
       "      <th>1</th>\n",
       "      <td>mvs-org/metaverse</td>\n",
       "    </tr>\n",
       "    <tr>\n",
       "      <th>2</th>\n",
       "      <td>webaverse/app</td>\n",
       "    </tr>\n",
       "    <tr>\n",
       "      <th>3</th>\n",
       "      <td>shadowcz007/awesome-metaverse</td>\n",
       "    </tr>\n",
       "    <tr>\n",
       "      <th>4</th>\n",
       "      <td>vircadia/vircadia</td>\n",
       "    </tr>\n",
       "    <tr>\n",
       "      <th>...</th>\n",
       "      <td>...</td>\n",
       "    </tr>\n",
       "    <tr>\n",
       "      <th>995</th>\n",
       "      <td>TsavyPrince/metaverse</td>\n",
       "    </tr>\n",
       "    <tr>\n",
       "      <th>996</th>\n",
       "      <td>Mayank-J0shi/Metaverse</td>\n",
       "    </tr>\n",
       "    <tr>\n",
       "      <th>997</th>\n",
       "      <td>metave/metaverse</td>\n",
       "    </tr>\n",
       "    <tr>\n",
       "      <th>998</th>\n",
       "      <td>VortexPEDevTeam/MetaVerse</td>\n",
       "    </tr>\n",
       "    <tr>\n",
       "      <th>999</th>\n",
       "      <td>retromonk/Metaverse</td>\n",
       "    </tr>\n",
       "  </tbody>\n",
       "</table>\n",
       "<p>1000 rows × 1 columns</p>\n",
       "</div>"
      ],
      "text/plain": [
       "                                 0\n",
       "0         M3-org/awesome-metaverse\n",
       "1                mvs-org/metaverse\n",
       "2                    webaverse/app\n",
       "3    shadowcz007/awesome-metaverse\n",
       "4                vircadia/vircadia\n",
       "..                             ...\n",
       "995          TsavyPrince/metaverse\n",
       "996         Mayank-J0shi/Metaverse\n",
       "997               metave/metaverse\n",
       "998      VortexPEDevTeam/MetaVerse\n",
       "999            retromonk/Metaverse\n",
       "\n",
       "[1000 rows x 1 columns]"
      ]
     },
     "execution_count": 21,
     "metadata": {},
     "output_type": "execute_result"
    }
   ],
   "source": [
    "pd.read_csv('testing.csv',header=None)"
   ]
  },
  {
   "cell_type": "code",
   "execution_count": 22,
   "id": "6e77cba8",
   "metadata": {
    "ExecuteTime": {
     "end_time": "2022-09-02T17:33:08.817627Z",
     "start_time": "2022-09-02T17:15:51.668467Z"
    }
   },
   "outputs": [
    {
     "data": {
      "text/plain": [
       "['M3-org/awesome-metaverse',\n",
       " 'mvs-org/metaverse',\n",
       " 'webaverse/app',\n",
       " 'shadowcz007/awesome-metaverse',\n",
       " 'vircadia/vircadia']"
      ]
     },
     "execution_count": 22,
     "metadata": {},
     "output_type": "execute_result"
    }
   ],
   "source": [
    "myrepos=create_REPOS()\n",
    "myrepos[0:5]"
   ]
  },
  {
   "cell_type": "code",
   "execution_count": 23,
   "id": "c8ea23c2",
   "metadata": {
    "ExecuteTime": {
     "end_time": "2022-09-02T17:33:39.023721Z",
     "start_time": "2022-09-02T17:33:39.006935Z"
    }
   },
   "outputs": [
    {
     "data": {
      "text/plain": [
       "1000"
      ]
     },
     "execution_count": 23,
     "metadata": {},
     "output_type": "execute_result"
    }
   ],
   "source": [
    "len(myrepos)"
   ]
  },
  {
   "cell_type": "code",
   "execution_count": null,
   "id": "cca1d847",
   "metadata": {},
   "outputs": [],
   "source": []
  }
 ],
 "metadata": {
  "kernelspec": {
   "display_name": "Python 3 (ipykernel)",
   "language": "python",
   "name": "python3"
  },
  "language_info": {
   "codemirror_mode": {
    "name": "ipython",
    "version": 3
   },
   "file_extension": ".py",
   "mimetype": "text/x-python",
   "name": "python",
   "nbconvert_exporter": "python",
   "pygments_lexer": "ipython3",
   "version": "3.9.13"
  }
 },
 "nbformat": 4,
 "nbformat_minor": 5
}
