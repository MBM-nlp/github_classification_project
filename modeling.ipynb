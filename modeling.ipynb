{
 "cells": [
  {
   "cell_type": "markdown",
   "id": "31963adf",
   "metadata": {},
   "source": [
    "# Feature Engineering"
   ]
  },
  {
   "cell_type": "code",
   "execution_count": 1,
   "id": "a3bc7f30",
   "metadata": {},
   "outputs": [],
   "source": [
    "# Data hanlding\n",
    "import pandas as pd\n",
    "import numpy as np\n",
    "\n",
    "# Essential libraries\n",
    "import os\n",
    "import json\n",
    "import time\n",
    "import requests\n",
    "\n",
    "# Data visualization\n",
    "import plotly\n",
    "import pandas as pd\n",
    "import seaborn as sns\n",
    "import plotly.express as px\n",
    "import matplotlib.pyplot as plt\n",
    "from wordcloud import WordCloud\n",
    "\n",
    "# sklearn\n",
    "from sklearn.model_selection import train_test_split\n",
    "\n",
    "from sklearn.feature_extraction.text import CountVectorizer\n",
    "from sklearn.feature_extraction.text import TfidfVectorizer\n",
    "\n",
    "from sklearn.neighbors import KNeighborsClassifier\n",
    "from sklearn.linear_model import LogisticRegression\n",
    "from sklearn.ensemble import RandomForestClassifier\n",
    "from sklearn.tree import DecisionTreeClassifier, plot_tree, export_text\n",
    "from sklearn.metrics import recall_score, precision_score, f1_score, accuracy_score\n",
    "from sklearn.metrics import classification_report, confusion_matrix, plot_confusion_matrix\n",
    "\n",
    "# XGBoost classifier\n",
    "from xgboost import XGBClassifier\n",
    "\n",
    "# NLP\n",
    "import re\n",
    "import unicodedata\n",
    "import nltk\n",
    "from nltk.tokenize.toktok import ToktokTokenizer\n",
    "from nltk.corpus import stopwords\n",
    "\n",
    "import prepare"
   ]
  },
  {
   "cell_type": "markdown",
   "id": "1653d226",
   "metadata": {},
   "source": [
    "# Modeling\n",
    "- Decision Tree\n",
    "- SVM (Support vector machine) classifier\n",
    "- KNN (k-nearest neighbors) classifier \n",
    "- Naive Bayes classifier\n",
    "- XGBoost"
   ]
  },
  {
   "cell_type": "code",
   "execution_count": null,
   "id": "aca1463b",
   "metadata": {},
   "outputs": [],
   "source": []
  }
 ],
 "metadata": {
  "kernelspec": {
   "display_name": "Python 3 (ipykernel)",
   "language": "python",
   "name": "python3"
  },
  "language_info": {
   "codemirror_mode": {
    "name": "ipython",
    "version": 3
   },
   "file_extension": ".py",
   "mimetype": "text/x-python",
   "name": "python",
   "nbconvert_exporter": "python",
   "pygments_lexer": "ipython3",
   "version": "3.9.12"
  }
 },
 "nbformat": 4,
 "nbformat_minor": 5
}
