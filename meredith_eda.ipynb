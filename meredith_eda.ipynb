{
 "cells": [
  {
   "cell_type": "code",
   "execution_count": 16,
   "id": "fdbd7f20",
   "metadata": {},
   "outputs": [],
   "source": [
    "# notebook dependencies \n",
    "import os # used in caching\n",
    "import pandas as pd\n",
    "import numpy as np\n",
    "\n",
    "# visualization imports\n",
    "import matplotlib as mpl\n",
    "import matplotlib.pyplot as plt\n",
    "import seaborn as sns\n",
    "\n",
    "# regular expression import\n",
    "import re\n",
    "\n",
    "# JSON import\n",
    "import json\n",
    "\n",
    "# importing BeautifulSoup for parsing HTML/XTML\n",
    "from bs4 import BeautifulSoup as BSoup\n",
    "\n",
    "# request module for connecting to APIs\n",
    "from requests import get\n",
    "\n",
    "# text prepare modules\n",
    "import acquire\n",
    "import prepare\n",
    "\n",
    "# uni-code library\n",
    "import unicodedata\n",
    "\n",
    "# natural language toolkit library/modules\n",
    "import nltk\n",
    "from nltk.stem import PorterStemmer, LancasterStemmer, WordNetLemmatizer\n",
    "\n",
    "from nltk.tokenize.toktok import ToktokTokenizer\n",
    "from nltk.corpus import stopwords\n",
    "\n",
    "#sklearn\n",
    "from sklearn.model_selection import train_test_split"
   ]
  },
  {
   "cell_type": "markdown",
   "id": "4014c675",
   "metadata": {},
   "source": [
    "# Wrangling"
   ]
  },
  {
   "cell_type": "markdown",
   "id": "006c17dd",
   "metadata": {},
   "source": [
    "### Data Acquisition"
   ]
  },
  {
   "cell_type": "code",
   "execution_count": 2,
   "id": "bdb854ce",
   "metadata": {},
   "outputs": [],
   "source": [
    "# Reading in data\n",
    "df = pd.read_csv('metaverse.csv')"
   ]
  },
  {
   "cell_type": "code",
   "execution_count": 3,
   "id": "7858b21d",
   "metadata": {},
   "outputs": [
    {
     "data": {
      "text/html": [
       "<div>\n",
       "<style scoped>\n",
       "    .dataframe tbody tr th:only-of-type {\n",
       "        vertical-align: middle;\n",
       "    }\n",
       "\n",
       "    .dataframe tbody tr th {\n",
       "        vertical-align: top;\n",
       "    }\n",
       "\n",
       "    .dataframe thead th {\n",
       "        text-align: right;\n",
       "    }\n",
       "</style>\n",
       "<table border=\"1\" class=\"dataframe\">\n",
       "  <thead>\n",
       "    <tr style=\"text-align: right;\">\n",
       "      <th></th>\n",
       "      <th>repo</th>\n",
       "      <th>language</th>\n",
       "      <th>readme_contents</th>\n",
       "    </tr>\n",
       "  </thead>\n",
       "  <tbody>\n",
       "    <tr>\n",
       "      <th>0</th>\n",
       "      <td>M3-org/awesome-metaverse</td>\n",
       "      <td>NaN</td>\n",
       "      <td># Awesome Metaverse [![Awesome](https://awesom...</td>\n",
       "    </tr>\n",
       "    <tr>\n",
       "      <th>1</th>\n",
       "      <td>mvs-org/metaverse</td>\n",
       "      <td>C++</td>\n",
       "      <td>Metaverse Core Integration/staging Tree\\n=====...</td>\n",
       "    </tr>\n",
       "    <tr>\n",
       "      <th>2</th>\n",
       "      <td>webaverse/app</td>\n",
       "      <td>JavaScript</td>\n",
       "      <td>&lt;img src=\"docs/banner.jpeg\" width=100% /&gt;\\n\\n&lt;...</td>\n",
       "    </tr>\n",
       "    <tr>\n",
       "      <th>3</th>\n",
       "      <td>shadowcz007/awesome-metaverse</td>\n",
       "      <td>NaN</td>\n",
       "      <td># awesome-metaverse\\n&lt;a href=\"https://awesome....</td>\n",
       "    </tr>\n",
       "    <tr>\n",
       "      <th>4</th>\n",
       "      <td>vircadia/vircadia</td>\n",
       "      <td>C++</td>\n",
       "      <td>&lt;p align=\"center\"&gt;&lt;a href=\"https://vircadia.co...</td>\n",
       "    </tr>\n",
       "    <tr>\n",
       "      <th>...</th>\n",
       "      <td>...</td>\n",
       "      <td>...</td>\n",
       "      <td>...</td>\n",
       "    </tr>\n",
       "    <tr>\n",
       "      <th>993</th>\n",
       "      <td>LinasKo/MetaVerse</td>\n",
       "      <td>C#</td>\n",
       "      <td># MetaVerse\\nVirtual Conference project for Me...</td>\n",
       "    </tr>\n",
       "    <tr>\n",
       "      <th>994</th>\n",
       "      <td>saiva11/Metaverse</td>\n",
       "      <td>Vue</td>\n",
       "      <td>NaN</td>\n",
       "    </tr>\n",
       "    <tr>\n",
       "      <th>995</th>\n",
       "      <td>dimplehh/metaverse</td>\n",
       "      <td>NaN</td>\n",
       "      <td># 맥스트 VPS SDK 사용\\n\\n## VPS 사용\\n\\nAssets\\MaxstA...</td>\n",
       "    </tr>\n",
       "    <tr>\n",
       "      <th>996</th>\n",
       "      <td>niksanvijan/MetaVerse</td>\n",
       "      <td>NaN</td>\n",
       "      <td>NaN</td>\n",
       "    </tr>\n",
       "    <tr>\n",
       "      <th>997</th>\n",
       "      <td>OctopusNO1/metaverse</td>\n",
       "      <td>NaN</td>\n",
       "      <td>NaN</td>\n",
       "    </tr>\n",
       "  </tbody>\n",
       "</table>\n",
       "<p>998 rows × 3 columns</p>\n",
       "</div>"
      ],
      "text/plain": [
       "                              repo    language  \\\n",
       "0         M3-org/awesome-metaverse         NaN   \n",
       "1                mvs-org/metaverse         C++   \n",
       "2                    webaverse/app  JavaScript   \n",
       "3    shadowcz007/awesome-metaverse         NaN   \n",
       "4                vircadia/vircadia         C++   \n",
       "..                             ...         ...   \n",
       "993              LinasKo/MetaVerse          C#   \n",
       "994              saiva11/Metaverse         Vue   \n",
       "995             dimplehh/metaverse         NaN   \n",
       "996          niksanvijan/MetaVerse         NaN   \n",
       "997           OctopusNO1/metaverse         NaN   \n",
       "\n",
       "                                       readme_contents  \n",
       "0    # Awesome Metaverse [![Awesome](https://awesom...  \n",
       "1    Metaverse Core Integration/staging Tree\\n=====...  \n",
       "2    <img src=\"docs/banner.jpeg\" width=100% />\\n\\n<...  \n",
       "3    # awesome-metaverse\\n<a href=\"https://awesome....  \n",
       "4    <p align=\"center\"><a href=\"https://vircadia.co...  \n",
       "..                                                 ...  \n",
       "993  # MetaVerse\\nVirtual Conference project for Me...  \n",
       "994                                                NaN  \n",
       "995  # 맥스트 VPS SDK 사용\\n\\n## VPS 사용\\n\\nAssets\\MaxstA...  \n",
       "996                                                NaN  \n",
       "997                                                NaN  \n",
       "\n",
       "[998 rows x 3 columns]"
      ]
     },
     "execution_count": 3,
     "metadata": {},
     "output_type": "execute_result"
    }
   ],
   "source": [
    "df"
   ]
  },
  {
   "cell_type": "code",
   "execution_count": 4,
   "id": "ccf4f9fa",
   "metadata": {},
   "outputs": [
    {
     "data": {
      "text/plain": [
       "0      # Awesome Metaverse [![Awesome](https://awesom...\n",
       "1      Metaverse Core Integration/staging Tree\\n=====...\n",
       "2      <img src=\"docs/banner.jpeg\" width=100% />\\n\\n<...\n",
       "3      # awesome-metaverse\\n<a href=\"https://awesome....\n",
       "4      <p align=\"center\"><a href=\"https://vircadia.co...\n",
       "                             ...                        \n",
       "993    # MetaVerse\\nVirtual Conference project for Me...\n",
       "994                                                  NaN\n",
       "995    # 맥스트 VPS SDK 사용\\n\\n## VPS 사용\\n\\nAssets\\MaxstA...\n",
       "996                                                  NaN\n",
       "997                                                  NaN\n",
       "Name: readme_contents, Length: 998, dtype: object"
      ]
     },
     "execution_count": 4,
     "metadata": {},
     "output_type": "execute_result"
    }
   ],
   "source": [
    "# Looking at messy reame_contents\n",
    "df.readme_contents"
   ]
  },
  {
   "cell_type": "code",
   "execution_count": 5,
   "id": "2c121084",
   "metadata": {},
   "outputs": [
    {
     "data": {
      "text/plain": [
       "repo                 0\n",
       "language           316\n",
       "readme_contents    257\n",
       "dtype: int64"
      ]
     },
     "execution_count": 5,
     "metadata": {},
     "output_type": "execute_result"
    }
   ],
   "source": [
    "df.isnull().sum()"
   ]
  },
  {
   "cell_type": "markdown",
   "id": "f99e078b",
   "metadata": {},
   "source": [
    "### Data Preparation - Cleaning"
   ]
  },
  {
   "cell_type": "code",
   "execution_count": 7,
   "id": "35a0e6c1",
   "metadata": {},
   "outputs": [
    {
     "name": "stdout",
     "output_type": "stream",
     "text": [
      "df shape: (998, 3)\n"
     ]
    },
    {
     "data": {
      "text/html": [
       "<div>\n",
       "<style scoped>\n",
       "    .dataframe tbody tr th:only-of-type {\n",
       "        vertical-align: middle;\n",
       "    }\n",
       "\n",
       "    .dataframe tbody tr th {\n",
       "        vertical-align: top;\n",
       "    }\n",
       "\n",
       "    .dataframe thead th {\n",
       "        text-align: right;\n",
       "    }\n",
       "</style>\n",
       "<table border=\"1\" class=\"dataframe\">\n",
       "  <thead>\n",
       "    <tr style=\"text-align: right;\">\n",
       "      <th></th>\n",
       "      <th>repo</th>\n",
       "      <th>language</th>\n",
       "      <th>readme_contents</th>\n",
       "    </tr>\n",
       "  </thead>\n",
       "  <tbody>\n",
       "    <tr>\n",
       "      <th>0</th>\n",
       "      <td>M3-org/awesome-metaverse</td>\n",
       "      <td>nan</td>\n",
       "      <td># Awesome Metaverse [![Awesome](https://awesom...</td>\n",
       "    </tr>\n",
       "    <tr>\n",
       "      <th>1</th>\n",
       "      <td>mvs-org/metaverse</td>\n",
       "      <td>C++</td>\n",
       "      <td>Metaverse Core Integration/staging Tree\\n=====...</td>\n",
       "    </tr>\n",
       "    <tr>\n",
       "      <th>2</th>\n",
       "      <td>webaverse/app</td>\n",
       "      <td>JavaScript</td>\n",
       "      <td>&lt;img src=\"docs/banner.jpeg\" width=100% /&gt;\\n\\n&lt;...</td>\n",
       "    </tr>\n",
       "    <tr>\n",
       "      <th>3</th>\n",
       "      <td>shadowcz007/awesome-metaverse</td>\n",
       "      <td>nan</td>\n",
       "      <td># awesome-metaverse\\n&lt;a href=\"https://awesome....</td>\n",
       "    </tr>\n",
       "    <tr>\n",
       "      <th>4</th>\n",
       "      <td>vircadia/vircadia</td>\n",
       "      <td>C++</td>\n",
       "      <td>&lt;p align=\"center\"&gt;&lt;a href=\"https://vircadia.co...</td>\n",
       "    </tr>\n",
       "  </tbody>\n",
       "</table>\n",
       "</div>"
      ],
      "text/plain": [
       "                            repo    language  \\\n",
       "0       M3-org/awesome-metaverse         nan   \n",
       "1              mvs-org/metaverse         C++   \n",
       "2                  webaverse/app  JavaScript   \n",
       "3  shadowcz007/awesome-metaverse         nan   \n",
       "4              vircadia/vircadia         C++   \n",
       "\n",
       "                                     readme_contents  \n",
       "0  # Awesome Metaverse [![Awesome](https://awesom...  \n",
       "1  Metaverse Core Integration/staging Tree\\n=====...  \n",
       "2  <img src=\"docs/banner.jpeg\" width=100% />\\n\\n<...  \n",
       "3  # awesome-metaverse\\n<a href=\"https://awesome....  \n",
       "4  <p align=\"center\"><a href=\"https://vircadia.co...  "
      ]
     },
     "execution_count": 7,
     "metadata": {},
     "output_type": "execute_result"
    }
   ],
   "source": [
    "# Calling prepare function to clean dataframe\n",
    "df = prepare.clean_data_objects(df)\n",
    "df.head()"
   ]
  },
  {
   "cell_type": "code",
   "execution_count": 8,
   "id": "e25d8381",
   "metadata": {},
   "outputs": [
    {
     "data": {
      "text/html": [
       "<div>\n",
       "<style scoped>\n",
       "    .dataframe tbody tr th:only-of-type {\n",
       "        vertical-align: middle;\n",
       "    }\n",
       "\n",
       "    .dataframe tbody tr th {\n",
       "        vertical-align: top;\n",
       "    }\n",
       "\n",
       "    .dataframe thead th {\n",
       "        text-align: right;\n",
       "    }\n",
       "</style>\n",
       "<table border=\"1\" class=\"dataframe\">\n",
       "  <thead>\n",
       "    <tr style=\"text-align: right;\">\n",
       "      <th></th>\n",
       "      <th>repo</th>\n",
       "      <th>language</th>\n",
       "      <th>readme_contents</th>\n",
       "    </tr>\n",
       "  </thead>\n",
       "  <tbody>\n",
       "    <tr>\n",
       "      <th>0</th>\n",
       "      <td>M3-org/awesome-metaverse</td>\n",
       "      <td>nan</td>\n",
       "      <td>awesome awesome awesome badge svg awesome list...</td>\n",
       "    </tr>\n",
       "    <tr>\n",
       "      <th>1</th>\n",
       "      <td>mvs-org/metaverse</td>\n",
       "      <td>C++</td>\n",
       "      <td>core integration staging tree build status tra...</td>\n",
       "    </tr>\n",
       "    <tr>\n",
       "      <th>2</th>\n",
       "      <td>webaverse/app</td>\n",
       "      <td>JavaScript</td>\n",
       "      <td>img src doc banner jpeg width 100 align center...</td>\n",
       "    </tr>\n",
       "    <tr>\n",
       "      <th>3</th>\n",
       "      <td>shadowcz007/awesome-metaverse</td>\n",
       "      <td>nan</td>\n",
       "      <td>awesome href awesome target blank img alt awes...</td>\n",
       "    </tr>\n",
       "    <tr>\n",
       "      <th>4</th>\n",
       "      <td>vircadia/vircadia</td>\n",
       "      <td>C++</td>\n",
       "      <td>align center href vircadia img src interface r...</td>\n",
       "    </tr>\n",
       "  </tbody>\n",
       "</table>\n",
       "</div>"
      ],
      "text/plain": [
       "                            repo    language  \\\n",
       "0       M3-org/awesome-metaverse         nan   \n",
       "1              mvs-org/metaverse         C++   \n",
       "2                  webaverse/app  JavaScript   \n",
       "3  shadowcz007/awesome-metaverse         nan   \n",
       "4              vircadia/vircadia         C++   \n",
       "\n",
       "                                     readme_contents  \n",
       "0  awesome awesome awesome badge svg awesome list...  \n",
       "1  core integration staging tree build status tra...  \n",
       "2  img src doc banner jpeg width 100 align center...  \n",
       "3  awesome href awesome target blank img alt awes...  \n",
       "4  align center href vircadia img src interface r...  "
      ]
     },
     "execution_count": 8,
     "metadata": {},
     "output_type": "execute_result"
    }
   ],
   "source": [
    "# Calling mass_text_clean function to clean readme content\n",
    "df[\"readme_contents\"] = df[\"readme_contents\"].apply(prepare.mass_text_clean)\n",
    "df.head()"
   ]
  },
  {
   "cell_type": "code",
   "execution_count": 9,
   "id": "911fea87",
   "metadata": {},
   "outputs": [
    {
     "data": {
      "text/plain": [
       "nan                 316\n",
       "JavaScript          266\n",
       "C#                   78\n",
       "HTML                 72\n",
       "TypeScript           70\n",
       "Solidity             27\n",
       "CSS                  23\n",
       "Python               22\n",
       "Rust                 16\n",
       "Go                   15\n",
       "C++                  14\n",
       "Jupyter Notebook     11\n",
       "Java                  7\n",
       "ShaderLab             7\n",
       "SCSS                  6\n",
       "Vue                   5\n",
       "Shell                 5\n",
       "PHP                   5\n",
       "SuperCollider         3\n",
       "Clojure               3\n",
       "Batchfile             2\n",
       "Roff                  2\n",
       "Swift                 2\n",
       "C                     2\n",
       "GLSL                  2\n",
       "GDScript              2\n",
       "Objective-C           2\n",
       "Kotlin                2\n",
       "HCL                   1\n",
       "EJS                   1\n",
       "PowerShell            1\n",
       "Svelte                1\n",
       "TeX                   1\n",
       "Objective-C++         1\n",
       "Cadence               1\n",
       "Metal                 1\n",
       "R                     1\n",
       "LSL                   1\n",
       "ASP.NET               1\n",
       "Name: language, dtype: int64"
      ]
     },
     "execution_count": 9,
     "metadata": {},
     "output_type": "execute_result"
    }
   ],
   "source": [
    "df.language.value_counts()"
   ]
  },
  {
   "cell_type": "code",
   "execution_count": 10,
   "id": "0cce8212",
   "metadata": {},
   "outputs": [],
   "source": [
    "# Update language function to reduce noises in language, function writeen by B.G.\n",
    "def update_languages(df):\n",
    "    ''' Dataset has multiple languages.  SOme languages are itterations of other languages.\n",
    "    This function is to replace some of the languages names so the are in the same category'''\n",
    "    # Jupyter notebook as Python\n",
    "    df=df.replace('Jupyter Notebook', 'Python')\n",
    "    # C Related Languages\n",
    "    df=df.replace(('Objective-C++','Objective-C','C','C++','C#','SuperCollider','GLSL'),'C')\n",
    "    # Java Related Languages ans sublanguages\n",
    "    df=df.replace(('JavaScript', 'Vue','Clojure','Kotlin','EJS'), 'Java')\n",
    "    # TypeScript Languages\n",
    "    df=df.replace('Svelte','TypeScript')\n",
    "    # Microsoft languages for windows applications\n",
    "    df=df.replace(('PowerShell','Batchfile','Shell'),'Microsoft')\n",
    "    # iOS related languages\n",
    "    df=df.replace(('Metal','Swift'),'iOS')\n",
    "    # languages with < 10 usage\n",
    "    df=df.replace(('Microsoft','ShaderLab','SCSS','PHP','iOS','GDScript','Roff','HCL','TeX', 'Cadence','R','LSL','ASP.NET'),'other')\n",
    "    \n",
    "    return df"
   ]
  },
  {
   "cell_type": "code",
   "execution_count": 11,
   "id": "ea6432a6",
   "metadata": {},
   "outputs": [],
   "source": [
    "# Using function to clean language\n",
    "df = update_languages(df)"
   ]
  },
  {
   "cell_type": "code",
   "execution_count": 12,
   "id": "a5beb4be",
   "metadata": {},
   "outputs": [
    {
     "data": {
      "text/plain": [
       "nan           316\n",
       "Java          284\n",
       "C             102\n",
       "HTML           72\n",
       "TypeScript     71\n",
       "other          39\n",
       "Python         33\n",
       "Solidity       27\n",
       "CSS            23\n",
       "Rust           16\n",
       "Go             15\n",
       "Name: language, dtype: int64"
      ]
     },
     "execution_count": 12,
     "metadata": {},
     "output_type": "execute_result"
    }
   ],
   "source": [
    "# Check the cleaned language\n",
    "df.language.value_counts()"
   ]
  },
  {
   "cell_type": "markdown",
   "id": "537a93c9",
   "metadata": {},
   "source": [
    "### Data Preparation - Splitting"
   ]
  },
  {
   "cell_type": "code",
   "execution_count": 13,
   "id": "e1058c03",
   "metadata": {},
   "outputs": [],
   "source": [
    "def train_validate_test_split(df, target, seed=123):\n",
    "    '''\n",
    "    This function takes in a dataframe, the name of the target variable\n",
    "    (for stratification purposes), and an integer for a setting a seed\n",
    "    and splits the data into train, validate and test. \n",
    "    Test is 20% of the original dataset, validate is .30*.80= 24% of the \n",
    "    original dataset, and train is .70*.80= 56% of the original dataset. \n",
    "    The function returns, in this order, train, validate and test dataframes. \n",
    "    '''\n",
    "    train_validate, test = train_test_split(df, test_size=0.2, \n",
    "                                            random_state=seed, \n",
    "                                            stratify=df[target])\n",
    "    train, validate = train_test_split(train_validate, test_size=0.3, \n",
    "                                       random_state=seed,\n",
    "                                       stratify=train_validate[target])\n",
    "    return train, validate, test"
   ]
  },
  {
   "cell_type": "code",
   "execution_count": 14,
   "id": "5f25a7a2",
   "metadata": {},
   "outputs": [],
   "source": [
    "# Calling function to split data into train, validate, test\n",
    "train, validate, test = train_validate_test_split(df, 'language')"
   ]
  },
  {
   "cell_type": "markdown",
   "id": "4ea6e17b",
   "metadata": {},
   "source": [
    "***"
   ]
  },
  {
   "cell_type": "markdown",
   "id": "b5fc9579",
   "metadata": {},
   "source": [
    "# Explore"
   ]
  },
  {
   "cell_type": "markdown",
   "id": "e7471514",
   "metadata": {},
   "source": [
    "## Target Variable Univariate Analysis"
   ]
  },
  {
   "cell_type": "markdown",
   "id": "d7a6f2fd",
   "metadata": {},
   "source": [
    "#### Train Language Percentages"
   ]
  },
  {
   "cell_type": "code",
   "execution_count": 15,
   "id": "448ee189",
   "metadata": {},
   "outputs": [
    {
     "data": {
      "text/html": [
       "<div>\n",
       "<style scoped>\n",
       "    .dataframe tbody tr th:only-of-type {\n",
       "        vertical-align: middle;\n",
       "    }\n",
       "\n",
       "    .dataframe tbody tr th {\n",
       "        vertical-align: top;\n",
       "    }\n",
       "\n",
       "    .dataframe thead th {\n",
       "        text-align: right;\n",
       "    }\n",
       "</style>\n",
       "<table border=\"1\" class=\"dataframe\">\n",
       "  <thead>\n",
       "    <tr style=\"text-align: right;\">\n",
       "      <th></th>\n",
       "      <th>n</th>\n",
       "      <th>percent</th>\n",
       "    </tr>\n",
       "  </thead>\n",
       "  <tbody>\n",
       "    <tr>\n",
       "      <th>nan</th>\n",
       "      <td>177</td>\n",
       "      <td>0.317204</td>\n",
       "    </tr>\n",
       "    <tr>\n",
       "      <th>Java</th>\n",
       "      <td>159</td>\n",
       "      <td>0.284946</td>\n",
       "    </tr>\n",
       "    <tr>\n",
       "      <th>C</th>\n",
       "      <td>57</td>\n",
       "      <td>0.102151</td>\n",
       "    </tr>\n",
       "    <tr>\n",
       "      <th>TypeScript</th>\n",
       "      <td>40</td>\n",
       "      <td>0.071685</td>\n",
       "    </tr>\n",
       "    <tr>\n",
       "      <th>HTML</th>\n",
       "      <td>40</td>\n",
       "      <td>0.071685</td>\n",
       "    </tr>\n",
       "    <tr>\n",
       "      <th>other</th>\n",
       "      <td>22</td>\n",
       "      <td>0.039427</td>\n",
       "    </tr>\n",
       "    <tr>\n",
       "      <th>Python</th>\n",
       "      <td>18</td>\n",
       "      <td>0.032258</td>\n",
       "    </tr>\n",
       "    <tr>\n",
       "      <th>Solidity</th>\n",
       "      <td>15</td>\n",
       "      <td>0.026882</td>\n",
       "    </tr>\n",
       "    <tr>\n",
       "      <th>CSS</th>\n",
       "      <td>13</td>\n",
       "      <td>0.023297</td>\n",
       "    </tr>\n",
       "    <tr>\n",
       "      <th>Rust</th>\n",
       "      <td>9</td>\n",
       "      <td>0.016129</td>\n",
       "    </tr>\n",
       "    <tr>\n",
       "      <th>Go</th>\n",
       "      <td>8</td>\n",
       "      <td>0.014337</td>\n",
       "    </tr>\n",
       "  </tbody>\n",
       "</table>\n",
       "</div>"
      ],
      "text/plain": [
       "              n   percent\n",
       "nan         177  0.317204\n",
       "Java        159  0.284946\n",
       "C            57  0.102151\n",
       "TypeScript   40  0.071685\n",
       "HTML         40  0.071685\n",
       "other        22  0.039427\n",
       "Python       18  0.032258\n",
       "Solidity     15  0.026882\n",
       "CSS          13  0.023297\n",
       "Rust          9  0.016129\n",
       "Go            8  0.014337"
      ]
     },
     "execution_count": 15,
     "metadata": {},
     "output_type": "execute_result"
    }
   ],
   "source": [
    "labels = pd.concat([train.language.value_counts(),\n",
    "                    train.language.value_counts(normalize=True)], axis=1)\n",
    "labels.columns = ['n', 'percent']\n",
    "labels"
   ]
  },
  {
   "cell_type": "code",
   "execution_count": 36,
   "id": "f95ac5db",
   "metadata": {},
   "outputs": [
    {
     "data": {
      "text/plain": [
       "Index(['nan', 'Java', 'C', 'TypeScript', 'HTML', 'other', 'Python', 'Solidity',\n",
       "       'CSS', 'Rust', 'Go'],\n",
       "      dtype='object')"
      ]
     },
     "execution_count": 36,
     "metadata": {},
     "output_type": "execute_result"
    }
   ],
   "source": [
    "labels.index"
   ]
  },
  {
   "cell_type": "code",
   "execution_count": 42,
   "id": "58e1f00a",
   "metadata": {},
   "outputs": [
    {
     "data": {
      "image/png": "[encoded data removed]",
      "text/plain": [
       "<Figure size 1152x864 with 1 Axes>"
      ]
     },
     "metadata": {},
     "output_type": "display_data"
    }
   ],
   "source": [
    "plt.figure(figsize=(16,12))\n",
    "mylabels = ['nan', 'Java', 'C', 'TypeScript', 'HTML', 'other', 'Python', 'Solidity',\n",
    "       'CSS', 'Rust', 'Go']\n",
    "mycolors = ['#484553', '#3c1361', '#663a82', '#89609e', '#a86cc1', '#c377e0', '#cd8de5', '#d5a6e6', '#dfc0eb', '#eddbf4', '#f7f0fa']\n",
    "textprops = {\"fontsize\":15}\n",
    "plt.pie(labels.percent, labels = mylabels, colors = mycolors, textprops=textprops, autopct='%.1f%%')\n",
    "plt.legend()\n",
    "plt.title('Overall Language Distribution',fontsize=18)\n",
    "plt.show() \n"
   ]
  },
  {
   "cell_type": "markdown",
   "id": "8513185e",
   "metadata": {},
   "source": [
    "### Takeaway: Besides the NaN values, Java and C/C++ are the most common languages for metaverse repos."
   ]
  },
  {
   "cell_type": "markdown",
   "id": "cadd5066",
   "metadata": {},
   "source": [
    "***"
   ]
  },
  {
   "cell_type": "markdown",
   "id": "ce544552",
   "metadata": {},
   "source": [
    "## Question 1: What are the most common words in READMEs?"
   ]
  },
  {
   "cell_type": "code",
   "execution_count": null,
   "id": "18fe66cd",
   "metadata": {},
   "outputs": [],
   "source": []
  },
  {
   "cell_type": "markdown",
   "id": "184adb51",
   "metadata": {},
   "source": [
    "### Takeaway:"
   ]
  },
  {
   "cell_type": "markdown",
   "id": "741b1201",
   "metadata": {},
   "source": [
    "***"
   ]
  },
  {
   "cell_type": "markdown",
   "id": "f89ce093",
   "metadata": {},
   "source": [
    "## Question 2: Does the length of the README vary by programming language?"
   ]
  },
  {
   "cell_type": "code",
   "execution_count": null,
   "id": "2b54aaeb",
   "metadata": {},
   "outputs": [],
   "source": []
  },
  {
   "cell_type": "markdown",
   "id": "a7ef84de",
   "metadata": {},
   "source": [
    "### Takeaway:"
   ]
  },
  {
   "cell_type": "markdown",
   "id": "6a6671b3",
   "metadata": {},
   "source": [
    "***"
   ]
  },
  {
   "cell_type": "markdown",
   "id": "56cbdd3f",
   "metadata": {},
   "source": [
    "## Question 3: Do different programming languages use a different number of unique words?"
   ]
  },
  {
   "cell_type": "code",
   "execution_count": null,
   "id": "2bb154f7",
   "metadata": {},
   "outputs": [],
   "source": []
  },
  {
   "cell_type": "markdown",
   "id": "286339c6",
   "metadata": {},
   "source": [
    "### Takeaway:"
   ]
  },
  {
   "cell_type": "markdown",
   "id": "65601aff",
   "metadata": {},
   "source": [
    "***"
   ]
  },
  {
   "cell_type": "markdown",
   "id": "4f9e3f9b",
   "metadata": {},
   "source": [
    "## Question 4: Are there any words that uniquely identify a programming language?"
   ]
  },
  {
   "cell_type": "code",
   "execution_count": null,
   "id": "1fbb2cef",
   "metadata": {},
   "outputs": [],
   "source": []
  },
  {
   "cell_type": "markdown",
   "id": "c69637a3",
   "metadata": {},
   "source": [
    "### Takeaway:"
   ]
  },
  {
   "cell_type": "markdown",
   "id": "97ac9acd",
   "metadata": {},
   "source": [
    "***"
   ]
  },
  {
   "cell_type": "code",
   "execution_count": null,
   "id": "ee06487d",
   "metadata": {},
   "outputs": [],
   "source": []
  }
 ],
 "metadata": {
  "kernelspec": {
   "display_name": "Python 3 (ipykernel)",
   "language": "python",
   "name": "python3"
  },
  "language_info": {
   "codemirror_mode": {
    "name": "ipython",
    "version": 3
   },
   "file_extension": ".py",
   "mimetype": "text/x-python",
   "name": "python",
   "nbconvert_exporter": "python",
   "pygments_lexer": "ipython3",
   "version": "3.9.12"
  }
 },
 "nbformat": 4,
 "nbformat_minor": 5
}
