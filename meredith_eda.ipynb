{
 "cells": [
  {
   "cell_type": "code",
   "execution_count": 16,
   "id": "fdbd7f20",
   "metadata": {},
   "outputs": [],
   "source": [
    "# notebook dependencies \n",
    "import os # used in caching\n",
    "import pandas as pd\n",
    "import numpy as np\n",
    "\n",
    "# visualization imports\n",
    "import matplotlib as mpl\n",
    "import matplotlib.pyplot as plt\n",
    "import seaborn as sns\n",
    "\n",
    "# regular expression import\n",
    "import re\n",
    "\n",
    "# JSON import\n",
    "import json\n",
    "\n",
    "# importing BeautifulSoup for parsing HTML/XTML\n",
    "from bs4 import BeautifulSoup as BSoup\n",
    "\n",
    "# request module for connecting to APIs\n",
    "from requests import get\n",
    "\n",
    "# text prepare modules\n",
    "import acquire\n",
    "import prepare\n",
    "\n",
    "# uni-code library\n",
    "import unicodedata\n",
    "\n",
    "# natural language toolkit library/modules\n",
    "import nltk\n",
    "from nltk.stem import PorterStemmer, LancasterStemmer, WordNetLemmatizer\n",
    "\n",
    "from nltk.tokenize.toktok import ToktokTokenizer\n",
    "from nltk.corpus import stopwords\n",
    "\n",
    "#sklearn\n",
    "from sklearn.model_selection import train_test_split"
   ]
  },
  {
   "cell_type": "markdown",
   "id": "de9a99eb",
   "metadata": {},
   "source": [
    "# Wrangling"
   ]
  },
  {
   "cell_type": "markdown",
   "id": "5ca567e2",
   "metadata": {},
   "source": [
    "### Data Acquisition"
   ]
  },
  {
   "cell_type": "code",
   "execution_count": 2,
   "id": "bdb854ce",
   "metadata": {},
   "outputs": [],
   "source": [
    "# Reading in data\n",
    "df = pd.read_csv('metaverse.csv')"
   ]
  },
  {
   "cell_type": "code",
   "execution_count": 3,
   "id": "7858b21d",
   "metadata": {},
   "outputs": [
    {
     "data": {
      "text/html": [
       "<div>\n",
       "<style scoped>\n",
       "    .dataframe tbody tr th:only-of-type {\n",
       "        vertical-align: middle;\n",
       "    }\n",
       "\n",
       "    .dataframe tbody tr th {\n",
       "        vertical-align: top;\n",
       "    }\n",
       "\n",
       "    .dataframe thead th {\n",
       "        text-align: right;\n",
       "    }\n",
       "</style>\n",
       "<table border=\"1\" class=\"dataframe\">\n",
       "  <thead>\n",
       "    <tr style=\"text-align: right;\">\n",
       "      <th></th>\n",
       "      <th>repo</th>\n",
       "      <th>language</th>\n",
       "      <th>readme_contents</th>\n",
       "    </tr>\n",
       "  </thead>\n",
       "  <tbody>\n",
       "    <tr>\n",
       "      <th>0</th>\n",
       "      <td>M3-org/awesome-metaverse</td>\n",
       "      <td>NaN</td>\n",
       "      <td># Awesome Metaverse [![Awesome](https://awesom...</td>\n",
       "    </tr>\n",
       "    <tr>\n",
       "      <th>1</th>\n",
       "      <td>mvs-org/metaverse</td>\n",
       "      <td>C++</td>\n",
       "      <td>Metaverse Core Integration/staging Tree\\n=====...</td>\n",
       "    </tr>\n",
       "    <tr>\n",
       "      <th>2</th>\n",
       "      <td>webaverse/app</td>\n",
       "      <td>JavaScript</td>\n",
       "      <td>&lt;img src=\"docs/banner.jpeg\" width=100% /&gt;\\n\\n&lt;...</td>\n",
       "    </tr>\n",
       "    <tr>\n",
       "      <th>3</th>\n",
       "      <td>shadowcz007/awesome-metaverse</td>\n",
       "      <td>NaN</td>\n",
       "      <td># awesome-metaverse\\n&lt;a href=\"https://awesome....</td>\n",
       "    </tr>\n",
       "    <tr>\n",
       "      <th>4</th>\n",
       "      <td>vircadia/vircadia</td>\n",
       "      <td>C++</td>\n",
       "      <td>&lt;p align=\"center\"&gt;&lt;a href=\"https://vircadia.co...</td>\n",
       "    </tr>\n",
       "    <tr>\n",
       "      <th>...</th>\n",
       "      <td>...</td>\n",
       "      <td>...</td>\n",
       "      <td>...</td>\n",
       "    </tr>\n",
       "    <tr>\n",
       "      <th>993</th>\n",
       "      <td>LinasKo/MetaVerse</td>\n",
       "      <td>C#</td>\n",
       "      <td># MetaVerse\\nVirtual Conference project for Me...</td>\n",
       "    </tr>\n",
       "    <tr>\n",
       "      <th>994</th>\n",
       "      <td>saiva11/Metaverse</td>\n",
       "      <td>Vue</td>\n",
       "      <td>NaN</td>\n",
       "    </tr>\n",
       "    <tr>\n",
       "      <th>995</th>\n",
       "      <td>dimplehh/metaverse</td>\n",
       "      <td>NaN</td>\n",
       "      <td># 맥스트 VPS SDK 사용\\n\\n## VPS 사용\\n\\nAssets\\MaxstA...</td>\n",
       "    </tr>\n",
       "    <tr>\n",
       "      <th>996</th>\n",
       "      <td>niksanvijan/MetaVerse</td>\n",
       "      <td>NaN</td>\n",
       "      <td>NaN</td>\n",
       "    </tr>\n",
       "    <tr>\n",
       "      <th>997</th>\n",
       "      <td>OctopusNO1/metaverse</td>\n",
       "      <td>NaN</td>\n",
       "      <td>NaN</td>\n",
       "    </tr>\n",
       "  </tbody>\n",
       "</table>\n",
       "<p>998 rows × 3 columns</p>\n",
       "</div>"
      ],
      "text/plain": [
       "                              repo    language  \\\n",
       "0         M3-org/awesome-metaverse         NaN   \n",
       "1                mvs-org/metaverse         C++   \n",
       "2                    webaverse/app  JavaScript   \n",
       "3    shadowcz007/awesome-metaverse         NaN   \n",
       "4                vircadia/vircadia         C++   \n",
       "..                             ...         ...   \n",
       "993              LinasKo/MetaVerse          C#   \n",
       "994              saiva11/Metaverse         Vue   \n",
       "995             dimplehh/metaverse         NaN   \n",
       "996          niksanvijan/MetaVerse         NaN   \n",
       "997           OctopusNO1/metaverse         NaN   \n",
       "\n",
       "                                       readme_contents  \n",
       "0    # Awesome Metaverse [![Awesome](https://awesom...  \n",
       "1    Metaverse Core Integration/staging Tree\\n=====...  \n",
       "2    <img src=\"docs/banner.jpeg\" width=100% />\\n\\n<...  \n",
       "3    # awesome-metaverse\\n<a href=\"https://awesome....  \n",
       "4    <p align=\"center\"><a href=\"https://vircadia.co...  \n",
       "..                                                 ...  \n",
       "993  # MetaVerse\\nVirtual Conference project for Me...  \n",
       "994                                                NaN  \n",
       "995  # 맥스트 VPS SDK 사용\\n\\n## VPS 사용\\n\\nAssets\\MaxstA...  \n",
       "996                                                NaN  \n",
       "997                                                NaN  \n",
       "\n",
       "[998 rows x 3 columns]"
      ]
     },
     "execution_count": 3,
     "metadata": {},
     "output_type": "execute_result"
    }
   ],
   "source": [
    "df"
   ]
  },
  {
   "cell_type": "code",
   "execution_count": 4,
   "id": "ccf4f9fa",
   "metadata": {},
   "outputs": [
    {
     "data": {
      "text/plain": [
       "0      # Awesome Metaverse [![Awesome](https://awesom...\n",
       "1      Metaverse Core Integration/staging Tree\\n=====...\n",
       "2      <img src=\"docs/banner.jpeg\" width=100% />\\n\\n<...\n",
       "3      # awesome-metaverse\\n<a href=\"https://awesome....\n",
       "4      <p align=\"center\"><a href=\"https://vircadia.co...\n",
       "                             ...                        \n",
       "993    # MetaVerse\\nVirtual Conference project for Me...\n",
       "994                                                  NaN\n",
       "995    # 맥스트 VPS SDK 사용\\n\\n## VPS 사용\\n\\nAssets\\MaxstA...\n",
       "996                                                  NaN\n",
       "997                                                  NaN\n",
       "Name: readme_contents, Length: 998, dtype: object"
      ]
     },
     "execution_count": 4,
     "metadata": {},
     "output_type": "execute_result"
    }
   ],
   "source": [
    "# Looking at messy reame_contents\n",
    "df.readme_contents"
   ]
  },
  {
   "cell_type": "code",
   "execution_count": 5,
   "id": "2c121084",
   "metadata": {},
   "outputs": [
    {
     "data": {
      "text/plain": [
       "repo                 0\n",
       "language           316\n",
       "readme_contents    257\n",
       "dtype: int64"
      ]
     },
     "execution_count": 5,
     "metadata": {},
     "output_type": "execute_result"
    }
   ],
   "source": [
    "df.isnull().sum()"
   ]
  },
  {
   "cell_type": "markdown",
   "id": "eefffc6f",
   "metadata": {},
   "source": [
    "### Data Preparation - Cleaning"
   ]
  },
  {
   "cell_type": "code",
   "execution_count": 7,
   "id": "35a0e6c1",
   "metadata": {},
   "outputs": [
    {
     "name": "stdout",
     "output_type": "stream",
     "text": [
      "df shape: (998, 3)\n"
     ]
    },
    {
     "data": {
      "text/html": [
       "<div>\n",
       "<style scoped>\n",
       "    .dataframe tbody tr th:only-of-type {\n",
       "        vertical-align: middle;\n",
       "    }\n",
       "\n",
       "    .dataframe tbody tr th {\n",
       "        vertical-align: top;\n",
       "    }\n",
       "\n",
       "    .dataframe thead th {\n",
       "        text-align: right;\n",
       "    }\n",
       "</style>\n",
       "<table border=\"1\" class=\"dataframe\">\n",
       "  <thead>\n",
       "    <tr style=\"text-align: right;\">\n",
       "      <th></th>\n",
       "      <th>repo</th>\n",
       "      <th>language</th>\n",
       "      <th>readme_contents</th>\n",
       "    </tr>\n",
       "  </thead>\n",
       "  <tbody>\n",
       "    <tr>\n",
       "      <th>0</th>\n",
       "      <td>M3-org/awesome-metaverse</td>\n",
       "      <td>nan</td>\n",
       "      <td># Awesome Metaverse [![Awesome](https://awesom...</td>\n",
       "    </tr>\n",
       "    <tr>\n",
       "      <th>1</th>\n",
       "      <td>mvs-org/metaverse</td>\n",
       "      <td>C++</td>\n",
       "      <td>Metaverse Core Integration/staging Tree\\n=====...</td>\n",
       "    </tr>\n",
       "    <tr>\n",
       "      <th>2</th>\n",
       "      <td>webaverse/app</td>\n",
       "      <td>JavaScript</td>\n",
       "      <td>&lt;img src=\"docs/banner.jpeg\" width=100% /&gt;\\n\\n&lt;...</td>\n",
       "    </tr>\n",
       "    <tr>\n",
       "      <th>3</th>\n",
       "      <td>shadowcz007/awesome-metaverse</td>\n",
       "      <td>nan</td>\n",
       "      <td># awesome-metaverse\\n&lt;a href=\"https://awesome....</td>\n",
       "    </tr>\n",
       "    <tr>\n",
       "      <th>4</th>\n",
       "      <td>vircadia/vircadia</td>\n",
       "      <td>C++</td>\n",
       "      <td>&lt;p align=\"center\"&gt;&lt;a href=\"https://vircadia.co...</td>\n",
       "    </tr>\n",
       "  </tbody>\n",
       "</table>\n",
       "</div>"
      ],
      "text/plain": [
       "                            repo    language  \\\n",
       "0       M3-org/awesome-metaverse         nan   \n",
       "1              mvs-org/metaverse         C++   \n",
       "2                  webaverse/app  JavaScript   \n",
       "3  shadowcz007/awesome-metaverse         nan   \n",
       "4              vircadia/vircadia         C++   \n",
       "\n",
       "                                     readme_contents  \n",
       "0  # Awesome Metaverse [![Awesome](https://awesom...  \n",
       "1  Metaverse Core Integration/staging Tree\\n=====...  \n",
       "2  <img src=\"docs/banner.jpeg\" width=100% />\\n\\n<...  \n",
       "3  # awesome-metaverse\\n<a href=\"https://awesome....  \n",
       "4  <p align=\"center\"><a href=\"https://vircadia.co...  "
      ]
     },
     "execution_count": 7,
     "metadata": {},
     "output_type": "execute_result"
    }
   ],
   "source": [
    "# Calling prepare function to clean dataframe\n",
    "df = prepare.clean_data_objects(df)\n",
    "df.head()"
   ]
  },
  {
   "cell_type": "code",
   "execution_count": 8,
   "id": "d0e30416",
   "metadata": {},
   "outputs": [
    {
     "data": {
      "text/html": [
       "<div>\n",
       "<style scoped>\n",
       "    .dataframe tbody tr th:only-of-type {\n",
       "        vertical-align: middle;\n",
       "    }\n",
       "\n",
       "    .dataframe tbody tr th {\n",
       "        vertical-align: top;\n",
       "    }\n",
       "\n",
       "    .dataframe thead th {\n",
       "        text-align: right;\n",
       "    }\n",
       "</style>\n",
       "<table border=\"1\" class=\"dataframe\">\n",
       "  <thead>\n",
       "    <tr style=\"text-align: right;\">\n",
       "      <th></th>\n",
       "      <th>repo</th>\n",
       "      <th>language</th>\n",
       "      <th>readme_contents</th>\n",
       "    </tr>\n",
       "  </thead>\n",
       "  <tbody>\n",
       "    <tr>\n",
       "      <th>0</th>\n",
       "      <td>M3-org/awesome-metaverse</td>\n",
       "      <td>nan</td>\n",
       "      <td>awesome awesome awesome badge svg awesome list...</td>\n",
       "    </tr>\n",
       "    <tr>\n",
       "      <th>1</th>\n",
       "      <td>mvs-org/metaverse</td>\n",
       "      <td>C++</td>\n",
       "      <td>core integration staging tree build status tra...</td>\n",
       "    </tr>\n",
       "    <tr>\n",
       "      <th>2</th>\n",
       "      <td>webaverse/app</td>\n",
       "      <td>JavaScript</td>\n",
       "      <td>img src doc banner jpeg width 100 align center...</td>\n",
       "    </tr>\n",
       "    <tr>\n",
       "      <th>3</th>\n",
       "      <td>shadowcz007/awesome-metaverse</td>\n",
       "      <td>nan</td>\n",
       "      <td>awesome href awesome target blank img alt awes...</td>\n",
       "    </tr>\n",
       "    <tr>\n",
       "      <th>4</th>\n",
       "      <td>vircadia/vircadia</td>\n",
       "      <td>C++</td>\n",
       "      <td>align center href vircadia img src interface r...</td>\n",
       "    </tr>\n",
       "  </tbody>\n",
       "</table>\n",
       "</div>"
      ],
      "text/plain": [
       "                            repo    language  \\\n",
       "0       M3-org/awesome-metaverse         nan   \n",
       "1              mvs-org/metaverse         C++   \n",
       "2                  webaverse/app  JavaScript   \n",
       "3  shadowcz007/awesome-metaverse         nan   \n",
       "4              vircadia/vircadia         C++   \n",
       "\n",
       "                                     readme_contents  \n",
       "0  awesome awesome awesome badge svg awesome list...  \n",
       "1  core integration staging tree build status tra...  \n",
       "2  img src doc banner jpeg width 100 align center...  \n",
       "3  awesome href awesome target blank img alt awes...  \n",
       "4  align center href vircadia img src interface r...  "
      ]
     },
     "execution_count": 8,
     "metadata": {},
     "output_type": "execute_result"
    }
   ],
   "source": [
    "# Calling mass_text_clean function to clean readme content\n",
    "df[\"readme_contents\"] = df[\"readme_contents\"].apply(prepare.mass_text_clean)\n",
    "df.head()"
   ]
  },
  {
   "cell_type": "code",
   "execution_count": 9,
   "id": "dd50cd55",
   "metadata": {},
   "outputs": [
    {
     "data": {
      "text/plain": [
       "nan                 316\n",
       "JavaScript          266\n",
       "C#                   78\n",
       "HTML                 72\n",
       "TypeScript           70\n",
       "Solidity             27\n",
       "CSS                  23\n",
       "Python               22\n",
       "Rust                 16\n",
       "Go                   15\n",
       "C++                  14\n",
       "Jupyter Notebook     11\n",
       "Java                  7\n",
       "ShaderLab             7\n",
       "SCSS                  6\n",
       "Vue                   5\n",
       "Shell                 5\n",
       "PHP                   5\n",
       "SuperCollider         3\n",
       "Clojure               3\n",
       "Batchfile             2\n",
       "Roff                  2\n",
       "Swift                 2\n",
       "C                     2\n",
       "GLSL                  2\n",
       "GDScript              2\n",
       "Objective-C           2\n",
       "Kotlin                2\n",
       "HCL                   1\n",
       "EJS                   1\n",
       "PowerShell            1\n",
       "Svelte                1\n",
       "TeX                   1\n",
       "Objective-C++         1\n",
       "Cadence               1\n",
       "Metal                 1\n",
       "R                     1\n",
       "LSL                   1\n",
       "ASP.NET               1\n",
       "Name: language, dtype: int64"
      ]
     },
     "execution_count": 9,
     "metadata": {},
     "output_type": "execute_result"
    }
   ],
   "source": [
    "df.language.value_counts()"
   ]
  },
  {
   "cell_type": "code",
   "execution_count": 96,
   "id": "6379a15f",
   "metadata": {},
   "outputs": [],
   "source": [
    "# Update language function to reduce noises in language, function writeen by B.G.\n",
    "\n",
    "def update_languages(df):\n",
    "    ''' Dataset has multiple languages.  SOme languages are itterations of other languages.\n",
    "    This function is to replace some of the languages names so the are in the same category'''\n",
    "    # Jupyter notebook as Python\n",
    "    df=df.replace('Jupyter Notebook', 'Python')\n",
    "    # C Related Languages\n",
    "    df=df.replace(('Objective-C++','Objective-C','C','C++','C#','SuperCollider','GLSL'),'C')\n",
    "    # Java Related Languages ans sublanguages\n",
    "    df=df.replace(('JavaScript', 'Vue','Clojure','Kotlin','EJS'), 'Java')\n",
    "    # TypeScript Languages\n",
    "    df=df.replace('Svelte','TypeScript')\n",
    "    # Microsoft languages for windows applications\n",
    "    df=df.replace(('PowerShell','Batchfile','Shell'),'Microsoft')\n",
    "    # iOS related languages\n",
    "    df=df.replace(('Metal','Swift'),'iOS')\n",
    "    # languages with < 10 usage\n",
    "    df=df.replace(('Microsoft','ShaderLab','SCSS','PHP','iOS','GDScript','Roff','HCL','TeX', 'Cadence','R','LSL','ASP.NET'),'other')\n",
    "    # NaNs\n",
    "    df=df.replace('nan', 'text')\n",
    "    return df"
   ]
  },
  {
   "cell_type": "code",
   "execution_count": 97,
   "id": "783d9ac0",
   "metadata": {},
   "outputs": [],
   "source": [
    "# Using function to clean language\n",
    "df = update_languages(df)"
   ]
  },
  {
   "cell_type": "code",
   "execution_count": 98,
   "id": "ae7220b2",
   "metadata": {},
   "outputs": [
    {
     "data": {
      "text/plain": [
       "text          316\n",
       "Java          284\n",
       "C             102\n",
       "HTML           72\n",
       "TypeScript     71\n",
       "other          39\n",
       "Python         33\n",
       "Solidity       27\n",
       "CSS            23\n",
       "Rust           16\n",
       "Go             15\n",
       "Name: language, dtype: int64"
      ]
     },
     "execution_count": 98,
     "metadata": {},
     "output_type": "execute_result"
    }
   ],
   "source": [
    "# Check the cleaned language\n",
    "df.language.value_counts()"
   ]
  },
  {
   "cell_type": "markdown",
   "id": "0ad582cc",
   "metadata": {},
   "source": [
    "### Data Preparation - Splitting"
   ]
  },
  {
   "cell_type": "code",
   "execution_count": 13,
   "id": "19ca4639",
   "metadata": {},
   "outputs": [],
   "source": [
    "def train_validate_test_split(df, target, seed=123):\n",
    "    '''\n",
    "    This function takes in a dataframe, the name of the target variable\n",
    "    (for stratification purposes), and an integer for a setting a seed\n",
    "    and splits the data into train, validate and test. \n",
    "    Test is 20% of the original dataset, validate is .30*.80= 24% of the \n",
    "    original dataset, and train is .70*.80= 56% of the original dataset. \n",
    "    The function returns, in this order, train, validate and test dataframes. \n",
    "    '''\n",
    "    train_validate, test = train_test_split(df, test_size=0.2, \n",
    "                                            random_state=seed, \n",
    "                                            stratify=df[target])\n",
    "    train, validate = train_test_split(train_validate, test_size=0.3, \n",
    "                                       random_state=seed,\n",
    "                                       stratify=train_validate[target])\n",
    "    return train, validate, test"
   ]
  },
  {
   "cell_type": "code",
   "execution_count": 14,
   "id": "f981f0f0",
   "metadata": {},
   "outputs": [],
   "source": [
    "# Calling function to split data into train, validate, test\n",
    "train, validate, test = train_validate_test_split(df, 'language')"
   ]
  },
  {
   "cell_type": "markdown",
   "id": "cb64a5ec",
   "metadata": {},
   "source": [
    "***"
   ]
  },
  {
   "cell_type": "markdown",
   "id": "b9ff3436",
   "metadata": {},
   "source": [
    "# Explore"
   ]
  },
  {
   "cell_type": "markdown",
   "id": "ebf6cacb",
   "metadata": {},
   "source": [
    "## Target Variable Univariate Analysis"
   ]
  },
  {
   "cell_type": "markdown",
   "id": "078b20f2",
   "metadata": {},
   "source": [
    "#### Train Language Percentages"
   ]
  },
  {
   "cell_type": "code",
   "execution_count": 15,
   "id": "b3c8a55a",
   "metadata": {},
   "outputs": [
    {
     "data": {
      "text/html": [
       "<div>\n",
       "<style scoped>\n",
       "    .dataframe tbody tr th:only-of-type {\n",
       "        vertical-align: middle;\n",
       "    }\n",
       "\n",
       "    .dataframe tbody tr th {\n",
       "        vertical-align: top;\n",
       "    }\n",
       "\n",
       "    .dataframe thead th {\n",
       "        text-align: right;\n",
       "    }\n",
       "</style>\n",
       "<table border=\"1\" class=\"dataframe\">\n",
       "  <thead>\n",
       "    <tr style=\"text-align: right;\">\n",
       "      <th></th>\n",
       "      <th>n</th>\n",
       "      <th>percent</th>\n",
       "    </tr>\n",
       "  </thead>\n",
       "  <tbody>\n",
       "    <tr>\n",
       "      <th>nan</th>\n",
       "      <td>177</td>\n",
       "      <td>0.317204</td>\n",
       "    </tr>\n",
       "    <tr>\n",
       "      <th>Java</th>\n",
       "      <td>159</td>\n",
       "      <td>0.284946</td>\n",
       "    </tr>\n",
       "    <tr>\n",
       "      <th>C</th>\n",
       "      <td>57</td>\n",
       "      <td>0.102151</td>\n",
       "    </tr>\n",
       "    <tr>\n",
       "      <th>TypeScript</th>\n",
       "      <td>40</td>\n",
       "      <td>0.071685</td>\n",
       "    </tr>\n",
       "    <tr>\n",
       "      <th>HTML</th>\n",
       "      <td>40</td>\n",
       "      <td>0.071685</td>\n",
       "    </tr>\n",
       "    <tr>\n",
       "      <th>other</th>\n",
       "      <td>22</td>\n",
       "      <td>0.039427</td>\n",
       "    </tr>\n",
       "    <tr>\n",
       "      <th>Python</th>\n",
       "      <td>18</td>\n",
       "      <td>0.032258</td>\n",
       "    </tr>\n",
       "    <tr>\n",
       "      <th>Solidity</th>\n",
       "      <td>15</td>\n",
       "      <td>0.026882</td>\n",
       "    </tr>\n",
       "    <tr>\n",
       "      <th>CSS</th>\n",
       "      <td>13</td>\n",
       "      <td>0.023297</td>\n",
       "    </tr>\n",
       "    <tr>\n",
       "      <th>Rust</th>\n",
       "      <td>9</td>\n",
       "      <td>0.016129</td>\n",
       "    </tr>\n",
       "    <tr>\n",
       "      <th>Go</th>\n",
       "      <td>8</td>\n",
       "      <td>0.014337</td>\n",
       "    </tr>\n",
       "  </tbody>\n",
       "</table>\n",
       "</div>"
      ],
      "text/plain": [
       "              n   percent\n",
       "nan         177  0.317204\n",
       "Java        159  0.284946\n",
       "C            57  0.102151\n",
       "TypeScript   40  0.071685\n",
       "HTML         40  0.071685\n",
       "other        22  0.039427\n",
       "Python       18  0.032258\n",
       "Solidity     15  0.026882\n",
       "CSS          13  0.023297\n",
       "Rust          9  0.016129\n",
       "Go            8  0.014337"
      ]
     },
     "execution_count": 15,
     "metadata": {},
     "output_type": "execute_result"
    }
   ],
   "source": [
    "labels = pd.concat([train.language.value_counts(),\n",
    "                    train.language.value_counts(normalize=True)], axis=1)\n",
    "labels.columns = ['n', 'percent']\n",
    "labels"
   ]
  },
  {
   "cell_type": "code",
   "execution_count": 36,
   "id": "95a497ee",
   "metadata": {},
   "outputs": [
    {
     "data": {
      "text/plain": [
       "Index(['nan', 'Java', 'C', 'TypeScript', 'HTML', 'other', 'Python', 'Solidity',\n",
       "       'CSS', 'Rust', 'Go'],\n",
       "      dtype='object')"
      ]
     },
     "execution_count": 36,
     "metadata": {},
     "output_type": "execute_result"
    }
   ],
   "source": [
    "labels.index"
   ]
  },
  {
   "cell_type": "code",
   "execution_count": 42,
   "id": "b8029fda",
   "metadata": {},
   "outputs": [
    {
     "data": {
      "image/png": "[encoded data removed]",
      "text/plain": [
       "<Figure size 1152x864 with 1 Axes>"
      ]
     },
     "metadata": {},
     "output_type": "display_data"
    }
   ],
   "source": [
    "plt.figure(figsize=(16,12))\n",
    "mylabels = ['nan', 'Java', 'C', 'TypeScript', 'HTML', 'other', 'Python', 'Solidity',\n",
    "       'CSS', 'Rust', 'Go']\n",
    "mycolors = ['#484553', '#3c1361', '#663a82', '#89609e', '#a86cc1', '#c377e0', '#cd8de5', '#d5a6e6', '#dfc0eb', '#eddbf4', '#f7f0fa']\n",
    "textprops = {\"fontsize\":15}\n",
    "plt.pie(labels.percent, labels = mylabels, colors = mycolors, textprops=textprops, autopct='%.1f%%')\n",
    "plt.legend()\n",
    "plt.title('Overall Language Distribution',fontsize=18)\n",
    "plt.show() \n"
   ]
  },
  {
   "cell_type": "markdown",
   "id": "b05a35bd",
   "metadata": {},
   "source": [
    "### Takeaway: Besides the NaN values, Java and C/C++ are the most common languages for metaverse repos."
   ]
  },
  {
   "cell_type": "markdown",
   "id": "7f609baf",
   "metadata": {},
   "source": [
    "***"
   ]
  },
  {
   "cell_type": "markdown",
   "id": "10e7d39e",
   "metadata": {},
   "source": [
    "## Question 1: What are the most common words in READMEs?"
   ]
  },
  {
   "cell_type": "code",
   "execution_count": 43,
   "id": "fb30aa75",
   "metadata": {},
   "outputs": [
    {
     "data": {
      "text/html": [
       "<div>\n",
       "<style scoped>\n",
       "    .dataframe tbody tr th:only-of-type {\n",
       "        vertical-align: middle;\n",
       "    }\n",
       "\n",
       "    .dataframe tbody tr th {\n",
       "        vertical-align: top;\n",
       "    }\n",
       "\n",
       "    .dataframe thead th {\n",
       "        text-align: right;\n",
       "    }\n",
       "</style>\n",
       "<table border=\"1\" class=\"dataframe\">\n",
       "  <thead>\n",
       "    <tr style=\"text-align: right;\">\n",
       "      <th></th>\n",
       "      <th>repo</th>\n",
       "      <th>language</th>\n",
       "      <th>readme_contents</th>\n",
       "    </tr>\n",
       "  </thead>\n",
       "  <tbody>\n",
       "    <tr>\n",
       "      <th>888</th>\n",
       "      <td>Project-metaverse/METAVERSE</td>\n",
       "      <td>nan</td>\n",
       "      <td>nan</td>\n",
       "    </tr>\n",
       "    <tr>\n",
       "      <th>36</th>\n",
       "      <td>facemoji/alter-core</td>\n",
       "      <td>other</td>\n",
       "      <td>h1 align center discontinued h1 due change hor...</td>\n",
       "    </tr>\n",
       "    <tr>\n",
       "      <th>119</th>\n",
       "      <td>mvs-org/mvsd-mysql-sync</td>\n",
       "      <td>nan</td>\n",
       "      <td>mysql sync docker image sync mvsd mysql setup ...</td>\n",
       "    </tr>\n",
       "    <tr>\n",
       "      <th>729</th>\n",
       "      <td>zdjiangfdu/Metaverse</td>\n",
       "      <td>nan</td>\n",
       "      <td>project application</td>\n",
       "    </tr>\n",
       "    <tr>\n",
       "      <th>363</th>\n",
       "      <td>vinlandstudios/vinland-website</td>\n",
       "      <td>Java</td>\n",
       "      <td>vinland multichain defi vinland multichain def...</td>\n",
       "    </tr>\n",
       "  </tbody>\n",
       "</table>\n",
       "</div>"
      ],
      "text/plain": [
       "                               repo language  \\\n",
       "888     Project-metaverse/METAVERSE      nan   \n",
       "36              facemoji/alter-core    other   \n",
       "119         mvs-org/mvsd-mysql-sync      nan   \n",
       "729            zdjiangfdu/Metaverse      nan   \n",
       "363  vinlandstudios/vinland-website     Java   \n",
       "\n",
       "                                       readme_contents  \n",
       "888                                                nan  \n",
       "36   h1 align center discontinued h1 due change hor...  \n",
       "119  mysql sync docker image sync mvsd mysql setup ...  \n",
       "729                                project application  \n",
       "363  vinland multichain defi vinland multichain def...  "
      ]
     },
     "execution_count": 43,
     "metadata": {},
     "output_type": "execute_result"
    }
   ],
   "source": [
    "train.head()"
   ]
  },
  {
   "cell_type": "code",
   "execution_count": 44,
   "id": "652576ef",
   "metadata": {},
   "outputs": [],
   "source": [
    "# Pull all text from readme_contents together\n",
    "all_content = ' '.join(train.readme_contents)"
   ]
  },
  {
   "cell_type": "code",
   "execution_count": 57,
   "id": "924c9857",
   "metadata": {},
   "outputs": [
    {
     "data": {
      "text/plain": [
       "'nan h1 align center discontinued h1 due change horizon weve disabled new api key generation alter st'"
      ]
     },
     "execution_count": 57,
     "metadata": {},
     "output_type": "execute_result"
    }
   ],
   "source": [
    "# Look at all content\n",
    "all_content[:100]"
   ]
  },
  {
   "cell_type": "code",
   "execution_count": 47,
   "id": "002b6a1d",
   "metadata": {},
   "outputs": [
    {
     "data": {
      "text/plain": [
       "0              961\n",
       "app            639\n",
       "doc            548\n",
       "create         526\n",
       "img            503\n",
       "next           501\n",
       "project        478\n",
       "run            445\n",
       "build          443\n",
       "npm            388\n",
       "open           371\n",
       "src            336\n",
       "tailwindcss    336\n",
       "href           332\n",
       "vercel         331\n",
       "www            325\n",
       "address        323\n",
       "react          310\n",
       "world          306\n",
       "user           283\n",
       "dtype: int64"
      ]
     },
     "execution_count": 47,
     "metadata": {},
     "output_type": "execute_result"
    }
   ],
   "source": [
    "# The most frequent words from all content\n",
    "pd.Series(all_content.split()).value_counts().head(20)"
   ]
  },
  {
   "cell_type": "code",
   "execution_count": 64,
   "id": "459effc0",
   "metadata": {},
   "outputs": [],
   "source": [
    "# Store content frequency into dataframe\n",
    "all_freq = pd.DataFrame(pd.Series((all_content.split())).value_counts().head(20), columns = ['Frequency'])"
   ]
  },
  {
   "cell_type": "code",
   "execution_count": 65,
   "id": "ca36d5fa",
   "metadata": {},
   "outputs": [
    {
     "data": {
      "text/html": [
       "<div>\n",
       "<style scoped>\n",
       "    .dataframe tbody tr th:only-of-type {\n",
       "        vertical-align: middle;\n",
       "    }\n",
       "\n",
       "    .dataframe tbody tr th {\n",
       "        vertical-align: top;\n",
       "    }\n",
       "\n",
       "    .dataframe thead th {\n",
       "        text-align: right;\n",
       "    }\n",
       "</style>\n",
       "<table border=\"1\" class=\"dataframe\">\n",
       "  <thead>\n",
       "    <tr style=\"text-align: right;\">\n",
       "      <th></th>\n",
       "      <th>Frequency</th>\n",
       "    </tr>\n",
       "  </thead>\n",
       "  <tbody>\n",
       "    <tr>\n",
       "      <th>0</th>\n",
       "      <td>961</td>\n",
       "    </tr>\n",
       "    <tr>\n",
       "      <th>app</th>\n",
       "      <td>639</td>\n",
       "    </tr>\n",
       "    <tr>\n",
       "      <th>doc</th>\n",
       "      <td>548</td>\n",
       "    </tr>\n",
       "    <tr>\n",
       "      <th>create</th>\n",
       "      <td>526</td>\n",
       "    </tr>\n",
       "    <tr>\n",
       "      <th>img</th>\n",
       "      <td>503</td>\n",
       "    </tr>\n",
       "    <tr>\n",
       "      <th>next</th>\n",
       "      <td>501</td>\n",
       "    </tr>\n",
       "    <tr>\n",
       "      <th>project</th>\n",
       "      <td>478</td>\n",
       "    </tr>\n",
       "    <tr>\n",
       "      <th>run</th>\n",
       "      <td>445</td>\n",
       "    </tr>\n",
       "    <tr>\n",
       "      <th>build</th>\n",
       "      <td>443</td>\n",
       "    </tr>\n",
       "    <tr>\n",
       "      <th>npm</th>\n",
       "      <td>388</td>\n",
       "    </tr>\n",
       "    <tr>\n",
       "      <th>open</th>\n",
       "      <td>371</td>\n",
       "    </tr>\n",
       "    <tr>\n",
       "      <th>tailwindcss</th>\n",
       "      <td>336</td>\n",
       "    </tr>\n",
       "    <tr>\n",
       "      <th>src</th>\n",
       "      <td>336</td>\n",
       "    </tr>\n",
       "    <tr>\n",
       "      <th>href</th>\n",
       "      <td>332</td>\n",
       "    </tr>\n",
       "    <tr>\n",
       "      <th>vercel</th>\n",
       "      <td>331</td>\n",
       "    </tr>\n",
       "    <tr>\n",
       "      <th>www</th>\n",
       "      <td>325</td>\n",
       "    </tr>\n",
       "    <tr>\n",
       "      <th>address</th>\n",
       "      <td>323</td>\n",
       "    </tr>\n",
       "    <tr>\n",
       "      <th>react</th>\n",
       "      <td>310</td>\n",
       "    </tr>\n",
       "    <tr>\n",
       "      <th>world</th>\n",
       "      <td>306</td>\n",
       "    </tr>\n",
       "    <tr>\n",
       "      <th>user</th>\n",
       "      <td>283</td>\n",
       "    </tr>\n",
       "  </tbody>\n",
       "</table>\n",
       "</div>"
      ],
      "text/plain": [
       "             Frequency\n",
       "0                  961\n",
       "app                639\n",
       "doc                548\n",
       "create             526\n",
       "img                503\n",
       "next               501\n",
       "project            478\n",
       "run                445\n",
       "build              443\n",
       "npm                388\n",
       "open               371\n",
       "tailwindcss        336\n",
       "src                336\n",
       "href               332\n",
       "vercel             331\n",
       "www                325\n",
       "address            323\n",
       "react              310\n",
       "world              306\n",
       "user               283"
      ]
     },
     "execution_count": 65,
     "metadata": {},
     "output_type": "execute_result"
    }
   ],
   "source": [
    "all_freq"
   ]
  },
  {
   "cell_type": "markdown",
   "id": "56d3c4c5",
   "metadata": {},
   "source": [
    "**Seaborn palette**\n",
    "'Accent', 'Accent_r', 'Blues', 'Blues_r', 'BrBG', 'BrBG_r', 'BuGn', 'BuGn_r', 'BuPu', 'BuPu_r', 'CMRmap', 'CMRmap_r', 'Dark2', 'Dark2_r', 'GnBu', 'GnBu_r', 'Greens', 'Greens_r', 'Greys', 'Greys_r', 'OrRd', 'OrRd_r', 'Oranges', 'Oranges_r', 'PRGn', 'PRGn_r', 'Paired', 'Paired_r', 'Pastel1', 'Pastel1_r', 'Pastel2', 'Pastel2_r', 'PiYG', 'PiYG_r', 'PuBu', 'PuBuGn', 'PuBuGn_r', 'PuBu_r', 'PuOr', 'PuOr_r', 'PuRd', 'PuRd_r', 'Purples', 'Purples_r', 'RdBu', 'RdBu_r', 'RdGy', 'RdGy_r', 'RdPu', 'RdPu_r', 'RdYlBu', 'RdYlBu_r', 'RdYlGn', 'RdYlGn_r', 'Reds', 'Reds_r', 'Set1', 'Set1_r', 'Set2', 'Set2_r', 'Set3', 'Set3_r', 'Spectral', 'Spectral_r', 'Wistia', 'Wistia_r', 'YlGn', 'YlGnBu', 'YlGnBu_r', 'YlGn_r', 'YlOrBr', 'YlOrBr_r', 'YlOrRd', 'YlOrRd_r', 'afmhot', 'afmhot_r', 'autumn', 'autumn_r', 'binary', 'binary_r', 'bone', 'bone_r', 'brg', 'brg_r', 'bwr', 'bwr_r', 'cividis', 'cividis_r', 'cool', 'cool_r', 'coolwarm', 'coolwarm_r', 'copper', 'copper_r', 'crest', 'crest_r', 'cubehelix', 'cubehelix_r', 'flag', 'flag_r', 'flare', 'flare_r', 'gist_earth', 'gist_earth_r', 'gist_gray', 'gist_gray_r', 'gist_heat', 'gist_heat_r', 'gist_ncar', 'gist_ncar_r', 'gist_rainbow', 'gist_rainbow_r', 'gist_stern', 'gist_stern_r', 'gist_yarg', 'gist_yarg_r', 'gnuplot', 'gnuplot2', 'gnuplot2_r', 'gnuplot_r', 'gray', 'gray_r', 'hot', 'hot_r', 'hsv', 'hsv_r', 'icefire', 'icefire_r', 'inferno', 'inferno_r', 'jet', 'jet_r', 'magma', 'magma_r', 'mako', 'mako_r', 'nipy_spectral', 'nipy_spectral_r', 'ocean', 'ocean_r', 'pink', 'pink_r', 'plasma', 'plasma_r', 'prism', 'prism_r', 'rainbow', 'rainbow_r', 'rocket', 'rocket_r', 'seismic', 'seismic_r', 'spring', 'spring_r', 'summer', 'summer_r', 'tab10', 'tab10_r', 'tab20', 'tab20_r', 'tab20b', 'tab20b_r', 'tab20c', 'tab20c_r', 'terrain', 'terrain_r', 'turbo', 'turbo_r', 'twilight', 'twilight_r', 'twilight_shifted', 'twilight_shifted_r', 'viridis', 'viridis_r', 'vlag', 'vlag_r', 'winter', 'winter_r'"
   ]
  },
  {
   "cell_type": "code",
   "execution_count": 93,
   "id": "8def8108",
   "metadata": {},
   "outputs": [
    {
     "data": {
      "text/plain": [
       "<AxesSubplot:title={'center':'Top 20 Most Common Words in Metaverse READMEs'}, xlabel='Words', ylabel='Frequency'>"
      ]
     },
     "execution_count": 93,
     "metadata": {},
     "output_type": "execute_result"
    },
    {
     "data": {
      "image/png": "[encoded data removed]",
      "text/plain": [
       "<Figure size 1152x576 with 1 Axes>"
      ]
     },
     "metadata": {},
     "output_type": "display_data"
    }
   ],
   "source": [
    "# Visualize most frequent words\n",
    "plt.figure(figsize = (16,8))\n",
    "plt.xlabel('Words', fontsize = 16)\n",
    "plt.ylabel('Frequency', fontsize = 16)\n",
    "plt.title('Top 20 Most Common Words in Metaverse READMEs', fontsize = 20)\n",
    "sns.barplot(x=all_freq.index, y=all_freq.Frequency, palette ='Purples_r')"
   ]
  },
  {
   "cell_type": "markdown",
   "id": "0185387c",
   "metadata": {},
   "source": [
    "### Takeaway: '0', 'app', 'doc', 'create', 'img', 'next', 'project', 'run', etc. are the most common words."
   ]
  },
  {
   "cell_type": "markdown",
   "id": "d6b74177",
   "metadata": {},
   "source": [
    "***"
   ]
  },
  {
   "cell_type": "markdown",
   "id": "c05d0ec2",
   "metadata": {},
   "source": [
    "## Question 2: Does the length of the README vary by programming language?"
   ]
  },
  {
   "cell_type": "code",
   "execution_count": 94,
   "id": "0743629b",
   "metadata": {},
   "outputs": [
    {
     "data": {
      "text/plain": [
       "nan           177\n",
       "Java          159\n",
       "C              57\n",
       "TypeScript     40\n",
       "HTML           40\n",
       "other          22\n",
       "Python         18\n",
       "Solidity       15\n",
       "CSS            13\n",
       "Rust            9\n",
       "Go              8\n",
       "Name: language, dtype: int64"
      ]
     },
     "execution_count": 94,
     "metadata": {},
     "output_type": "execute_result"
    }
   ],
   "source": [
    "train.language.value_counts()"
   ]
  },
  {
   "cell_type": "markdown",
   "id": "9b41163b",
   "metadata": {},
   "source": [
    "### Takeaway:"
   ]
  },
  {
   "cell_type": "markdown",
   "id": "f27ccd02",
   "metadata": {},
   "source": [
    "***"
   ]
  },
  {
   "cell_type": "markdown",
   "id": "c037e076",
   "metadata": {},
   "source": [
    "## Question 3: Do different programming languages use a different number of unique words?"
   ]
  },
  {
   "cell_type": "code",
   "execution_count": null,
   "id": "ef3b708f",
   "metadata": {},
   "outputs": [],
   "source": []
  },
  {
   "cell_type": "markdown",
   "id": "89d9833f",
   "metadata": {},
   "source": [
    "### Takeaway:"
   ]
  },
  {
   "cell_type": "markdown",
   "id": "589f3997",
   "metadata": {},
   "source": [
    "***"
   ]
  },
  {
   "cell_type": "markdown",
   "id": "e77119a8",
   "metadata": {},
   "source": [
    "## Question 4: Are there any words that uniquely identify a programming language?"
   ]
  },
  {
   "cell_type": "code",
   "execution_count": null,
   "id": "4f2748a7",
   "metadata": {},
   "outputs": [],
   "source": []
  },
  {
   "cell_type": "markdown",
   "id": "61ee894e",
   "metadata": {},
   "source": [
    "### Takeaway:"
   ]
  },
  {
   "cell_type": "markdown",
   "id": "425d0b01",
   "metadata": {},
   "source": [
    "***"
   ]
  },
  {
   "cell_type": "code",
   "execution_count": null,
   "id": "3f6ac67f",
   "metadata": {},
   "outputs": [],
   "source": []
  }
 ],
 "metadata": {
  "kernelspec": {
   "display_name": "Python 3 (ipykernel)",
   "language": "python",
   "name": "python3"
  },
  "language_info": {
   "codemirror_mode": {
    "name": "ipython",
    "version": 3
   },
   "file_extension": ".py",
   "mimetype": "text/x-python",
   "name": "python",
   "nbconvert_exporter": "python",
   "pygments_lexer": "ipython3",
   "version": "3.9.12"
  }
 },
 "nbformat": 4,
 "nbformat_minor": 5
}
