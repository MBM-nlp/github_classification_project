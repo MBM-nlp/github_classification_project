{
 "cells": [
  {
   "cell_type": "code",
   "execution_count": 6,
   "id": "fdbd7f20",
   "metadata": {},
   "outputs": [],
   "source": [
    "# notebook dependencies \n",
    "import os # used in caching\n",
    "import pandas as pd\n",
    "import numpy as np\n",
    "\n",
    "# visualization imports\n",
    "import matplotlib as mpl\n",
    "import matplotlib.pyplot as plt\n",
    "import seaborn as sns\n",
    "sns.set()\n",
    "\n",
    "# regular expression import\n",
    "import re\n",
    "\n",
    "# JSON import\n",
    "import json\n",
    "\n",
    "# importing BeautifulSoup for parsing HTML/XTML\n",
    "from bs4 import BeautifulSoup as BSoup\n",
    "\n",
    "# request module for connecting to APIs\n",
    "from requests import get\n",
    "\n",
    "# text prepare modules\n",
    "import acquire\n",
    "import prepare\n",
    "\n",
    "# uni-code library\n",
    "import unicodedata\n",
    "\n",
    "# natural language toolkit library/modules\n",
    "import nltk\n",
    "from nltk.stem import PorterStemmer, LancasterStemmer, WordNetLemmatizer\n",
    "\n",
    "from nltk.tokenize.toktok import ToktokTokenizer\n",
    "from nltk.corpus import stopwords\n",
    "\n",
    "#sklearn\n",
    "from sklearn.model_selection import train_test_split"
   ]
  },
  {
   "cell_type": "markdown",
   "id": "ecccdd4b",
   "metadata": {},
   "source": [
    "# Wrangling"
   ]
  },
  {
   "cell_type": "markdown",
   "id": "12aa7685",
   "metadata": {},
   "source": [
    "### Data Acquisition"
   ]
  },
  {
   "cell_type": "code",
   "execution_count": 2,
   "id": "bdb854ce",
   "metadata": {},
   "outputs": [],
   "source": [
    "# Reading in data\n",
    "df = pd.read_csv('metaverse.csv')"
   ]
  },
  {
   "cell_type": "code",
   "execution_count": 3,
   "id": "7858b21d",
   "metadata": {},
   "outputs": [
    {
     "data": {
      "text/html": [
       "<div>\n",
       "<style scoped>\n",
       "    .dataframe tbody tr th:only-of-type {\n",
       "        vertical-align: middle;\n",
       "    }\n",
       "\n",
       "    .dataframe tbody tr th {\n",
       "        vertical-align: top;\n",
       "    }\n",
       "\n",
       "    .dataframe thead th {\n",
       "        text-align: right;\n",
       "    }\n",
       "</style>\n",
       "<table border=\"1\" class=\"dataframe\">\n",
       "  <thead>\n",
       "    <tr style=\"text-align: right;\">\n",
       "      <th></th>\n",
       "      <th>repo</th>\n",
       "      <th>language</th>\n",
       "      <th>readme_contents</th>\n",
       "    </tr>\n",
       "  </thead>\n",
       "  <tbody>\n",
       "    <tr>\n",
       "      <th>0</th>\n",
       "      <td>M3-org/awesome-metaverse</td>\n",
       "      <td>NaN</td>\n",
       "      <td># Awesome Metaverse [![Awesome](https://awesom...</td>\n",
       "    </tr>\n",
       "    <tr>\n",
       "      <th>1</th>\n",
       "      <td>mvs-org/metaverse</td>\n",
       "      <td>C++</td>\n",
       "      <td>Metaverse Core Integration/staging Tree\\n=====...</td>\n",
       "    </tr>\n",
       "    <tr>\n",
       "      <th>2</th>\n",
       "      <td>webaverse/app</td>\n",
       "      <td>JavaScript</td>\n",
       "      <td>&lt;img src=\"docs/banner.jpeg\" width=100% /&gt;\\n\\n&lt;...</td>\n",
       "    </tr>\n",
       "    <tr>\n",
       "      <th>3</th>\n",
       "      <td>shadowcz007/awesome-metaverse</td>\n",
       "      <td>NaN</td>\n",
       "      <td># awesome-metaverse\\n&lt;a href=\"https://awesome....</td>\n",
       "    </tr>\n",
       "    <tr>\n",
       "      <th>4</th>\n",
       "      <td>vircadia/vircadia</td>\n",
       "      <td>C++</td>\n",
       "      <td>&lt;p align=\"center\"&gt;&lt;a href=\"https://vircadia.co...</td>\n",
       "    </tr>\n",
       "    <tr>\n",
       "      <th>...</th>\n",
       "      <td>...</td>\n",
       "      <td>...</td>\n",
       "      <td>...</td>\n",
       "    </tr>\n",
       "    <tr>\n",
       "      <th>993</th>\n",
       "      <td>LinasKo/MetaVerse</td>\n",
       "      <td>C#</td>\n",
       "      <td># MetaVerse\\nVirtual Conference project for Me...</td>\n",
       "    </tr>\n",
       "    <tr>\n",
       "      <th>994</th>\n",
       "      <td>saiva11/Metaverse</td>\n",
       "      <td>Vue</td>\n",
       "      <td>NaN</td>\n",
       "    </tr>\n",
       "    <tr>\n",
       "      <th>995</th>\n",
       "      <td>dimplehh/metaverse</td>\n",
       "      <td>NaN</td>\n",
       "      <td># 맥스트 VPS SDK 사용\\n\\n## VPS 사용\\n\\nAssets\\MaxstA...</td>\n",
       "    </tr>\n",
       "    <tr>\n",
       "      <th>996</th>\n",
       "      <td>niksanvijan/MetaVerse</td>\n",
       "      <td>NaN</td>\n",
       "      <td>NaN</td>\n",
       "    </tr>\n",
       "    <tr>\n",
       "      <th>997</th>\n",
       "      <td>OctopusNO1/metaverse</td>\n",
       "      <td>NaN</td>\n",
       "      <td>NaN</td>\n",
       "    </tr>\n",
       "  </tbody>\n",
       "</table>\n",
       "<p>998 rows × 3 columns</p>\n",
       "</div>"
      ],
      "text/plain": [
       "                              repo    language  \\\n",
       "0         M3-org/awesome-metaverse         NaN   \n",
       "1                mvs-org/metaverse         C++   \n",
       "2                    webaverse/app  JavaScript   \n",
       "3    shadowcz007/awesome-metaverse         NaN   \n",
       "4                vircadia/vircadia         C++   \n",
       "..                             ...         ...   \n",
       "993              LinasKo/MetaVerse          C#   \n",
       "994              saiva11/Metaverse         Vue   \n",
       "995             dimplehh/metaverse         NaN   \n",
       "996          niksanvijan/MetaVerse         NaN   \n",
       "997           OctopusNO1/metaverse         NaN   \n",
       "\n",
       "                                       readme_contents  \n",
       "0    # Awesome Metaverse [![Awesome](https://awesom...  \n",
       "1    Metaverse Core Integration/staging Tree\\n=====...  \n",
       "2    <img src=\"docs/banner.jpeg\" width=100% />\\n\\n<...  \n",
       "3    # awesome-metaverse\\n<a href=\"https://awesome....  \n",
       "4    <p align=\"center\"><a href=\"https://vircadia.co...  \n",
       "..                                                 ...  \n",
       "993  # MetaVerse\\nVirtual Conference project for Me...  \n",
       "994                                                NaN  \n",
       "995  # 맥스트 VPS SDK 사용\\n\\n## VPS 사용\\n\\nAssets\\MaxstA...  \n",
       "996                                                NaN  \n",
       "997                                                NaN  \n",
       "\n",
       "[998 rows x 3 columns]"
      ]
     },
     "execution_count": 3,
     "metadata": {},
     "output_type": "execute_result"
    }
   ],
   "source": [
    "df"
   ]
  },
  {
   "cell_type": "code",
   "execution_count": 4,
   "id": "ccf4f9fa",
   "metadata": {},
   "outputs": [
    {
     "data": {
      "text/plain": [
       "0      # Awesome Metaverse [![Awesome](https://awesom...\n",
       "1      Metaverse Core Integration/staging Tree\\n=====...\n",
       "2      <img src=\"docs/banner.jpeg\" width=100% />\\n\\n<...\n",
       "3      # awesome-metaverse\\n<a href=\"https://awesome....\n",
       "4      <p align=\"center\"><a href=\"https://vircadia.co...\n",
       "                             ...                        \n",
       "993    # MetaVerse\\nVirtual Conference project for Me...\n",
       "994                                                  NaN\n",
       "995    # 맥스트 VPS SDK 사용\\n\\n## VPS 사용\\n\\nAssets\\MaxstA...\n",
       "996                                                  NaN\n",
       "997                                                  NaN\n",
       "Name: readme_contents, Length: 998, dtype: object"
      ]
     },
     "execution_count": 4,
     "metadata": {},
     "output_type": "execute_result"
    }
   ],
   "source": [
    "# Looking at messy reame_contents\n",
    "df.readme_contents"
   ]
  },
  {
   "cell_type": "code",
   "execution_count": 5,
   "id": "2c121084",
   "metadata": {},
   "outputs": [
    {
     "data": {
      "text/plain": [
       "repo                 0\n",
       "language           316\n",
       "readme_contents    257\n",
       "dtype: int64"
      ]
     },
     "execution_count": 5,
     "metadata": {},
     "output_type": "execute_result"
    }
   ],
   "source": [
    "df.isnull().sum()"
   ]
  },
  {
   "cell_type": "markdown",
   "id": "9ef94e15",
   "metadata": {},
   "source": [
    "### Data Preparation - Cleaning"
   ]
  },
  {
   "cell_type": "code",
   "execution_count": 7,
   "id": "35a0e6c1",
   "metadata": {},
   "outputs": [
    {
     "name": "stdout",
     "output_type": "stream",
     "text": [
      "df shape: (998, 3)\n"
     ]
    },
    {
     "data": {
      "text/html": [
       "<div>\n",
       "<style scoped>\n",
       "    .dataframe tbody tr th:only-of-type {\n",
       "        vertical-align: middle;\n",
       "    }\n",
       "\n",
       "    .dataframe tbody tr th {\n",
       "        vertical-align: top;\n",
       "    }\n",
       "\n",
       "    .dataframe thead th {\n",
       "        text-align: right;\n",
       "    }\n",
       "</style>\n",
       "<table border=\"1\" class=\"dataframe\">\n",
       "  <thead>\n",
       "    <tr style=\"text-align: right;\">\n",
       "      <th></th>\n",
       "      <th>repo</th>\n",
       "      <th>language</th>\n",
       "      <th>readme_contents</th>\n",
       "    </tr>\n",
       "  </thead>\n",
       "  <tbody>\n",
       "    <tr>\n",
       "      <th>0</th>\n",
       "      <td>M3-org/awesome-metaverse</td>\n",
       "      <td>nan</td>\n",
       "      <td># Awesome Metaverse [![Awesome](https://awesom...</td>\n",
       "    </tr>\n",
       "    <tr>\n",
       "      <th>1</th>\n",
       "      <td>mvs-org/metaverse</td>\n",
       "      <td>C++</td>\n",
       "      <td>Metaverse Core Integration/staging Tree\\n=====...</td>\n",
       "    </tr>\n",
       "    <tr>\n",
       "      <th>2</th>\n",
       "      <td>webaverse/app</td>\n",
       "      <td>JavaScript</td>\n",
       "      <td>&lt;img src=\"docs/banner.jpeg\" width=100% /&gt;\\n\\n&lt;...</td>\n",
       "    </tr>\n",
       "    <tr>\n",
       "      <th>3</th>\n",
       "      <td>shadowcz007/awesome-metaverse</td>\n",
       "      <td>nan</td>\n",
       "      <td># awesome-metaverse\\n&lt;a href=\"https://awesome....</td>\n",
       "    </tr>\n",
       "    <tr>\n",
       "      <th>4</th>\n",
       "      <td>vircadia/vircadia</td>\n",
       "      <td>C++</td>\n",
       "      <td>&lt;p align=\"center\"&gt;&lt;a href=\"https://vircadia.co...</td>\n",
       "    </tr>\n",
       "  </tbody>\n",
       "</table>\n",
       "</div>"
      ],
      "text/plain": [
       "                            repo    language  \\\n",
       "0       M3-org/awesome-metaverse         nan   \n",
       "1              mvs-org/metaverse         C++   \n",
       "2                  webaverse/app  JavaScript   \n",
       "3  shadowcz007/awesome-metaverse         nan   \n",
       "4              vircadia/vircadia         C++   \n",
       "\n",
       "                                     readme_contents  \n",
       "0  # Awesome Metaverse [![Awesome](https://awesom...  \n",
       "1  Metaverse Core Integration/staging Tree\\n=====...  \n",
       "2  <img src=\"docs/banner.jpeg\" width=100% />\\n\\n<...  \n",
       "3  # awesome-metaverse\\n<a href=\"https://awesome....  \n",
       "4  <p align=\"center\"><a href=\"https://vircadia.co...  "
      ]
     },
     "execution_count": 7,
     "metadata": {},
     "output_type": "execute_result"
    }
   ],
   "source": [
    "# Calling prepare function to clean dataframe\n",
    "df = prepare.clean_data_objects(df)\n",
    "df.head()"
   ]
  },
  {
   "cell_type": "code",
   "execution_count": 8,
   "id": "f858d695",
   "metadata": {},
   "outputs": [
    {
     "data": {
      "text/html": [
       "<div>\n",
       "<style scoped>\n",
       "    .dataframe tbody tr th:only-of-type {\n",
       "        vertical-align: middle;\n",
       "    }\n",
       "\n",
       "    .dataframe tbody tr th {\n",
       "        vertical-align: top;\n",
       "    }\n",
       "\n",
       "    .dataframe thead th {\n",
       "        text-align: right;\n",
       "    }\n",
       "</style>\n",
       "<table border=\"1\" class=\"dataframe\">\n",
       "  <thead>\n",
       "    <tr style=\"text-align: right;\">\n",
       "      <th></th>\n",
       "      <th>repo</th>\n",
       "      <th>language</th>\n",
       "      <th>readme_contents</th>\n",
       "    </tr>\n",
       "  </thead>\n",
       "  <tbody>\n",
       "    <tr>\n",
       "      <th>0</th>\n",
       "      <td>M3-org/awesome-metaverse</td>\n",
       "      <td>nan</td>\n",
       "      <td>awesome awesome awesome badge svg awesome list...</td>\n",
       "    </tr>\n",
       "    <tr>\n",
       "      <th>1</th>\n",
       "      <td>mvs-org/metaverse</td>\n",
       "      <td>C++</td>\n",
       "      <td>core integration staging tree build status tra...</td>\n",
       "    </tr>\n",
       "    <tr>\n",
       "      <th>2</th>\n",
       "      <td>webaverse/app</td>\n",
       "      <td>JavaScript</td>\n",
       "      <td>img src doc banner jpeg width 100 align center...</td>\n",
       "    </tr>\n",
       "    <tr>\n",
       "      <th>3</th>\n",
       "      <td>shadowcz007/awesome-metaverse</td>\n",
       "      <td>nan</td>\n",
       "      <td>awesome href awesome target blank img alt awes...</td>\n",
       "    </tr>\n",
       "    <tr>\n",
       "      <th>4</th>\n",
       "      <td>vircadia/vircadia</td>\n",
       "      <td>C++</td>\n",
       "      <td>align center href vircadia img src interface r...</td>\n",
       "    </tr>\n",
       "  </tbody>\n",
       "</table>\n",
       "</div>"
      ],
      "text/plain": [
       "                            repo    language  \\\n",
       "0       M3-org/awesome-metaverse         nan   \n",
       "1              mvs-org/metaverse         C++   \n",
       "2                  webaverse/app  JavaScript   \n",
       "3  shadowcz007/awesome-metaverse         nan   \n",
       "4              vircadia/vircadia         C++   \n",
       "\n",
       "                                     readme_contents  \n",
       "0  awesome awesome awesome badge svg awesome list...  \n",
       "1  core integration staging tree build status tra...  \n",
       "2  img src doc banner jpeg width 100 align center...  \n",
       "3  awesome href awesome target blank img alt awes...  \n",
       "4  align center href vircadia img src interface r...  "
      ]
     },
     "execution_count": 8,
     "metadata": {},
     "output_type": "execute_result"
    }
   ],
   "source": [
    "# Calling mass_text_clean function to clean readme content\n",
    "df[\"readme_contents\"] = df[\"readme_contents\"].apply(prepare.mass_text_clean)\n",
    "df.head()"
   ]
  },
  {
   "cell_type": "code",
   "execution_count": 9,
   "id": "61fdb89f",
   "metadata": {},
   "outputs": [
    {
     "data": {
      "text/plain": [
       "nan                 316\n",
       "JavaScript          266\n",
       "C#                   78\n",
       "HTML                 72\n",
       "TypeScript           70\n",
       "Solidity             27\n",
       "CSS                  23\n",
       "Python               22\n",
       "Rust                 16\n",
       "Go                   15\n",
       "C++                  14\n",
       "Jupyter Notebook     11\n",
       "Java                  7\n",
       "ShaderLab             7\n",
       "SCSS                  6\n",
       "Vue                   5\n",
       "Shell                 5\n",
       "PHP                   5\n",
       "SuperCollider         3\n",
       "Clojure               3\n",
       "Batchfile             2\n",
       "Roff                  2\n",
       "Swift                 2\n",
       "C                     2\n",
       "GLSL                  2\n",
       "GDScript              2\n",
       "Objective-C           2\n",
       "Kotlin                2\n",
       "HCL                   1\n",
       "EJS                   1\n",
       "PowerShell            1\n",
       "Svelte                1\n",
       "TeX                   1\n",
       "Objective-C++         1\n",
       "Cadence               1\n",
       "Metal                 1\n",
       "R                     1\n",
       "LSL                   1\n",
       "ASP.NET               1\n",
       "Name: language, dtype: int64"
      ]
     },
     "execution_count": 9,
     "metadata": {},
     "output_type": "execute_result"
    }
   ],
   "source": [
    "df.language.value_counts()"
   ]
  },
  {
   "cell_type": "code",
   "execution_count": null,
   "id": "107ffb82",
   "metadata": {},
   "outputs": [],
   "source": []
  }
 ],
 "metadata": {
  "kernelspec": {
   "display_name": "Python 3 (ipykernel)",
   "language": "python",
   "name": "python3"
  },
  "language_info": {
   "codemirror_mode": {
    "name": "ipython",
    "version": 3
   },
   "file_extension": ".py",
   "mimetype": "text/x-python",
   "name": "python",
   "nbconvert_exporter": "python",
   "pygments_lexer": "ipython3",
   "version": "3.9.12"
  }
 },
 "nbformat": 4,
 "nbformat_minor": 5
}
