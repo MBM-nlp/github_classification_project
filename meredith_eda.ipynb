{
 "cells": [
  {
   "cell_type": "code",
   "execution_count": 16,
   "id": "fdbd7f20",
   "metadata": {},
   "outputs": [],
   "source": [
    "# notebook dependencies \n",
    "import os # used in caching\n",
    "import pandas as pd\n",
    "import numpy as np\n",
    "\n",
    "# visualization imports\n",
    "import matplotlib as mpl\n",
    "import matplotlib.pyplot as plt\n",
    "import seaborn as sns\n",
    "\n",
    "# regular expression import\n",
    "import re\n",
    "\n",
    "# JSON import\n",
    "import json\n",
    "\n",
    "# importing BeautifulSoup for parsing HTML/XTML\n",
    "from bs4 import BeautifulSoup as BSoup\n",
    "\n",
    "# request module for connecting to APIs\n",
    "from requests import get\n",
    "\n",
    "# text prepare modules\n",
    "import acquire\n",
    "import prepare\n",
    "\n",
    "# uni-code library\n",
    "import unicodedata\n",
    "\n",
    "# natural language toolkit library/modules\n",
    "import nltk\n",
    "from nltk.stem import PorterStemmer, LancasterStemmer, WordNetLemmatizer\n",
    "\n",
    "from nltk.tokenize.toktok import ToktokTokenizer\n",
    "from nltk.corpus import stopwords\n",
    "\n",
    "#sklearn\n",
    "from sklearn.model_selection import train_test_split"
   ]
  },
  {
   "cell_type": "markdown",
   "id": "3c0b4f87",
   "metadata": {},
   "source": [
    "# Wrangling"
   ]
  },
  {
   "cell_type": "markdown",
   "id": "7b5a7b63",
   "metadata": {},
   "source": [
    "### Data Acquisition"
   ]
  },
  {
   "cell_type": "code",
   "execution_count": 2,
   "id": "bdb854ce",
   "metadata": {},
   "outputs": [],
   "source": [
    "# Reading in data\n",
    "df = pd.read_csv('metaverse.csv')"
   ]
  },
  {
   "cell_type": "code",
   "execution_count": 3,
   "id": "7858b21d",
   "metadata": {},
   "outputs": [
    {
     "data": {
      "text/html": [
       "<div>\n",
       "<style scoped>\n",
       "    .dataframe tbody tr th:only-of-type {\n",
       "        vertical-align: middle;\n",
       "    }\n",
       "\n",
       "    .dataframe tbody tr th {\n",
       "        vertical-align: top;\n",
       "    }\n",
       "\n",
       "    .dataframe thead th {\n",
       "        text-align: right;\n",
       "    }\n",
       "</style>\n",
       "<table border=\"1\" class=\"dataframe\">\n",
       "  <thead>\n",
       "    <tr style=\"text-align: right;\">\n",
       "      <th></th>\n",
       "      <th>repo</th>\n",
       "      <th>language</th>\n",
       "      <th>readme_contents</th>\n",
       "    </tr>\n",
       "  </thead>\n",
       "  <tbody>\n",
       "    <tr>\n",
       "      <th>0</th>\n",
       "      <td>M3-org/awesome-metaverse</td>\n",
       "      <td>NaN</td>\n",
       "      <td># Awesome Metaverse [![Awesome](https://awesom...</td>\n",
       "    </tr>\n",
       "    <tr>\n",
       "      <th>1</th>\n",
       "      <td>mvs-org/metaverse</td>\n",
       "      <td>C++</td>\n",
       "      <td>Metaverse Core Integration/staging Tree\\n=====...</td>\n",
       "    </tr>\n",
       "    <tr>\n",
       "      <th>2</th>\n",
       "      <td>webaverse/app</td>\n",
       "      <td>JavaScript</td>\n",
       "      <td>&lt;img src=\"docs/banner.jpeg\" width=100% /&gt;\\n\\n&lt;...</td>\n",
       "    </tr>\n",
       "    <tr>\n",
       "      <th>3</th>\n",
       "      <td>shadowcz007/awesome-metaverse</td>\n",
       "      <td>NaN</td>\n",
       "      <td># awesome-metaverse\\n&lt;a href=\"https://awesome....</td>\n",
       "    </tr>\n",
       "    <tr>\n",
       "      <th>4</th>\n",
       "      <td>vircadia/vircadia</td>\n",
       "      <td>C++</td>\n",
       "      <td>&lt;p align=\"center\"&gt;&lt;a href=\"https://vircadia.co...</td>\n",
       "    </tr>\n",
       "    <tr>\n",
       "      <th>...</th>\n",
       "      <td>...</td>\n",
       "      <td>...</td>\n",
       "      <td>...</td>\n",
       "    </tr>\n",
       "    <tr>\n",
       "      <th>993</th>\n",
       "      <td>LinasKo/MetaVerse</td>\n",
       "      <td>C#</td>\n",
       "      <td># MetaVerse\\nVirtual Conference project for Me...</td>\n",
       "    </tr>\n",
       "    <tr>\n",
       "      <th>994</th>\n",
       "      <td>saiva11/Metaverse</td>\n",
       "      <td>Vue</td>\n",
       "      <td>NaN</td>\n",
       "    </tr>\n",
       "    <tr>\n",
       "      <th>995</th>\n",
       "      <td>dimplehh/metaverse</td>\n",
       "      <td>NaN</td>\n",
       "      <td># 맥스트 VPS SDK 사용\\n\\n## VPS 사용\\n\\nAssets\\MaxstA...</td>\n",
       "    </tr>\n",
       "    <tr>\n",
       "      <th>996</th>\n",
       "      <td>niksanvijan/MetaVerse</td>\n",
       "      <td>NaN</td>\n",
       "      <td>NaN</td>\n",
       "    </tr>\n",
       "    <tr>\n",
       "      <th>997</th>\n",
       "      <td>OctopusNO1/metaverse</td>\n",
       "      <td>NaN</td>\n",
       "      <td>NaN</td>\n",
       "    </tr>\n",
       "  </tbody>\n",
       "</table>\n",
       "<p>998 rows × 3 columns</p>\n",
       "</div>"
      ],
      "text/plain": [
       "                              repo    language  \\\n",
       "0         M3-org/awesome-metaverse         NaN   \n",
       "1                mvs-org/metaverse         C++   \n",
       "2                    webaverse/app  JavaScript   \n",
       "3    shadowcz007/awesome-metaverse         NaN   \n",
       "4                vircadia/vircadia         C++   \n",
       "..                             ...         ...   \n",
       "993              LinasKo/MetaVerse          C#   \n",
       "994              saiva11/Metaverse         Vue   \n",
       "995             dimplehh/metaverse         NaN   \n",
       "996          niksanvijan/MetaVerse         NaN   \n",
       "997           OctopusNO1/metaverse         NaN   \n",
       "\n",
       "                                       readme_contents  \n",
       "0    # Awesome Metaverse [![Awesome](https://awesom...  \n",
       "1    Metaverse Core Integration/staging Tree\\n=====...  \n",
       "2    <img src=\"docs/banner.jpeg\" width=100% />\\n\\n<...  \n",
       "3    # awesome-metaverse\\n<a href=\"https://awesome....  \n",
       "4    <p align=\"center\"><a href=\"https://vircadia.co...  \n",
       "..                                                 ...  \n",
       "993  # MetaVerse\\nVirtual Conference project for Me...  \n",
       "994                                                NaN  \n",
       "995  # 맥스트 VPS SDK 사용\\n\\n## VPS 사용\\n\\nAssets\\MaxstA...  \n",
       "996                                                NaN  \n",
       "997                                                NaN  \n",
       "\n",
       "[998 rows x 3 columns]"
      ]
     },
     "execution_count": 3,
     "metadata": {},
     "output_type": "execute_result"
    }
   ],
   "source": [
    "df"
   ]
  },
  {
   "cell_type": "code",
   "execution_count": 4,
   "id": "ccf4f9fa",
   "metadata": {},
   "outputs": [
    {
     "data": {
      "text/plain": [
       "0      # Awesome Metaverse [![Awesome](https://awesom...\n",
       "1      Metaverse Core Integration/staging Tree\\n=====...\n",
       "2      <img src=\"docs/banner.jpeg\" width=100% />\\n\\n<...\n",
       "3      # awesome-metaverse\\n<a href=\"https://awesome....\n",
       "4      <p align=\"center\"><a href=\"https://vircadia.co...\n",
       "                             ...                        \n",
       "993    # MetaVerse\\nVirtual Conference project for Me...\n",
       "994                                                  NaN\n",
       "995    # 맥스트 VPS SDK 사용\\n\\n## VPS 사용\\n\\nAssets\\MaxstA...\n",
       "996                                                  NaN\n",
       "997                                                  NaN\n",
       "Name: readme_contents, Length: 998, dtype: object"
      ]
     },
     "execution_count": 4,
     "metadata": {},
     "output_type": "execute_result"
    }
   ],
   "source": [
    "# Looking at messy reame_contents\n",
    "df.readme_contents"
   ]
  },
  {
   "cell_type": "code",
   "execution_count": 5,
   "id": "2c121084",
   "metadata": {},
   "outputs": [
    {
     "data": {
      "text/plain": [
       "repo                 0\n",
       "language           316\n",
       "readme_contents    257\n",
       "dtype: int64"
      ]
     },
     "execution_count": 5,
     "metadata": {},
     "output_type": "execute_result"
    }
   ],
   "source": [
    "df.isnull().sum()"
   ]
  },
  {
   "cell_type": "markdown",
   "id": "4882ec37",
   "metadata": {},
   "source": [
    "### Data Preparation - Cleaning"
   ]
  },
  {
   "cell_type": "code",
   "execution_count": 7,
   "id": "35a0e6c1",
   "metadata": {},
   "outputs": [
    {
     "name": "stdout",
     "output_type": "stream",
     "text": [
      "df shape: (998, 3)\n"
     ]
    },
    {
     "data": {
      "text/html": [
       "<div>\n",
       "<style scoped>\n",
       "    .dataframe tbody tr th:only-of-type {\n",
       "        vertical-align: middle;\n",
       "    }\n",
       "\n",
       "    .dataframe tbody tr th {\n",
       "        vertical-align: top;\n",
       "    }\n",
       "\n",
       "    .dataframe thead th {\n",
       "        text-align: right;\n",
       "    }\n",
       "</style>\n",
       "<table border=\"1\" class=\"dataframe\">\n",
       "  <thead>\n",
       "    <tr style=\"text-align: right;\">\n",
       "      <th></th>\n",
       "      <th>repo</th>\n",
       "      <th>language</th>\n",
       "      <th>readme_contents</th>\n",
       "    </tr>\n",
       "  </thead>\n",
       "  <tbody>\n",
       "    <tr>\n",
       "      <th>0</th>\n",
       "      <td>M3-org/awesome-metaverse</td>\n",
       "      <td>nan</td>\n",
       "      <td># Awesome Metaverse [![Awesome](https://awesom...</td>\n",
       "    </tr>\n",
       "    <tr>\n",
       "      <th>1</th>\n",
       "      <td>mvs-org/metaverse</td>\n",
       "      <td>C++</td>\n",
       "      <td>Metaverse Core Integration/staging Tree\\n=====...</td>\n",
       "    </tr>\n",
       "    <tr>\n",
       "      <th>2</th>\n",
       "      <td>webaverse/app</td>\n",
       "      <td>JavaScript</td>\n",
       "      <td>&lt;img src=\"docs/banner.jpeg\" width=100% /&gt;\\n\\n&lt;...</td>\n",
       "    </tr>\n",
       "    <tr>\n",
       "      <th>3</th>\n",
       "      <td>shadowcz007/awesome-metaverse</td>\n",
       "      <td>nan</td>\n",
       "      <td># awesome-metaverse\\n&lt;a href=\"https://awesome....</td>\n",
       "    </tr>\n",
       "    <tr>\n",
       "      <th>4</th>\n",
       "      <td>vircadia/vircadia</td>\n",
       "      <td>C++</td>\n",
       "      <td>&lt;p align=\"center\"&gt;&lt;a href=\"https://vircadia.co...</td>\n",
       "    </tr>\n",
       "  </tbody>\n",
       "</table>\n",
       "</div>"
      ],
      "text/plain": [
       "                            repo    language  \\\n",
       "0       M3-org/awesome-metaverse         nan   \n",
       "1              mvs-org/metaverse         C++   \n",
       "2                  webaverse/app  JavaScript   \n",
       "3  shadowcz007/awesome-metaverse         nan   \n",
       "4              vircadia/vircadia         C++   \n",
       "\n",
       "                                     readme_contents  \n",
       "0  # Awesome Metaverse [![Awesome](https://awesom...  \n",
       "1  Metaverse Core Integration/staging Tree\\n=====...  \n",
       "2  <img src=\"docs/banner.jpeg\" width=100% />\\n\\n<...  \n",
       "3  # awesome-metaverse\\n<a href=\"https://awesome....  \n",
       "4  <p align=\"center\"><a href=\"https://vircadia.co...  "
      ]
     },
     "execution_count": 7,
     "metadata": {},
     "output_type": "execute_result"
    }
   ],
   "source": [
    "# Calling prepare function to clean dataframe\n",
    "df = prepare.clean_data_objects(df)\n",
    "df.head()"
   ]
  },
  {
   "cell_type": "code",
   "execution_count": 8,
   "id": "00941fc3",
   "metadata": {},
   "outputs": [
    {
     "data": {
      "text/html": [
       "<div>\n",
       "<style scoped>\n",
       "    .dataframe tbody tr th:only-of-type {\n",
       "        vertical-align: middle;\n",
       "    }\n",
       "\n",
       "    .dataframe tbody tr th {\n",
       "        vertical-align: top;\n",
       "    }\n",
       "\n",
       "    .dataframe thead th {\n",
       "        text-align: right;\n",
       "    }\n",
       "</style>\n",
       "<table border=\"1\" class=\"dataframe\">\n",
       "  <thead>\n",
       "    <tr style=\"text-align: right;\">\n",
       "      <th></th>\n",
       "      <th>repo</th>\n",
       "      <th>language</th>\n",
       "      <th>readme_contents</th>\n",
       "    </tr>\n",
       "  </thead>\n",
       "  <tbody>\n",
       "    <tr>\n",
       "      <th>0</th>\n",
       "      <td>M3-org/awesome-metaverse</td>\n",
       "      <td>nan</td>\n",
       "      <td>awesome awesome awesome badge svg awesome list...</td>\n",
       "    </tr>\n",
       "    <tr>\n",
       "      <th>1</th>\n",
       "      <td>mvs-org/metaverse</td>\n",
       "      <td>C++</td>\n",
       "      <td>core integration staging tree build status tra...</td>\n",
       "    </tr>\n",
       "    <tr>\n",
       "      <th>2</th>\n",
       "      <td>webaverse/app</td>\n",
       "      <td>JavaScript</td>\n",
       "      <td>img src doc banner jpeg width 100 align center...</td>\n",
       "    </tr>\n",
       "    <tr>\n",
       "      <th>3</th>\n",
       "      <td>shadowcz007/awesome-metaverse</td>\n",
       "      <td>nan</td>\n",
       "      <td>awesome href awesome target blank img alt awes...</td>\n",
       "    </tr>\n",
       "    <tr>\n",
       "      <th>4</th>\n",
       "      <td>vircadia/vircadia</td>\n",
       "      <td>C++</td>\n",
       "      <td>align center href vircadia img src interface r...</td>\n",
       "    </tr>\n",
       "  </tbody>\n",
       "</table>\n",
       "</div>"
      ],
      "text/plain": [
       "                            repo    language  \\\n",
       "0       M3-org/awesome-metaverse         nan   \n",
       "1              mvs-org/metaverse         C++   \n",
       "2                  webaverse/app  JavaScript   \n",
       "3  shadowcz007/awesome-metaverse         nan   \n",
       "4              vircadia/vircadia         C++   \n",
       "\n",
       "                                     readme_contents  \n",
       "0  awesome awesome awesome badge svg awesome list...  \n",
       "1  core integration staging tree build status tra...  \n",
       "2  img src doc banner jpeg width 100 align center...  \n",
       "3  awesome href awesome target blank img alt awes...  \n",
       "4  align center href vircadia img src interface r...  "
      ]
     },
     "execution_count": 8,
     "metadata": {},
     "output_type": "execute_result"
    }
   ],
   "source": [
    "# Calling mass_text_clean function to clean readme content\n",
    "df[\"readme_contents\"] = df[\"readme_contents\"].apply(prepare.mass_text_clean)\n",
    "df.head()"
   ]
  },
  {
   "cell_type": "code",
   "execution_count": 9,
   "id": "15951cec",
   "metadata": {},
   "outputs": [
    {
     "data": {
      "text/plain": [
       "nan                 316\n",
       "JavaScript          266\n",
       "C#                   78\n",
       "HTML                 72\n",
       "TypeScript           70\n",
       "Solidity             27\n",
       "CSS                  23\n",
       "Python               22\n",
       "Rust                 16\n",
       "Go                   15\n",
       "C++                  14\n",
       "Jupyter Notebook     11\n",
       "Java                  7\n",
       "ShaderLab             7\n",
       "SCSS                  6\n",
       "Vue                   5\n",
       "Shell                 5\n",
       "PHP                   5\n",
       "SuperCollider         3\n",
       "Clojure               3\n",
       "Batchfile             2\n",
       "Roff                  2\n",
       "Swift                 2\n",
       "C                     2\n",
       "GLSL                  2\n",
       "GDScript              2\n",
       "Objective-C           2\n",
       "Kotlin                2\n",
       "HCL                   1\n",
       "EJS                   1\n",
       "PowerShell            1\n",
       "Svelte                1\n",
       "TeX                   1\n",
       "Objective-C++         1\n",
       "Cadence               1\n",
       "Metal                 1\n",
       "R                     1\n",
       "LSL                   1\n",
       "ASP.NET               1\n",
       "Name: language, dtype: int64"
      ]
     },
     "execution_count": 9,
     "metadata": {},
     "output_type": "execute_result"
    }
   ],
   "source": [
    "df.language.value_counts()"
   ]
  },
  {
   "cell_type": "code",
   "execution_count": 96,
   "id": "c212fe6a",
   "metadata": {},
   "outputs": [],
   "source": [
    "# Update language function to reduce noises in language, function writeen by B.G.\n",
    "# Changed nan to text\n",
    "def update_languages(df):\n",
    "    ''' Dataset has multiple languages.  SOme languages are itterations of other languages.\n",
    "    This function is to replace some of the languages names so the are in the same category'''\n",
    "    # Jupyter notebook as Python\n",
    "    df=df.replace('Jupyter Notebook', 'Python')\n",
    "    # C Related Languages\n",
    "    df=df.replace(('Objective-C++','Objective-C','C','C++','C#','SuperCollider','GLSL'),'C')\n",
    "    # Java Related Languages ans sublanguages\n",
    "    df=df.replace(('JavaScript', 'Vue','Clojure','Kotlin','EJS'), 'Java')\n",
    "    # TypeScript Languages\n",
    "    df=df.replace('Svelte','TypeScript')\n",
    "    # Microsoft languages for windows applications\n",
    "    df=df.replace(('PowerShell','Batchfile','Shell'),'Microsoft')\n",
    "    # iOS related languages\n",
    "    df=df.replace(('Metal','Swift'),'iOS')\n",
    "    # languages with < 10 usage\n",
    "    df=df.replace(('Microsoft','ShaderLab','SCSS','PHP','iOS','GDScript','Roff','HCL','TeX', 'Cadence','R','LSL','ASP.NET'),'other')\n",
    "    # NaNs\n",
    "    df=df.replace('nan', 'text')\n",
    "    return df"
   ]
  },
  {
   "cell_type": "code",
   "execution_count": 97,
   "id": "cd61db25",
   "metadata": {},
   "outputs": [],
   "source": [
    "# Using function to clean language\n",
    "df = update_languages(df)"
   ]
  },
  {
   "cell_type": "code",
   "execution_count": 98,
   "id": "fdec567a",
   "metadata": {},
   "outputs": [
    {
     "data": {
      "text/plain": [
       "text          316\n",
       "Java          284\n",
       "C             102\n",
       "HTML           72\n",
       "TypeScript     71\n",
       "other          39\n",
       "Python         33\n",
       "Solidity       27\n",
       "CSS            23\n",
       "Rust           16\n",
       "Go             15\n",
       "Name: language, dtype: int64"
      ]
     },
     "execution_count": 98,
     "metadata": {},
     "output_type": "execute_result"
    }
   ],
   "source": [
    "# Check the cleaned language\n",
    "df.language.value_counts()"
   ]
  },
  {
   "cell_type": "markdown",
   "id": "ce41a613",
   "metadata": {},
   "source": [
    "### Data Preparation - Splitting"
   ]
  },
  {
   "cell_type": "code",
   "execution_count": 99,
   "id": "4475b78c",
   "metadata": {},
   "outputs": [],
   "source": [
    "def train_validate_test_split(df, target, seed=123):\n",
    "    '''\n",
    "    This function takes in a dataframe, the name of the target variable\n",
    "    (for stratification purposes), and an integer for a setting a seed\n",
    "    and splits the data into train, validate and test. \n",
    "    Test is 20% of the original dataset, validate is .30*.80= 24% of the \n",
    "    original dataset, and train is .70*.80= 56% of the original dataset. \n",
    "    The function returns, in this order, train, validate and test dataframes. \n",
    "    '''\n",
    "    train_validate, test = train_test_split(df, test_size=0.2, \n",
    "                                            random_state=seed, \n",
    "                                            stratify=df[target])\n",
    "    train, validate = train_test_split(train_validate, test_size=0.3, \n",
    "                                       random_state=seed,\n",
    "                                       stratify=train_validate[target])\n",
    "    return train, validate, test"
   ]
  },
  {
   "cell_type": "code",
   "execution_count": 100,
   "id": "2c9512c0",
   "metadata": {},
   "outputs": [],
   "source": [
    "# Calling function to split data into train, validate, test\n",
    "train, validate, test = train_validate_test_split(df, 'language')"
   ]
  },
  {
   "cell_type": "markdown",
   "id": "c62bf78b",
   "metadata": {},
   "source": [
    "***"
   ]
  },
  {
   "cell_type": "markdown",
   "id": "b2a48c3e",
   "metadata": {},
   "source": [
    "# Explore"
   ]
  },
  {
   "cell_type": "markdown",
   "id": "96601686",
   "metadata": {},
   "source": [
    "## Target Variable Univariate Analysis"
   ]
  },
  {
   "cell_type": "markdown",
   "id": "6a8e998d",
   "metadata": {},
   "source": [
    "#### Train Language Percentages"
   ]
  },
  {
   "cell_type": "code",
   "execution_count": 101,
   "id": "817bd988",
   "metadata": {},
   "outputs": [
    {
     "data": {
      "text/html": [
       "<div>\n",
       "<style scoped>\n",
       "    .dataframe tbody tr th:only-of-type {\n",
       "        vertical-align: middle;\n",
       "    }\n",
       "\n",
       "    .dataframe tbody tr th {\n",
       "        vertical-align: top;\n",
       "    }\n",
       "\n",
       "    .dataframe thead th {\n",
       "        text-align: right;\n",
       "    }\n",
       "</style>\n",
       "<table border=\"1\" class=\"dataframe\">\n",
       "  <thead>\n",
       "    <tr style=\"text-align: right;\">\n",
       "      <th></th>\n",
       "      <th>n</th>\n",
       "      <th>percent</th>\n",
       "    </tr>\n",
       "  </thead>\n",
       "  <tbody>\n",
       "    <tr>\n",
       "      <th>text</th>\n",
       "      <td>177</td>\n",
       "      <td>0.317204</td>\n",
       "    </tr>\n",
       "    <tr>\n",
       "      <th>Java</th>\n",
       "      <td>159</td>\n",
       "      <td>0.284946</td>\n",
       "    </tr>\n",
       "    <tr>\n",
       "      <th>C</th>\n",
       "      <td>57</td>\n",
       "      <td>0.102151</td>\n",
       "    </tr>\n",
       "    <tr>\n",
       "      <th>TypeScript</th>\n",
       "      <td>40</td>\n",
       "      <td>0.071685</td>\n",
       "    </tr>\n",
       "    <tr>\n",
       "      <th>HTML</th>\n",
       "      <td>40</td>\n",
       "      <td>0.071685</td>\n",
       "    </tr>\n",
       "    <tr>\n",
       "      <th>other</th>\n",
       "      <td>22</td>\n",
       "      <td>0.039427</td>\n",
       "    </tr>\n",
       "    <tr>\n",
       "      <th>Python</th>\n",
       "      <td>18</td>\n",
       "      <td>0.032258</td>\n",
       "    </tr>\n",
       "    <tr>\n",
       "      <th>Solidity</th>\n",
       "      <td>15</td>\n",
       "      <td>0.026882</td>\n",
       "    </tr>\n",
       "    <tr>\n",
       "      <th>CSS</th>\n",
       "      <td>13</td>\n",
       "      <td>0.023297</td>\n",
       "    </tr>\n",
       "    <tr>\n",
       "      <th>Rust</th>\n",
       "      <td>9</td>\n",
       "      <td>0.016129</td>\n",
       "    </tr>\n",
       "    <tr>\n",
       "      <th>Go</th>\n",
       "      <td>8</td>\n",
       "      <td>0.014337</td>\n",
       "    </tr>\n",
       "  </tbody>\n",
       "</table>\n",
       "</div>"
      ],
      "text/plain": [
       "              n   percent\n",
       "text        177  0.317204\n",
       "Java        159  0.284946\n",
       "C            57  0.102151\n",
       "TypeScript   40  0.071685\n",
       "HTML         40  0.071685\n",
       "other        22  0.039427\n",
       "Python       18  0.032258\n",
       "Solidity     15  0.026882\n",
       "CSS          13  0.023297\n",
       "Rust          9  0.016129\n",
       "Go            8  0.014337"
      ]
     },
     "execution_count": 101,
     "metadata": {},
     "output_type": "execute_result"
    }
   ],
   "source": [
    "labels = pd.concat([train.language.value_counts(),\n",
    "                    train.language.value_counts(normalize=True)], axis=1)\n",
    "labels.columns = ['n', 'percent']\n",
    "labels"
   ]
  },
  {
   "cell_type": "code",
   "execution_count": 102,
   "id": "585703d5",
   "metadata": {},
   "outputs": [
    {
     "data": {
      "text/plain": [
       "Index(['text', 'Java', 'C', 'TypeScript', 'HTML', 'other', 'Python',\n",
       "       'Solidity', 'CSS', 'Rust', 'Go'],\n",
       "      dtype='object')"
      ]
     },
     "execution_count": 102,
     "metadata": {},
     "output_type": "execute_result"
    }
   ],
   "source": [
    "labels.index"
   ]
  },
  {
   "cell_type": "code",
   "execution_count": 104,
   "id": "8ffaca24",
   "metadata": {},
   "outputs": [
    {
     "data": {
      "image/png": "[encoded data removed]",
      "text/plain": [
       "<Figure size 1152x864 with 1 Axes>"
      ]
     },
     "metadata": {},
     "output_type": "display_data"
    }
   ],
   "source": [
    "plt.figure(figsize=(16,12))\n",
    "mylabels = ['text', 'Java', 'C', 'TypeScript', 'HTML', 'other', 'Python', 'Solidity',\n",
    "       'CSS', 'Rust', 'Go']\n",
    "mycolors = ['#484553', '#3c1361', '#663a82', '#89609e', '#a86cc1', '#c377e0', '#cd8de5', '#d5a6e6', '#dfc0eb', '#eddbf4', '#f7f0fa']\n",
    "textprops = {\"fontsize\":15}\n",
    "plt.pie(labels.percent, labels = mylabels, colors = mycolors, textprops=textprops, autopct='%.1f%%')\n",
    "plt.legend()\n",
    "plt.title('Overall Language Distribution',fontsize=18)\n",
    "plt.show() \n"
   ]
  },
  {
   "cell_type": "markdown",
   "id": "5a8908d1",
   "metadata": {},
   "source": [
    "### Takeaway: text, Java and C/C++ are the most common languages for metaverse repos."
   ]
  },
  {
   "cell_type": "markdown",
   "id": "0fd98606",
   "metadata": {},
   "source": [
    "***"
   ]
  },
  {
   "cell_type": "markdown",
   "id": "9dd5cb11",
   "metadata": {},
   "source": [
    "## Question 1: What are the most common words in READMEs?"
   ]
  },
  {
   "cell_type": "code",
   "execution_count": 105,
   "id": "745e7d2c",
   "metadata": {},
   "outputs": [
    {
     "data": {
      "text/html": [
       "<div>\n",
       "<style scoped>\n",
       "    .dataframe tbody tr th:only-of-type {\n",
       "        vertical-align: middle;\n",
       "    }\n",
       "\n",
       "    .dataframe tbody tr th {\n",
       "        vertical-align: top;\n",
       "    }\n",
       "\n",
       "    .dataframe thead th {\n",
       "        text-align: right;\n",
       "    }\n",
       "</style>\n",
       "<table border=\"1\" class=\"dataframe\">\n",
       "  <thead>\n",
       "    <tr style=\"text-align: right;\">\n",
       "      <th></th>\n",
       "      <th>repo</th>\n",
       "      <th>language</th>\n",
       "      <th>readme_contents</th>\n",
       "    </tr>\n",
       "  </thead>\n",
       "  <tbody>\n",
       "    <tr>\n",
       "      <th>624</th>\n",
       "      <td>Spectruth/Metaverse</td>\n",
       "      <td>text</td>\n",
       "      <td>text</td>\n",
       "    </tr>\n",
       "    <tr>\n",
       "      <th>0</th>\n",
       "      <td>M3-org/awesome-metaverse</td>\n",
       "      <td>text</td>\n",
       "      <td>awesome awesome awesome badge svg awesome list...</td>\n",
       "    </tr>\n",
       "    <tr>\n",
       "      <th>643</th>\n",
       "      <td>flynnhandley/metaverse</td>\n",
       "      <td>other</td>\n",
       "      <td>h1 align center img src 124135 361502 raikfcqu...</td>\n",
       "    </tr>\n",
       "    <tr>\n",
       "      <th>181</th>\n",
       "      <td>GoMeta/leaderboard</td>\n",
       "      <td>other</td>\n",
       "      <td>leaderboard sample project repository contains...</td>\n",
       "    </tr>\n",
       "    <tr>\n",
       "      <th>750</th>\n",
       "      <td>qxl0/metaverse</td>\n",
       "      <td>Java</td>\n",
       "      <td>next tailwind cs show tailwind cs tailwindcss ...</td>\n",
       "    </tr>\n",
       "  </tbody>\n",
       "</table>\n",
       "</div>"
      ],
      "text/plain": [
       "                         repo language  \\\n",
       "624       Spectruth/Metaverse     text   \n",
       "0    M3-org/awesome-metaverse     text   \n",
       "643    flynnhandley/metaverse    other   \n",
       "181        GoMeta/leaderboard    other   \n",
       "750            qxl0/metaverse     Java   \n",
       "\n",
       "                                       readme_contents  \n",
       "624                                               text  \n",
       "0    awesome awesome awesome badge svg awesome list...  \n",
       "643  h1 align center img src 124135 361502 raikfcqu...  \n",
       "181  leaderboard sample project repository contains...  \n",
       "750  next tailwind cs show tailwind cs tailwindcss ...  "
      ]
     },
     "execution_count": 105,
     "metadata": {},
     "output_type": "execute_result"
    }
   ],
   "source": [
    "train.head()"
   ]
  },
  {
   "cell_type": "code",
   "execution_count": 106,
   "id": "2388fada",
   "metadata": {},
   "outputs": [],
   "source": [
    "# Pull all text from readme_contents together\n",
    "all_content = ' '.join(train.readme_contents)"
   ]
  },
  {
   "cell_type": "code",
   "execution_count": 107,
   "id": "9819c1ac",
   "metadata": {},
   "outputs": [
    {
     "data": {
      "text/plain": [
       "'text awesome awesome awesome badge svg awesome list awesome project information resource wikipedia w'"
      ]
     },
     "execution_count": 107,
     "metadata": {},
     "output_type": "execute_result"
    }
   ],
   "source": [
    "# Look at all content\n",
    "all_content[:100]"
   ]
  },
  {
   "cell_type": "markdown",
   "id": "d1de99f6",
   "metadata": {},
   "source": [
    "**Note**: 'text' needs to be exluded."
   ]
  },
  {
   "cell_type": "code",
   "execution_count": 109,
   "id": "7833b55c",
   "metadata": {},
   "outputs": [
    {
     "data": {
      "text/plain": [
       "href       2171\n",
       "detail     1997\n",
       "summary    1942\n",
       "git        1181\n",
       "0          1142\n",
       "open       1059\n",
       "13          975\n",
       "img         922\n",
       "project     918\n",
       "2022        806\n",
       "src         766\n",
       "2           696\n",
       "clone       679\n",
       "app         678\n",
       "npm         651\n",
       "width       601\n",
       "doc         584\n",
       "bit         576\n",
       "install     573\n",
       "08          557\n",
       "dtype: int64"
      ]
     },
     "execution_count": 109,
     "metadata": {},
     "output_type": "execute_result"
    }
   ],
   "source": [
    "# The most frequent words from all content\n",
    "pd.Series(all_content.split()).value_counts().head(20)"
   ]
  },
  {
   "cell_type": "code",
   "execution_count": 110,
   "id": "d127058e",
   "metadata": {},
   "outputs": [],
   "source": [
    "# Store content frequency into dataframe\n",
    "all_freq = pd.DataFrame(pd.Series((all_content.split())).value_counts().head(20), columns = ['Frequency'])"
   ]
  },
  {
   "cell_type": "code",
   "execution_count": 111,
   "id": "fa13582e",
   "metadata": {},
   "outputs": [
    {
     "data": {
      "text/html": [
       "<div>\n",
       "<style scoped>\n",
       "    .dataframe tbody tr th:only-of-type {\n",
       "        vertical-align: middle;\n",
       "    }\n",
       "\n",
       "    .dataframe tbody tr th {\n",
       "        vertical-align: top;\n",
       "    }\n",
       "\n",
       "    .dataframe thead th {\n",
       "        text-align: right;\n",
       "    }\n",
       "</style>\n",
       "<table border=\"1\" class=\"dataframe\">\n",
       "  <thead>\n",
       "    <tr style=\"text-align: right;\">\n",
       "      <th></th>\n",
       "      <th>Frequency</th>\n",
       "    </tr>\n",
       "  </thead>\n",
       "  <tbody>\n",
       "    <tr>\n",
       "      <th>href</th>\n",
       "      <td>2171</td>\n",
       "    </tr>\n",
       "    <tr>\n",
       "      <th>detail</th>\n",
       "      <td>1997</td>\n",
       "    </tr>\n",
       "    <tr>\n",
       "      <th>summary</th>\n",
       "      <td>1942</td>\n",
       "    </tr>\n",
       "    <tr>\n",
       "      <th>git</th>\n",
       "      <td>1181</td>\n",
       "    </tr>\n",
       "    <tr>\n",
       "      <th>0</th>\n",
       "      <td>1142</td>\n",
       "    </tr>\n",
       "    <tr>\n",
       "      <th>open</th>\n",
       "      <td>1059</td>\n",
       "    </tr>\n",
       "    <tr>\n",
       "      <th>13</th>\n",
       "      <td>975</td>\n",
       "    </tr>\n",
       "    <tr>\n",
       "      <th>img</th>\n",
       "      <td>922</td>\n",
       "    </tr>\n",
       "    <tr>\n",
       "      <th>project</th>\n",
       "      <td>918</td>\n",
       "    </tr>\n",
       "    <tr>\n",
       "      <th>2022</th>\n",
       "      <td>806</td>\n",
       "    </tr>\n",
       "    <tr>\n",
       "      <th>src</th>\n",
       "      <td>766</td>\n",
       "    </tr>\n",
       "    <tr>\n",
       "      <th>2</th>\n",
       "      <td>696</td>\n",
       "    </tr>\n",
       "    <tr>\n",
       "      <th>clone</th>\n",
       "      <td>679</td>\n",
       "    </tr>\n",
       "    <tr>\n",
       "      <th>app</th>\n",
       "      <td>678</td>\n",
       "    </tr>\n",
       "    <tr>\n",
       "      <th>npm</th>\n",
       "      <td>651</td>\n",
       "    </tr>\n",
       "    <tr>\n",
       "      <th>width</th>\n",
       "      <td>601</td>\n",
       "    </tr>\n",
       "    <tr>\n",
       "      <th>doc</th>\n",
       "      <td>584</td>\n",
       "    </tr>\n",
       "    <tr>\n",
       "      <th>bit</th>\n",
       "      <td>576</td>\n",
       "    </tr>\n",
       "    <tr>\n",
       "      <th>install</th>\n",
       "      <td>573</td>\n",
       "    </tr>\n",
       "    <tr>\n",
       "      <th>08</th>\n",
       "      <td>557</td>\n",
       "    </tr>\n",
       "  </tbody>\n",
       "</table>\n",
       "</div>"
      ],
      "text/plain": [
       "         Frequency\n",
       "href          2171\n",
       "detail        1997\n",
       "summary       1942\n",
       "git           1181\n",
       "0             1142\n",
       "open          1059\n",
       "13             975\n",
       "img            922\n",
       "project        918\n",
       "2022           806\n",
       "src            766\n",
       "2              696\n",
       "clone          679\n",
       "app            678\n",
       "npm            651\n",
       "width          601\n",
       "doc            584\n",
       "bit            576\n",
       "install        573\n",
       "08             557"
      ]
     },
     "execution_count": 111,
     "metadata": {},
     "output_type": "execute_result"
    }
   ],
   "source": [
    "all_freq"
   ]
  },
  {
   "cell_type": "markdown",
   "id": "06a1c42a",
   "metadata": {},
   "source": [
    "**Seaborn palette**\n",
    "'Accent', 'Accent_r', 'Blues', 'Blues_r', 'BrBG', 'BrBG_r', 'BuGn', 'BuGn_r', 'BuPu', 'BuPu_r', 'CMRmap', 'CMRmap_r', 'Dark2', 'Dark2_r', 'GnBu', 'GnBu_r', 'Greens', 'Greens_r', 'Greys', 'Greys_r', 'OrRd', 'OrRd_r', 'Oranges', 'Oranges_r', 'PRGn', 'PRGn_r', 'Paired', 'Paired_r', 'Pastel1', 'Pastel1_r', 'Pastel2', 'Pastel2_r', 'PiYG', 'PiYG_r', 'PuBu', 'PuBuGn', 'PuBuGn_r', 'PuBu_r', 'PuOr', 'PuOr_r', 'PuRd', 'PuRd_r', 'Purples', 'Purples_r', 'RdBu', 'RdBu_r', 'RdGy', 'RdGy_r', 'RdPu', 'RdPu_r', 'RdYlBu', 'RdYlBu_r', 'RdYlGn', 'RdYlGn_r', 'Reds', 'Reds_r', 'Set1', 'Set1_r', 'Set2', 'Set2_r', 'Set3', 'Set3_r', 'Spectral', 'Spectral_r', 'Wistia', 'Wistia_r', 'YlGn', 'YlGnBu', 'YlGnBu_r', 'YlGn_r', 'YlOrBr', 'YlOrBr_r', 'YlOrRd', 'YlOrRd_r', 'afmhot', 'afmhot_r', 'autumn', 'autumn_r', 'binary', 'binary_r', 'bone', 'bone_r', 'brg', 'brg_r', 'bwr', 'bwr_r', 'cividis', 'cividis_r', 'cool', 'cool_r', 'coolwarm', 'coolwarm_r', 'copper', 'copper_r', 'crest', 'crest_r', 'cubehelix', 'cubehelix_r', 'flag', 'flag_r', 'flare', 'flare_r', 'gist_earth', 'gist_earth_r', 'gist_gray', 'gist_gray_r', 'gist_heat', 'gist_heat_r', 'gist_ncar', 'gist_ncar_r', 'gist_rainbow', 'gist_rainbow_r', 'gist_stern', 'gist_stern_r', 'gist_yarg', 'gist_yarg_r', 'gnuplot', 'gnuplot2', 'gnuplot2_r', 'gnuplot_r', 'gray', 'gray_r', 'hot', 'hot_r', 'hsv', 'hsv_r', 'icefire', 'icefire_r', 'inferno', 'inferno_r', 'jet', 'jet_r', 'magma', 'magma_r', 'mako', 'mako_r', 'nipy_spectral', 'nipy_spectral_r', 'ocean', 'ocean_r', 'pink', 'pink_r', 'plasma', 'plasma_r', 'prism', 'prism_r', 'rainbow', 'rainbow_r', 'rocket', 'rocket_r', 'seismic', 'seismic_r', 'spring', 'spring_r', 'summer', 'summer_r', 'tab10', 'tab10_r', 'tab20', 'tab20_r', 'tab20b', 'tab20b_r', 'tab20c', 'tab20c_r', 'terrain', 'terrain_r', 'turbo', 'turbo_r', 'twilight', 'twilight_r', 'twilight_shifted', 'twilight_shifted_r', 'viridis', 'viridis_r', 'vlag', 'vlag_r', 'winter', 'winter_r'"
   ]
  },
  {
   "cell_type": "code",
   "execution_count": 112,
   "id": "545dab35",
   "metadata": {},
   "outputs": [
    {
     "data": {
      "text/plain": [
       "<AxesSubplot:title={'center':'Top 20 Most Common Words in Metaverse READMEs'}, xlabel='Words', ylabel='Frequency'>"
      ]
     },
     "execution_count": 112,
     "metadata": {},
     "output_type": "execute_result"
    },
    {
     "data": {
      "image/png": "[encoded data removed]",
      "text/plain": [
       "<Figure size 1152x576 with 1 Axes>"
      ]
     },
     "metadata": {},
     "output_type": "display_data"
    }
   ],
   "source": [
    "# Visualize most frequent words\n",
    "plt.figure(figsize = (16,8))\n",
    "plt.xlabel('Words', fontsize = 15)\n",
    "plt.ylabel('Frequency', fontsize = 15)\n",
    "plt.title('Top 20 Most Common Words in Metaverse READMEs', fontsize = 20)\n",
    "sns.barplot(x=all_freq.index, y=all_freq.Frequency, palette ='Purples_r')"
   ]
  },
  {
   "cell_type": "markdown",
   "id": "71207e78",
   "metadata": {},
   "source": [
    "### Takeaway: '0', 'app', 'doc', 'create', 'img', 'next', 'project', 'run', etc. are the most common words."
   ]
  },
  {
   "cell_type": "markdown",
   "id": "1437aa63",
   "metadata": {},
   "source": [
    "***"
   ]
  },
  {
   "cell_type": "markdown",
   "id": "9f9af0de",
   "metadata": {},
   "source": [
    "## Question 2: Does the length of the README vary by programming language?"
   ]
  },
  {
   "cell_type": "code",
   "execution_count": 140,
   "id": "3b04d03d",
   "metadata": {},
   "outputs": [
    {
     "data": {
      "text/plain": [
       "text          177\n",
       "Java          159\n",
       "C              57\n",
       "TypeScript     40\n",
       "HTML           40\n",
       "other          22\n",
       "Python         18\n",
       "Solidity       15\n",
       "CSS            13\n",
       "Rust            9\n",
       "Go              8\n",
       "Name: language, dtype: int64"
      ]
     },
     "execution_count": 140,
     "metadata": {},
     "output_type": "execute_result"
    }
   ],
   "source": [
    "train.language.value_counts()"
   ]
  },
  {
   "cell_type": "code",
   "execution_count": 141,
   "id": "339e1610",
   "metadata": {},
   "outputs": [],
   "source": [
    "# Concatenate readme content together for each language\n",
    "text = ' '.join(train[train.language == 'text'].readme_contents)\n",
    "java = ' '.join(train[train.language == 'Java'].readme_contents)\n",
    "c = ' '.join(train[train.language == 'C'].readme_contents)\n",
    "typescript = ' '.join(train[train.language == 'TypeScript'].readme_contents)\n",
    "html = ' '.join(train[train.language == 'HTML'].readme_contents)\n",
    "other = ' '.join(train[train.language == 'other'].readme_contents)\n",
    "python = ' '.join(train[train.language == 'Python'].readme_contents)\n",
    "solidity = ' '.join(train[train.language == 'Solidity'].readme_contents)\n",
    "css = ' '.join(train[train.language == 'CSS'].readme_contents)\n",
    "rust = ' '.join(train[train.language == 'Rust'].readme_contents)\n",
    "go = ' '.join(train[train.language == 'Go'].readme_contents)"
   ]
  },
  {
   "cell_type": "code",
   "execution_count": 142,
   "id": "de5d0907",
   "metadata": {},
   "outputs": [],
   "source": [
    "# Putting all language content in a dataframe\n",
    "language = pd.DataFrame((text,java,c,typescript,html,other,python,solidity, css,rust,go), index =['text', 'java', 'c', 'typescript', 'html', 'other', 'python','solidity', 'css', 'rust', 'go'], columns = ['content'])"
   ]
  },
  {
   "cell_type": "code",
   "execution_count": 143,
   "id": "64f57251",
   "metadata": {},
   "outputs": [
    {
     "data": {
      "text/html": [
       "<div>\n",
       "<style scoped>\n",
       "    .dataframe tbody tr th:only-of-type {\n",
       "        vertical-align: middle;\n",
       "    }\n",
       "\n",
       "    .dataframe tbody tr th {\n",
       "        vertical-align: top;\n",
       "    }\n",
       "\n",
       "    .dataframe thead th {\n",
       "        text-align: right;\n",
       "    }\n",
       "</style>\n",
       "<table border=\"1\" class=\"dataframe\">\n",
       "  <thead>\n",
       "    <tr style=\"text-align: right;\">\n",
       "      <th></th>\n",
       "      <th>content</th>\n",
       "    </tr>\n",
       "  </thead>\n",
       "  <tbody>\n",
       "    <tr>\n",
       "      <th>text</th>\n",
       "      <td>text awesome awesome awesome badge svg awesome...</td>\n",
       "    </tr>\n",
       "    <tr>\n",
       "      <th>java</th>\n",
       "      <td>next tailwind cs show tailwind cs tailwindcss ...</td>\n",
       "    </tr>\n",
       "    <tr>\n",
       "      <th>c</th>\n",
       "      <td>project apollo goal create opensource server p...</td>\n",
       "    </tr>\n",
       "    <tr>\n",
       "      <th>typescript</th>\n",
       "      <td>getting started create react app project wa bo...</td>\n",
       "    </tr>\n",
       "    <tr>\n",
       "      <th>html</th>\n",
       "      <td>text  title metaversity foundation open social...</td>\n",
       "    </tr>\n",
       "    <tr>\n",
       "      <th>other</th>\n",
       "      <td>h1 align center img src 124135 361502 raikfcqu...</td>\n",
       "    </tr>\n",
       "    <tr>\n",
       "      <th>python</th>\n",
       "      <td>text blender toolkit blender add mvt addon plu...</td>\n",
       "    </tr>\n",
       "    <tr>\n",
       "      <th>solidity</th>\n",
       "      <td>metaverser' smart contract metaverser first bl...</td>\n",
       "    </tr>\n",
       "    <tr>\n",
       "      <th>css</th>\n",
       "      <td>h1 align center landing page h1 align center i...</td>\n",
       "    </tr>\n",
       "    <tr>\n",
       "      <th>rust</th>\n",
       "      <td>align center img src zero img favicon png widt...</td>\n",
       "    </tr>\n",
       "    <tr>\n",
       "      <th>go</th>\n",
       "      <td>project aim learn learn play video game wa typ...</td>\n",
       "    </tr>\n",
       "  </tbody>\n",
       "</table>\n",
       "</div>"
      ],
      "text/plain": [
       "                                                      content\n",
       "text        text awesome awesome awesome badge svg awesome...\n",
       "java        next tailwind cs show tailwind cs tailwindcss ...\n",
       "c           project apollo goal create opensource server p...\n",
       "typescript  getting started create react app project wa bo...\n",
       "html        text  title metaversity foundation open social...\n",
       "other       h1 align center img src 124135 361502 raikfcqu...\n",
       "python      text blender toolkit blender add mvt addon plu...\n",
       "solidity    metaverser' smart contract metaverser first bl...\n",
       "css         h1 align center landing page h1 align center i...\n",
       "rust        align center img src zero img favicon png widt...\n",
       "go          project aim learn learn play video game wa typ..."
      ]
     },
     "execution_count": 143,
     "metadata": {},
     "output_type": "execute_result"
    }
   ],
   "source": [
    "language"
   ]
  },
  {
   "cell_type": "code",
   "execution_count": 144,
   "id": "f3c3710d",
   "metadata": {},
   "outputs": [],
   "source": [
    "# Create length column that represents the total length of the content\n",
    "language['length'] = language.content.str.len()"
   ]
  },
  {
   "cell_type": "code",
   "execution_count": 145,
   "id": "a041c3db",
   "metadata": {},
   "outputs": [],
   "source": [
    "# Create count column -> the number of repo of each language\n",
    "language['count'] = [177, 159, 57, 40, 40, 22, 18, 15, 13, 9, 8]"
   ]
  },
  {
   "cell_type": "code",
   "execution_count": 163,
   "id": "8b93ceb9",
   "metadata": {},
   "outputs": [],
   "source": [
    "# Create avg length column represents the avg lenth of readme countent per language\n",
    "language['avg_length'] = language['length']/language['count']\n",
    "# Sort dataframe by avg length to show the longest readmes\n",
    "language = language.sort_values(by ='avg_length', ascending = False)"
   ]
  },
  {
   "cell_type": "code",
   "execution_count": 166,
   "id": "8d9c7f18",
   "metadata": {},
   "outputs": [
    {
     "data": {
      "text/plain": [
       "<AxesSubplot:title={'center':'Average README Length by Programming Language'}, xlabel='Programming Language', ylabel='avg_length'>"
      ]
     },
     "execution_count": 166,
     "metadata": {},
     "output_type": "execute_result"
    },
    {
     "data": {
      "image/png": "[encoded data removed]",
      "text/plain": [
       "<Figure size 1296x576 with 1 Axes>"
      ]
     },
     "metadata": {},
     "output_type": "display_data"
    }
   ],
   "source": [
    "# Visualize most frequent words\n",
    "plt.figure(figsize = (18,8))\n",
    "plt.xlabel('Programming Language', fontsize = 15)\n",
    "plt.ylabel('Avg README Length', fontsize = 15)\n",
    "plt.title('Average README Length by Programming Language', fontsize = 20)\n",
    "sns.barplot(x=language.index, y=language['avg_length'], palette ='Purples_r')"
   ]
  },
  {
   "cell_type": "markdown",
   "id": "fe35938f",
   "metadata": {},
   "source": [
    "### Takeaway:\n",
    "#### ◾ Yes, READMEs length vary by programming language.\n",
    "#### ◾ READMEs that have the longest length on average are Rust, text, Python, typescript, and other.\n",
    "#### ◾ READMEs that have the shortest length on average are HTML, CSS, GO, Java, and Solidity."
   ]
  },
  {
   "cell_type": "markdown",
   "id": "d6d63c4f",
   "metadata": {},
   "source": [
    "***"
   ]
  },
  {
   "cell_type": "markdown",
   "id": "4ff7f580",
   "metadata": {},
   "source": [
    "## Question 3: Do different programming languages use a different number of unique words?"
   ]
  },
  {
   "cell_type": "code",
   "execution_count": null,
   "id": "28e47fae",
   "metadata": {},
   "outputs": [],
   "source": []
  },
  {
   "cell_type": "markdown",
   "id": "9834a5ef",
   "metadata": {},
   "source": [
    "### Takeaway:"
   ]
  },
  {
   "cell_type": "markdown",
   "id": "809ab06e",
   "metadata": {},
   "source": [
    "***"
   ]
  },
  {
   "cell_type": "markdown",
   "id": "7a46357f",
   "metadata": {},
   "source": [
    "## Question 4: Are there any words that uniquely identify a programming language?"
   ]
  },
  {
   "cell_type": "code",
   "execution_count": null,
   "id": "414f0cfe",
   "metadata": {},
   "outputs": [],
   "source": []
  },
  {
   "cell_type": "markdown",
   "id": "8758b6c4",
   "metadata": {},
   "source": [
    "### Takeaway:"
   ]
  },
  {
   "cell_type": "markdown",
   "id": "dbed9071",
   "metadata": {},
   "source": [
    "***"
   ]
  },
  {
   "cell_type": "code",
   "execution_count": null,
   "id": "4612e0e2",
   "metadata": {},
   "outputs": [],
   "source": []
  }
 ],
 "metadata": {
  "kernelspec": {
   "display_name": "Python 3 (ipykernel)",
   "language": "python",
   "name": "python3"
  },
  "language_info": {
   "codemirror_mode": {
    "name": "ipython",
    "version": 3
   },
   "file_extension": ".py",
   "mimetype": "text/x-python",
   "name": "python",
   "nbconvert_exporter": "python",
   "pygments_lexer": "ipython3",
   "version": "3.9.12"
  }
 },
 "nbformat": 4,
 "nbformat_minor": 5
}
